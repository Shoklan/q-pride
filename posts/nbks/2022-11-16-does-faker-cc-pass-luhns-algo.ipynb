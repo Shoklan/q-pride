{
 "cells": [
  {
   "cell_type": "raw",
   "metadata": {},
   "source": [
    "---\n",
    "aliases:\n",
    "- /data/exploration/python/science/2022/11/16/does-faker-cc-pass-luhns-algo\n",
    "badges: false\n",
    "categories:\n",
    "- python\n",
    "- data\n",
    "- science\n",
    "- exploration\n",
    "comments: false\n",
    "date: '2022-11-16'\n",
    "description: How good is the fake generation?\n",
    "output-file: 2022-11-16-does-faker-cc-pass-luhns-algo.html\n",
    "title: Does The Faker Package Pass Luhn?\n",
    "toc: false\n",
    "\n",
    "---\n",
    "\n"
   ]
  },
  {
   "cell_type": "markdown",
   "metadata": {},
   "source": [
    "While taking a class about anonymizing data for public release, Rebeca Gonzalez discussed using the `Faker` python package to substitute real values for fake values to protect users. One of the functions listed is to generate fake credit card numbers for data.If you're not aware, there is a patented algorithm which must pass for a generated Credit Card number written by Hans Peter Luhn from IBM. The Algorithm is not complicated and we'll work through it now."
   ]
  },
  {
   "cell_type": "markdown",
   "metadata": {},
   "source": [
    "[Luhn's Algorithm](https://en.wikipedia.org/wiki/Luhn_algorithm):\n",
    "1. The algorithm first should split the number into two parts: the digits and the check value.\n",
    "2. For the digits and moving left to right:\n",
    "    1. If **Odd** position then multiply by 2 and return that number; if bigger than 10 return a modulo of it.\n",
    "    2. If **Even** then simply return that number.\n",
    "3. **Sum** the digits after the above computation.\n",
    "4. Take the modulo 10 of the sum and subtract it from 10.\n",
    "5. Compare the last digit against the excluded digit and they should match."
   ]
  },
  {
   "cell_type": "markdown",
   "metadata": {},
   "source": [
    "We will skip the first step since it will be an easy split for now. We'll want a function which deals with step 2."
   ]
  },
  {
   "cell_type": "code",
   "execution_count": 1,
   "metadata": {},
   "outputs": [
    {
     "data": {
      "text/plain": [
       "(7, 8)"
      ]
     },
     "execution_count": 1,
     "metadata": {},
     "output_type": "execute_result"
    }
   ],
   "source": [
    "# Apply to each Digit\n",
    "def luhnSingleDigit( digit, even = True):\n",
    "    if even:\n",
    "       # if even, modify and return\n",
    "        n =  int(digit) * 2\n",
    "        if n == 10: return 0\n",
    "        if n >= 10: return 1 + n % 10\n",
    "        return n\n",
    "    else:\n",
    "        # If position is odd, return itself\n",
    "        return int(digit)\n",
    "\n",
    "luhnSingleDigit(8), luhnSingleDigit(8, even = False)"
   ]
  },
  {
   "cell_type": "markdown",
   "metadata": {},
   "source": [
    "Now we'll need to iterate through each digits and so we'll need a fake credit card number. I will reverse the order of the digits since it will be easier than trying to count backwards when we iterate through the digits."
   ]
  },
  {
   "cell_type": "code",
   "execution_count": 2,
   "metadata": {},
   "outputs": [
    {
     "data": {
      "text/plain": [
       "('56086526834343', '5')"
      ]
     },
     "execution_count": 2,
     "metadata": {},
     "output_type": "execute_result"
    }
   ],
   "source": [
    "from faker import Faker\n",
    "fake = Faker()\n",
    "cc = fake.credit_card_number()\n",
    "\n",
    "# reverse the digits\n",
    "digits, parity = cc[:-1:][::-1], cc[-1]\n",
    "digits, parity "
   ]
  },
  {
   "cell_type": "markdown",
   "metadata": {},
   "source": [
    "We will iterate through the digits via list comprehension in python - which is how we're going to do next. You can have an if-else included in a list comprehension which we'll need to tell the code which flagged version to use."
   ]
  },
  {
   "cell_type": "code",
   "execution_count": 3,
   "metadata": {},
   "outputs": [
    {
     "data": {
      "text/plain": [
       "[0, 0, 2, 0, 4, 0, 6, 0, 8, 0, 10, 0, 12, 0, 14, 0, 16, 0, 18, 0]"
      ]
     },
     "execution_count": 3,
     "metadata": {},
     "output_type": "execute_result"
    }
   ],
   "source": [
    "# Test the filter and make sure it works\n",
    "[0 if i % 2 == 1 else x for i, x in enumerate(range(20))]"
   ]
  },
  {
   "cell_type": "markdown",
   "metadata": {},
   "source": [
    "Now we'll throw the function in there to test it."
   ]
  },
  {
   "cell_type": "code",
   "execution_count": 4,
   "metadata": {},
   "outputs": [
    {
     "data": {
      "text/plain": [
       "[0, 6, 0, 8, 3, 5, 4, 6, 7, 3, 8, 3, 8, 3]"
      ]
     },
     "execution_count": 4,
     "metadata": {},
     "output_type": "execute_result"
    }
   ],
   "source": [
    "[ luhnSingleDigit(x, even = False) if i % 2 == 1 else luhnSingleDigit(x) for i, x in enumerate(digits) ]"
   ]
  },
  {
   "cell_type": "markdown",
   "metadata": {},
   "source": [
    "Next we have to sum them all together and take the last digit."
   ]
  },
  {
   "cell_type": "code",
   "execution_count": 5,
   "metadata": {},
   "outputs": [
    {
     "data": {
      "text/plain": [
       "64"
      ]
     },
     "execution_count": 5,
     "metadata": {},
     "output_type": "execute_result"
    }
   ],
   "source": [
    "theSum = sum([ luhnSingleDigit(x, even = False) if i % 2 == 1 else luhnSingleDigit(x) for i, x in enumerate(digits) ])\n",
    "theSum"
   ]
  },
  {
   "cell_type": "markdown",
   "metadata": {},
   "source": [
    "Lastly, we do the modulo 10, subtract 10 from the computed sum and compare it to the parity digit"
   ]
  },
  {
   "cell_type": "code",
   "execution_count": 6,
   "metadata": {},
   "outputs": [
    {
     "data": {
      "text/plain": [
       "(64, 6, False)"
      ]
     },
     "execution_count": 6,
     "metadata": {},
     "output_type": "execute_result"
    }
   ],
   "source": [
    "theSum, 10 - theSum % 10, 10 - theSum % 10 == parity"
   ]
  },
  {
   "cell_type": "markdown",
   "metadata": {},
   "source": [
    "It was not valid credit card number! <br />\n",
    "Let's get those steps into a function  and time it to see how long it takes. And, let's get about 100 of these numbers to check just in case it was a fluke."
   ]
  },
  {
   "cell_type": "code",
   "execution_count": 7,
   "metadata": {},
   "outputs": [],
   "source": [
    "def confirmLuhn(number):\n",
    "    digits, parity = cc[:-1:][::-1], cc[-1]\n",
    "    theSum = sum([\n",
    "        luhnSingleDigit(x, even = False) if i % 2 == 1\n",
    "        else luhnSingleDigit(x)\n",
    "        for i, x in enumerate(digits) ]\n",
    "    )\n",
    "\n",
    "    return 10 - theSum % 10 == parity"
   ]
  },
  {
   "cell_type": "markdown",
   "metadata": {},
   "source": [
    "One thing I noticed from the output in the lectures was that there were different length fake card numbers; is that the case here too?"
   ]
  },
  {
   "cell_type": "code",
   "execution_count": 8,
   "metadata": {},
   "outputs": [
    {
     "data": {
      "text/plain": [
       "15.47"
      ]
     },
     "execution_count": 8,
     "metadata": {},
     "output_type": "execute_result"
    }
   ],
   "source": [
    "import numpy as np\n",
    "numbers = [ fake.credit_card_number() for _ in range(100)]\n",
    "np.mean([len(n) for n in numbers])"
   ]
  },
  {
   "cell_type": "markdown",
   "metadata": {},
   "source": [
    "That's correct. Some of them are simply too short to be a valid credit card number. I'm not sure why this is but that's beyond the scope of this post so we will simply filter them and move on."
   ]
  },
  {
   "cell_type": "code",
   "execution_count": 9,
   "metadata": {},
   "outputs": [
    {
     "data": {
      "text/plain": [
       "51"
      ]
     },
     "execution_count": 9,
     "metadata": {},
     "output_type": "execute_result"
    }
   ],
   "source": [
    "filteredNumbers = list(filter( lambda x: len(x) == 16, numbers))\n",
    "len(filteredNumbers)"
   ]
  },
  {
   "cell_type": "markdown",
   "metadata": {},
   "source": [
    "Ouch. That's a lot misses. Ok, on to the main event!"
   ]
  },
  {
   "cell_type": "code",
   "execution_count": 10,
   "metadata": {},
   "outputs": [
    {
     "name": "stdout",
     "output_type": "stream",
     "text": [
      "179 µs ± 820 ns per loop (mean ± std. dev. of 7 runs, 10,000 loops each)\n"
     ]
    }
   ],
   "source": [
    "%timeit sum([confirmLuhn(c) for c in filteredNumbers])"
   ]
  },
  {
   "cell_type": "code",
   "execution_count": 11,
   "metadata": {},
   "outputs": [
    {
     "data": {
      "text/plain": [
       "0"
      ]
     },
     "execution_count": 11,
     "metadata": {},
     "output_type": "execute_result"
    }
   ],
   "source": [
    "sum([confirmLuhn(c) for c in filteredNumbers])"
   ]
  },
  {
   "cell_type": "markdown",
   "metadata": {},
   "source": [
    "So, it looks like there were no valid credit card numbers in the list but at least it was fast. Good to know that the numbers being generated are not constricted to valid numbers."
   ]
  }
 ],
 "metadata": {
  "kernelspec": {
   "display_name": "Python 3.10.8 64-bit",
   "language": "python",
   "name": "python3"
  },
  "language_info": {
   "codemirror_mode": {
    "name": "ipython",
    "version": 3
   },
   "file_extension": ".py",
   "mimetype": "text/x-python",
   "name": "python",
   "nbconvert_exporter": "python",
   "pygments_lexer": "ipython3",
   "version": "3.10.8"
  },
  "orig_nbformat": 4,
  "vscode": {
   "interpreter": {
    "hash": "d2152fd7f0bbc62aa1baff8c990435d1e2c7175d001561303988032604c11a48"
   }
  }
 },
 "nbformat": 4,
 "nbformat_minor": 2
}
