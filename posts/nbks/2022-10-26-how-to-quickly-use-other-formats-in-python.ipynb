{
 "cells": [
  {
   "cell_type": "raw",
   "metadata": {},
   "source": [
    "---\n",
    "aliases:\n",
    "- /data/download/python/r/rda/2022/10/26/how-to-quickly-use-other-formats-in-python\n",
    "badges: false\n",
    "categories:\n",
    "- python\n",
    "- data\n",
    "- r\n",
    "- rda\n",
    "- download\n",
    "comments: false\n",
    "date: '2022-10-26'\n",
    "description: Or, Delete the Intermediate When Collecting Data.\n",
    "output-file: 2022-10-26-how-to-quickly-use-other-formats-in-python.html\n",
    "title: Collecting External Data for Python.\n",
    "toc: false\n",
    "\n",
    "---\n",
    "\n"
   ]
  },
  {
   "cell_type": "markdown",
   "metadata": {},
   "source": [
    "While preparing for some upcoming blog posts taking material from **Design and Analysis of Experiments With R** by *John Lawson*, I wanted to convert the problems and solutions from `R` code to `Python` code. Diong this will require using the real data and - luckily - the data from the book is online on [Github](https://github.com/cran/daewr). Due to how these packages are, the [data](https://github.com/cran/daewr/tree/master/data) is uploaded and kept as binary data which we can use. Unfortunately, the data is in the `.rda` format which doesn't convert easily into python."
   ]
  },
  {
   "cell_type": "markdown",
   "metadata": {},
   "source": [
    "There is a package for this to convert the data: `pyreadr`. Which we're doing to use to convert the data into a dataframe Python understands. Sadly, this package doesn't handle urls so we'll need to download the data first. We could clone out the whole repository to collect the data but then we'd have to start manually managing the data - which I don't want to do."
   ]
  },
  {
   "cell_type": "markdown",
   "metadata": {},
   "source": [
    "After a bit of working around, we can use the `tempfile` builtin package from Python to create a temporary file to dump the data into. This is useful since these will be deleted after it's `.close()` is called on the file. But, we'll want a Named version since we want this accessible to the file system:\n",
    "> This function operates exactly as TemporaryFile() does, except that the file is guaranteed to have a visible name in the file system (on Unix, the directory entry is not unlinked). That name can be retrieved from the name attribute of the returned file-like object. Whether the name can be used to open the file a second time, while the named temporary file is still open, varies across platforms (it can be so used on Unix; it cannot on Windows).\n",
    "\n",
    "[Source](https://docs.python.org/3/library/tempfile.html#tempfile.NamedTemporaryFile)"
   ]
  },
  {
   "cell_type": "markdown",
   "metadata": {},
   "source": [
    "We'll use the `requests` library to pull the data from the internet since it's builtin and easy to use."
   ]
  },
  {
   "cell_type": "code",
   "execution_count": 2,
   "metadata": {},
   "outputs": [],
   "source": [
    "# !pip install pyreadr\n",
    "import pyreadr as pyr\n",
    "import tempfile as tmp\n",
    "import requests as r"
   ]
  },
  {
   "cell_type": "markdown",
   "metadata": {},
   "source": [
    "One caveat here is that you'll need to rewind the read location in the file to read the temporary file otherwise you'll get an **LibrdataError: Unable to read from file**."
   ]
  },
  {
   "cell_type": "code",
   "execution_count": 7,
   "metadata": {},
   "outputs": [
    {
     "data": {
      "text/html": [
       "<div>\n",
       "<style scoped>\n",
       "    .dataframe tbody tr th:only-of-type {\n",
       "        vertical-align: middle;\n",
       "    }\n",
       "\n",
       "    .dataframe tbody tr th {\n",
       "        vertical-align: top;\n",
       "    }\n",
       "\n",
       "    .dataframe thead th {\n",
       "        text-align: right;\n",
       "    }\n",
       "</style>\n",
       "<table border=\"1\" class=\"dataframe\">\n",
       "  <thead>\n",
       "    <tr style=\"text-align: right;\">\n",
       "      <th></th>\n",
       "      <th>0</th>\n",
       "      <th>1</th>\n",
       "      <th>2</th>\n",
       "      <th>3</th>\n",
       "      <th>4</th>\n",
       "      <th>5</th>\n",
       "      <th>6</th>\n",
       "      <th>7</th>\n",
       "      <th>8</th>\n",
       "      <th>9</th>\n",
       "      <th>10</th>\n",
       "      <th>11</th>\n",
       "      <th>12</th>\n",
       "      <th>13</th>\n",
       "      <th>14</th>\n",
       "    </tr>\n",
       "  </thead>\n",
       "  <tbody>\n",
       "    <tr>\n",
       "      <th>lab</th>\n",
       "      <td>A</td>\n",
       "      <td>A</td>\n",
       "      <td>A</td>\n",
       "      <td>A</td>\n",
       "      <td>A</td>\n",
       "      <td>A</td>\n",
       "      <td>A</td>\n",
       "      <td>B</td>\n",
       "      <td>B</td>\n",
       "      <td>B</td>\n",
       "      <td>B</td>\n",
       "      <td>B</td>\n",
       "      <td>B</td>\n",
       "      <td>B</td>\n",
       "      <td>B</td>\n",
       "    </tr>\n",
       "    <tr>\n",
       "      <th>conc</th>\n",
       "      <td>1.195</td>\n",
       "      <td>1.144</td>\n",
       "      <td>1.167</td>\n",
       "      <td>1.249</td>\n",
       "      <td>1.177</td>\n",
       "      <td>1.217</td>\n",
       "      <td>1.187</td>\n",
       "      <td>1.155</td>\n",
       "      <td>1.173</td>\n",
       "      <td>1.171</td>\n",
       "      <td>1.175</td>\n",
       "      <td>1.153</td>\n",
       "      <td>1.139</td>\n",
       "      <td>1.185</td>\n",
       "      <td>1.144</td>\n",
       "    </tr>\n",
       "  </tbody>\n",
       "</table>\n",
       "</div>"
      ],
      "text/plain": [
       "         0      1      2      3      4      5      6      7      8      9   \\\n",
       "lab       A      A      A      A      A      A      A      B      B      B   \n",
       "conc  1.195  1.144  1.167  1.249  1.177  1.217  1.187  1.155  1.173  1.171   \n",
       "\n",
       "         10     11     12     13     14  \n",
       "lab       B      B      B      B      B  \n",
       "conc  1.175  1.153  1.139  1.185  1.144  "
      ]
     },
     "execution_count": 7,
     "metadata": {},
     "output_type": "execute_result"
    }
   ],
   "source": [
    "with tmp.NamedTemporaryFile() as f:\n",
    "    something = r.get(\"https://github.com/cran/daewr/raw/master/data/Apo.rda\").content\n",
    "    f.write(something)\n",
    "    f.seek(0)\n",
    "    data = pyr.read_r(f.name)['Apo']\n",
    "\n",
    "data.head(15).T"
   ]
  },
  {
   "cell_type": "markdown",
   "metadata": {},
   "source": [
    "There we go! You can use this as a simple way to collect data from the internet and feed it into a package which doesn't support urls to read in data. You can expect its usage in the near future while I work through the textbook."
   ]
  }
 ],
 "metadata": {
  "kernelspec": {
   "display_name": "Python 3.10.7 64-bit",
   "language": "python",
   "name": "python3"
  },
  "language_info": {
   "codemirror_mode": {
    "name": "ipython",
    "version": 3
   },
   "file_extension": ".py",
   "mimetype": "text/x-python",
   "name": "python",
   "nbconvert_exporter": "python",
   "pygments_lexer": "ipython3",
   "version": "3.10.7"
  },
  "orig_nbformat": 4,
  "vscode": {
   "interpreter": {
    "hash": "e7370f93d1d0cde622a1f8e1c04877d8463912d04d973331ad4851f04de6915a"
   }
  }
 },
 "nbformat": 4,
 "nbformat_minor": 2
}
