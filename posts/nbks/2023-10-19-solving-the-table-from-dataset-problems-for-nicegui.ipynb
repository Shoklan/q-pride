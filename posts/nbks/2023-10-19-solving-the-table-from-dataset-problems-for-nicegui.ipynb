{
 "cells": [
  {
   "cell_type": "raw",
   "metadata": {},
   "source": [
    "---\n",
    "title: \"Translating Data Frames For NiceGui\"\n",
    "description: \n",
    "categories:\n",
    "- python\n",
    "- nicegui\n",
    "- data analyst\n",
    "date: '2023-10-20'\n",
    "layout: post\n",
    "toc: true\n",
    "---"
   ]
  },
  {
   "cell_type": "markdown",
   "metadata": {},
   "source": [
    "# Nicegui Leans Towards Design\n",
    "Among all the wonderful little tools online, [Nicegui](https://nicegui.io) is definitely a growing favorite. This web framework for User Application Interfaces is beautful, fast and very customizable. It comes will all the little bells and whistles: easy input fields, builtins for modifying the styles of elements on the webpage, synced inputs for color pickers or dates and fields. You basically name what you need and it comes basically right out of the box. It even uses the python's `with` keyword to nest fields and forms in the structure of the webpage."
   ]
  },
  {
   "cell_type": "markdown",
   "metadata": {},
   "source": [
    "## Found a Problem\n",
    "I've been playing around with it by trying to convert [these 12 Data Science Applications](https://youtu.be/JwSS70SZdyM?si=ycm0JDC6fH1mdtiK) from Streamlit to Nicegui for practice and while working on the second application ran into a problem: converting a data frame to a table is not straightforward.\n",
    "\n",
    "The documentation for this shows you can add a table by bulding it out of the rows and columns:\n",
    "```python\n",
    "from nicegui import ui\n",
    "\n",
    "columns = [\n",
    "    {'name': 'name', 'label': 'Name', 'field': 'name', 'required': True},\n",
    "    {'name': 'age', 'label': 'Age', 'field': 'age', 'sortable': True},\n",
    "]\n",
    "rows = [\n",
    "    {'id': 0, 'name': 'Alice', 'age': 18},\n",
    "    {'id': 1, 'name': 'Bob', 'age': 21},\n",
    "    {'id': 2, 'name': 'Lionel', 'age': 19},\n",
    "    {'id': 3, 'name': 'Michael', 'age': 32},\n",
    "    {'id': 4, 'name': 'Julie', 'age': 12},\n",
    "    {'id': 5, 'name': 'Livia', 'age': 25},\n",
    "    {'id': 6, 'name': 'Carol'},\n",
    "]\n",
    "\n",
    "# This is where the table info comes in:\n",
    "ui.table(columns=nColumns, rows=rows, row_key='name')\n",
    "ui.run()\n",
    "```\n",
    "\n",
    "![](images/2023-10-19/simple-table-example-nicegui.png)\n",
    "\n",
    "From this functions expectations, we need the columns and the rows separated apart from one another - **and** as a list of dictionaries. Sadly, there is no helper function to pull a data frame apart and feed the table function.\n",
    "So, I'm going to do it instead since this will come up just about every time I plan to use the tables."
   ]
  },
  {
   "cell_type": "markdown",
   "metadata": {},
   "source": [
    "## Split Apart\n",
    "We'll use the Iris Dataset to protoype this and pull it from `sklearn`."
   ]
  },
  {
   "cell_type": "code",
   "execution_count": 5,
   "metadata": {},
   "outputs": [],
   "source": [
    "from sklearn import datasets\n",
    "iris = datasets.load_iris()"
   ]
  },
  {
   "cell_type": "markdown",
   "metadata": {},
   "source": [
    "Looking at the structure of what `sklearn` calls a `Bunch`, this is a dictionary with keys containing everything we should need from this dataset:"
   ]
  },
  {
   "cell_type": "code",
   "execution_count": 6,
   "metadata": {},
   "outputs": [
    {
     "data": {
      "text/plain": [
       "dict_keys(['data', 'target', 'frame', 'target_names', 'DESCR', 'feature_names', 'filename', 'data_module'])"
      ]
     },
     "execution_count": 6,
     "metadata": {},
     "output_type": "execute_result"
    }
   ],
   "source": [
    "iris.keys()"
   ]
  },
  {
   "cell_type": "markdown",
   "metadata": {},
   "source": [
    "First we will work on fixing the columns since this will be easier - and we'll need them to build the rows later. Looking at what **must** be included for this to work, we will need:\n",
    "1. The *Name* of the column.\n",
    "2. The *Visual Label* of the column.\n",
    "3. The *Field* of the Column.\n",
    "\n",
    "Playing around with this, the *Field* acts as a binding between the rows and the columns so it cannot be removed. The `Name` *can* be removed but it's included in the documentation so I'm going to assume it needs it for some feature I am as yet unfamiliar with. We will need a dictionary per each column name so this calls for a list comprehension built from the `feature_names` key of our `Bunch`."
   ]
  },
  {
   "cell_type": "code",
   "execution_count": 12,
   "metadata": {},
   "outputs": [
    {
     "name": "stdout",
     "output_type": "stream",
     "text": [
      "[ { 'field': 'sepal length (cm)',\n",
      "    'label': 'Sepal length (cm)',\n",
      "    'name': 'sepal length (cm)'},\n",
      "  { 'field': 'sepal width (cm)',\n",
      "    'label': 'Sepal width (cm)',\n",
      "    'name': 'sepal width (cm)'},\n",
      "  { 'field': 'petal length (cm)',\n",
      "    'label': 'Petal length (cm)',\n",
      "    'name': 'petal length (cm)'},\n",
      "  { 'field': 'petal width (cm)',\n",
      "    'label': 'Petal width (cm)',\n",
      "    'name': 'petal width (cm)'}]\n"
     ]
    }
   ],
   "source": [
    "from pprint import pprint\n",
    "columns = iris.feature_names\n",
    "# (new) Columns, not (number)\n",
    "nColumns = [{'name':l, 'label': l.capitalize(), 'field':l} for l in columns]\n",
    "pprint(nColumns, indent=2)"
   ]
  },
  {
   "cell_type": "markdown",
   "metadata": {},
   "source": [
    "### Now the Rows\n",
    "Thankfully, python gives us [Dictionary Comprehensions](https://www.geeksforgeeks.org/python-dictionary-comprehension/) so we can quickly build the dictionaries for every row from the data we have. We will need to add these to a list since the function expects the rows in that format. One example includes an `id` column but I'm going to throw that away since I don't care about it; you might need it for sorting which I have disabled for this code. It's a simple add-back if we need it."
   ]
  },
  {
   "cell_type": "code",
   "execution_count": 14,
   "metadata": {},
   "outputs": [
    {
     "data": {
      "text/plain": [
       "{'sepal length (cm)': 5.1,\n",
       " 'sepal width (cm)': 3.5,\n",
       " 'petal length (cm)': 1.4,\n",
       " 'petal width (cm)': 0.2}"
      ]
     },
     "execution_count": 14,
     "metadata": {},
     "output_type": "execute_result"
    }
   ],
   "source": [
    "rows = []\n",
    "for _,row in enumerate(iris.data):\n",
    "  rows.append({\n",
    "    k:v                   # The column name, row value pairing\n",
    "    for (k,v)             # from the tuple (colname, value)\n",
    "    in zip(columns, row)  # tuple up each column, value pairing\n",
    "})\n",
    "rows[0]"
   ]
  },
  {
   "cell_type": "markdown",
   "metadata": {},
   "source": [
    "Now we add it all together to get the final result:\n",
    "```python\n",
    "from nicegui import ui\n",
    "from sklearn import datasets\n",
    "\n",
    "iris = datasets.load_iris()\n",
    "nColumns = [\n",
    "    {'name': 'name', 'label': 'Name', 'field': 'name'},\n",
    "    {'name': 'age', 'label': 'Age', 'field': 'age'},\n",
    "]\n",
    "\n",
    "columns = iris.feature_names\n",
    "nColumns = [{'name':l, 'label': l.capitalize(), 'field':l} for l in columns]\n",
    "\n",
    "rows = []\n",
    "for i,row in enumerate(iris.data):\n",
    "  rows.append({k:v for (k,v) in zip(columns, row)})\n",
    "\n",
    "ui.table(\n",
    "    columns=nColumns,\n",
    "    rows=rows,\n",
    "    pagination=20)\n",
    "\n",
    "ui.run()\n",
    "```\n",
    "\n",
    "![](images/2023-10-19/fixed-table-example-nicegui.png)\n",
    "\n",
    "There is our working code so now we just need a simple function to wrap all this up; we'll update it slightly to expect a data frame though just to make this for real world code."
   ]
  },
  {
   "cell_type": "code",
   "execution_count": 24,
   "metadata": {},
   "outputs": [
    {
     "data": {
      "text/html": [
       "<div>\n",
       "<style scoped>\n",
       "    .dataframe tbody tr th:only-of-type {\n",
       "        vertical-align: middle;\n",
       "    }\n",
       "\n",
       "    .dataframe tbody tr th {\n",
       "        vertical-align: top;\n",
       "    }\n",
       "\n",
       "    .dataframe thead th {\n",
       "        text-align: right;\n",
       "    }\n",
       "</style>\n",
       "<table border=\"1\" class=\"dataframe\">\n",
       "  <thead>\n",
       "    <tr style=\"text-align: right;\">\n",
       "      <th></th>\n",
       "      <th>sepallength</th>\n",
       "      <th>sepalwidth</th>\n",
       "      <th>petallength</th>\n",
       "      <th>petalwidth</th>\n",
       "      <th>class</th>\n",
       "    </tr>\n",
       "  </thead>\n",
       "  <tbody>\n",
       "    <tr>\n",
       "      <th>0</th>\n",
       "      <td>5.1</td>\n",
       "      <td>3.5</td>\n",
       "      <td>1.4</td>\n",
       "      <td>0.2</td>\n",
       "      <td>Iris-setosa</td>\n",
       "    </tr>\n",
       "    <tr>\n",
       "      <th>1</th>\n",
       "      <td>4.9</td>\n",
       "      <td>3.0</td>\n",
       "      <td>1.4</td>\n",
       "      <td>0.2</td>\n",
       "      <td>Iris-setosa</td>\n",
       "    </tr>\n",
       "    <tr>\n",
       "      <th>2</th>\n",
       "      <td>4.7</td>\n",
       "      <td>3.2</td>\n",
       "      <td>1.3</td>\n",
       "      <td>0.2</td>\n",
       "      <td>Iris-setosa</td>\n",
       "    </tr>\n",
       "    <tr>\n",
       "      <th>3</th>\n",
       "      <td>4.6</td>\n",
       "      <td>3.1</td>\n",
       "      <td>1.5</td>\n",
       "      <td>0.2</td>\n",
       "      <td>Iris-setosa</td>\n",
       "    </tr>\n",
       "    <tr>\n",
       "      <th>4</th>\n",
       "      <td>5.0</td>\n",
       "      <td>3.6</td>\n",
       "      <td>1.4</td>\n",
       "      <td>0.2</td>\n",
       "      <td>Iris-setosa</td>\n",
       "    </tr>\n",
       "    <tr>\n",
       "      <th>5</th>\n",
       "      <td>5.4</td>\n",
       "      <td>3.9</td>\n",
       "      <td>1.7</td>\n",
       "      <td>0.4</td>\n",
       "      <td>Iris-setosa</td>\n",
       "    </tr>\n",
       "    <tr>\n",
       "      <th>6</th>\n",
       "      <td>4.6</td>\n",
       "      <td>3.4</td>\n",
       "      <td>1.4</td>\n",
       "      <td>0.3</td>\n",
       "      <td>Iris-setosa</td>\n",
       "    </tr>\n",
       "    <tr>\n",
       "      <th>7</th>\n",
       "      <td>5.0</td>\n",
       "      <td>3.4</td>\n",
       "      <td>1.5</td>\n",
       "      <td>0.2</td>\n",
       "      <td>Iris-setosa</td>\n",
       "    </tr>\n",
       "    <tr>\n",
       "      <th>8</th>\n",
       "      <td>4.4</td>\n",
       "      <td>2.9</td>\n",
       "      <td>1.4</td>\n",
       "      <td>0.2</td>\n",
       "      <td>Iris-setosa</td>\n",
       "    </tr>\n",
       "    <tr>\n",
       "      <th>9</th>\n",
       "      <td>4.9</td>\n",
       "      <td>3.1</td>\n",
       "      <td>1.5</td>\n",
       "      <td>0.1</td>\n",
       "      <td>Iris-setosa</td>\n",
       "    </tr>\n",
       "    <tr>\n",
       "      <th>10</th>\n",
       "      <td>5.4</td>\n",
       "      <td>3.7</td>\n",
       "      <td>1.5</td>\n",
       "      <td>0.2</td>\n",
       "      <td>Iris-setosa</td>\n",
       "    </tr>\n",
       "    <tr>\n",
       "      <th>11</th>\n",
       "      <td>4.8</td>\n",
       "      <td>3.4</td>\n",
       "      <td>1.6</td>\n",
       "      <td>0.2</td>\n",
       "      <td>Iris-setosa</td>\n",
       "    </tr>\n",
       "    <tr>\n",
       "      <th>12</th>\n",
       "      <td>4.8</td>\n",
       "      <td>3.0</td>\n",
       "      <td>1.4</td>\n",
       "      <td>0.1</td>\n",
       "      <td>Iris-setosa</td>\n",
       "    </tr>\n",
       "    <tr>\n",
       "      <th>13</th>\n",
       "      <td>4.3</td>\n",
       "      <td>3.0</td>\n",
       "      <td>1.1</td>\n",
       "      <td>0.1</td>\n",
       "      <td>Iris-setosa</td>\n",
       "    </tr>\n",
       "    <tr>\n",
       "      <th>14</th>\n",
       "      <td>5.8</td>\n",
       "      <td>4.0</td>\n",
       "      <td>1.2</td>\n",
       "      <td>0.2</td>\n",
       "      <td>Iris-setosa</td>\n",
       "    </tr>\n",
       "  </tbody>\n",
       "</table>\n",
       "</div>"
      ],
      "text/plain": [
       "    sepallength  sepalwidth  petallength  petalwidth        class\n",
       "0           5.1         3.5          1.4         0.2  Iris-setosa\n",
       "1           4.9         3.0          1.4         0.2  Iris-setosa\n",
       "2           4.7         3.2          1.3         0.2  Iris-setosa\n",
       "3           4.6         3.1          1.5         0.2  Iris-setosa\n",
       "4           5.0         3.6          1.4         0.2  Iris-setosa\n",
       "5           5.4         3.9          1.7         0.4  Iris-setosa\n",
       "6           4.6         3.4          1.4         0.3  Iris-setosa\n",
       "7           5.0         3.4          1.5         0.2  Iris-setosa\n",
       "8           4.4         2.9          1.4         0.2  Iris-setosa\n",
       "9           4.9         3.1          1.5         0.1  Iris-setosa\n",
       "10          5.4         3.7          1.5         0.2  Iris-setosa\n",
       "11          4.8         3.4          1.6         0.2  Iris-setosa\n",
       "12          4.8         3.0          1.4         0.1  Iris-setosa\n",
       "13          4.3         3.0          1.1         0.1  Iris-setosa\n",
       "14          5.8         4.0          1.2         0.2  Iris-setosa"
      ]
     },
     "execution_count": 24,
     "metadata": {},
     "output_type": "execute_result"
    }
   ],
   "source": [
    "import pandas as pd\n",
    "iris = pd.read_csv(\"https://datahub.io/machine-learning/iris/r/iris.csv\")\n",
    "iris.head(15)"
   ]
  },
  {
   "cell_type": "code",
   "execution_count": 23,
   "metadata": {},
   "outputs": [],
   "source": [
    "def df_to_nui(df):\n",
    "    columns = df.columns\n",
    "    nColumns = [{'name':l, 'label': l.capitalize(), 'field':l} for l in columns]\n",
    "\n",
    "    rows = []\n",
    "    for row in df.iterrows():\n",
    "        rows.append({\n",
    "            k:v\n",
    "            for (k,v) \n",
    "            in zip(columns, row[1])\n",
    "    })\n",
    "\n",
    "    return (nColumns, rows)"
   ]
  },
  {
   "cell_type": "markdown",
   "metadata": {},
   "source": [
    "And, our final working code:\n",
    "```python\n",
    "from nicegui import ui\n",
    "from sklearn import datasets\n",
    "\n",
    "def df_to_nui(df):\n",
    "    columns = df.columns\n",
    "    nColumns = [{'name':l, 'label': l.capitalize(), 'field':l} for l in columns]\n",
    "\n",
    "    rows = []\n",
    "    for row in df.iterrows():\n",
    "        rows.append({k:v for (k,v) in zip(columns, row[1])})\n",
    "\n",
    "    return (nColumns, rows)\n",
    "\n",
    "\n",
    "import pandas as pd\n",
    "iris = pd.read_csv(\"https://datahub.io/machine-learning/iris/r/iris.csv\")\n",
    "nColumns, rows = df_to_nui(iris)\n",
    "\n",
    "ui.table(\n",
    "    columns=nColumns,\n",
    "    rows=rows,\n",
    "    pagination=20)\n",
    "\n",
    "ui.run()\n",
    "```"
   ]
  },
  {
   "cell_type": "markdown",
   "metadata": {},
   "source": [
    "# Conclusions and Thoughts\n",
    "Hopefully this inspires you to try out the framework along with making using data frames easier to manage. There are some improvements to this which would be nice - such as the columns being sortable which does not work currently - but those should simply be dictionary updates per field. Maybe as I work more with all this I'll need this feature and will update it but for now this works."
   ]
  }
 ],
 "metadata": {
  "kernelspec": {
   "display_name": "Python 3",
   "language": "python",
   "name": "python3"
  },
  "language_info": {
   "codemirror_mode": {
    "name": "ipython",
    "version": 3
   },
   "file_extension": ".py",
   "mimetype": "text/x-python",
   "name": "python",
   "nbconvert_exporter": "python",
   "pygments_lexer": "ipython3",
   "version": "3.9.2"
  },
  "orig_nbformat": 4
 },
 "nbformat": 4,
 "nbformat_minor": 2
}
