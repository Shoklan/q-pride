{
 "cells": [
  {
   "cell_type": "raw",
   "metadata": {},
   "source": [
    "---\n",
    "aliases:\n",
    "- /analyst/cache/code/data/db/python/scientist/2022/11/10/simple-idea-using-memcached\n",
    "badges: false\n",
    "categories:\n",
    "- python\n",
    "- code\n",
    "- data\n",
    "- scientist\n",
    "- analyst\n",
    "- db\n",
    "- cache\n",
    "comments: false\n",
    "date: '2022-11-10'\n",
    "description: And Maybe a Real World Use\n",
    "output-file: 2022-11-10-simple-idea-using-memcached.html\n",
    "title: Simple Introduction to Memcached\n",
    "toc: false\n",
    "\n",
    "---\n",
    "\n"
   ]
  },
  {
   "cell_type": "markdown",
   "metadata": {},
   "source": [
    "While taking a class to discover what is the currently most popular NoSQL databases for different use cases, I was informed that there is this technology called `Memcached`. From the Arch Wiki:\n",
    "> Memcached (pronunciation: mem-cashed, mem-cash-dee) is a general-purpose distributed memory caching system. It is often used to speed up dynamic database-driven websites by caching data and objects in RAM to reduce the number of times an external data source (such as a database or API) must be read. <br />\n",
    "[Source](https://wiki.archlinux.org/title/Memcached)\n",
    "\n",
    "This was a technology developed at Live Journal to help with - well - caching commonly used values. This is interesting but why bring any of this up? Well, this is because NoSQL Database use a Key - Value pair to look up the matching values and that happens to be how this works as well. However, there are some hard limitations with this and especially related to the size of what is allowed to be cached; Looking around the default looks to be 1MB and you can configure it up to 1GB but that's it."
   ]
  },
  {
   "cell_type": "markdown",
   "metadata": {},
   "source": [
    "I was thinking about how you could apply this to Data Science and it's pretty limited. For one, the only useful stuff to share across sessions would be either the data you are using or the actual trained model itself. Since the data to be used would assuredly be larger than the configured limit that is not of much use - at least for most interesting problems. And, as there is a glut of tooling for hosting applications online you are very unlikely to need to setup a cache for the model. The tooling online does this really for you with instances and such."
   ]
  },
  {
   "cell_type": "markdown",
   "metadata": {},
   "source": [
    "But, I did have an interesting idea about what I could use this for. After you've worked on problems, you're bound to have functions that have been written to solve common problems. Keeping these means finding that code, then copying it into your project and finally using it for what you want. You could build a python package just for yourself but that seems overkill unless it's a general topic to share with others."
   ]
  },
  {
   "cell_type": "markdown",
   "metadata": {},
   "source": [
    "What if these simply functions could simply be a network share library? For example, date formats are something that I tend to need to convert with Python data frames. And, sadly there are no nice date format functions like there is in R; I do miss the R `lubridate` functions which has functions to convert a date into commonly needed formats: such as `ymd(date)` would convert the date into a `Year-Month-Day` format for display. I wrote a few lambda functions in python to do this for me and I would want them accessible while I do data exploration."
   ]
  },
  {
   "cell_type": "markdown",
   "metadata": {},
   "source": [
    "So, how would we go about doing this? First we'd need to install `memcached` for your Operating System; I have already done this but the guide from this [Real Python](https://realpython.com/python-memcache-efficient-caching/) goes over how you would do it for your own system. Mine being *Manjaro*, it didn't include it and I had to find it on the Arch Wiki. Make sure to start the service and then we'll start this off."
   ]
  },
  {
   "cell_type": "code",
   "execution_count": 4,
   "metadata": {},
   "outputs": [],
   "source": [
    "from pymemcache.client import base\n",
    "# init a client; make sure it is already running:\n",
    "client = base.Client(('localhost', 11211))"
   ]
  },
  {
   "cell_type": "markdown",
   "metadata": {},
   "source": [
    "Using this is very simple and there really are only two functions to care about: `get()` and `set()`. If we wanted to set a value then we tell the client what the key, value pair is."
   ]
  },
  {
   "cell_type": "code",
   "execution_count": 6,
   "metadata": {},
   "outputs": [
    {
     "data": {
      "text/plain": [
       "b'Turtles'"
      ]
     },
     "execution_count": 6,
     "metadata": {},
     "output_type": "execute_result"
    }
   ],
   "source": [
    "client.set('turtles', 'Turtles')\n",
    "client.get('turtles')"
   ]
  },
  {
   "cell_type": "markdown",
   "metadata": {},
   "source": [
    "And, that's really all there is to using this from Python!\n",
    "\n",
    "I would like to point out that the results are encoded as byte type. This is not a problem for that text but is a problem as soon as you need to operate on the values."
   ]
  },
  {
   "cell_type": "code",
   "execution_count": 7,
   "metadata": {},
   "outputs": [
    {
     "ename": "TypeError",
     "evalue": "can't concat int to bytes",
     "output_type": "error",
     "traceback": [
      "\u001b[0;31m---------------------------------------------------------------------------\u001b[0m",
      "\u001b[0;31mTypeError\u001b[0m                                 Traceback (most recent call last)",
      "\u001b[1;32m/home/shoklan/Code/fast-pride/_notebooks/2022-11-10-simple-idea-using-memcached.ipynb Cell 12'\u001b[0m in \u001b[0;36m<cell line: 6>\u001b[0;34m()\u001b[0m\n\u001b[1;32m      <a href='vscode-notebook-cell:/home/shoklan/Code/fast-pride/_notebooks/2022-11-10-simple-idea-using-memcached.ipynb#ch0000018?line=2'>3</a>\u001b[0m iLike \u001b[39m=\u001b[39m client\u001b[39m.\u001b[39mget(\u001b[39m'\u001b[39m\u001b[39mturtles\u001b[39m\u001b[39m'\u001b[39m)\n\u001b[1;32m      <a href='vscode-notebook-cell:/home/shoklan/Code/fast-pride/_notebooks/2022-11-10-simple-idea-using-memcached.ipynb#ch0000018?line=3'>4</a>\u001b[0m count \u001b[39m=\u001b[39m client\u001b[39m.\u001b[39mget(\u001b[39m'\u001b[39m\u001b[39msomeNumber\u001b[39m\u001b[39m'\u001b[39m)\n\u001b[0;32m----> <a href='vscode-notebook-cell:/home/shoklan/Code/fast-pride/_notebooks/2022-11-10-simple-idea-using-memcached.ipynb#ch0000018?line=5'>6</a>\u001b[0m \u001b[39mprint\u001b[39m(\u001b[39mf\u001b[39m\u001b[39m'\u001b[39m\u001b[39mI had \u001b[39m\u001b[39m{\u001b[39;00mcount\u001b[39m}\u001b[39;00m\u001b[39m \u001b[39m\u001b[39m{\u001b[39;00miLike\u001b[39m}\u001b[39;00m\u001b[39m but when I got 2 more I had \u001b[39m\u001b[39m{\u001b[39;00mcount \u001b[39m+\u001b[39m\u001b[39m2\u001b[39m\u001b[39m}\u001b[39;00m\u001b[39m \u001b[39m\u001b[39m{\u001b[39;00miLike\u001b[39m}\u001b[39;00m\u001b[39m'\u001b[39m)\n",
      "\u001b[0;31mTypeError\u001b[0m: can't concat int to bytes"
     ]
    }
   ],
   "source": [
    "client.set('someNumber', 42)\n",
    "\n",
    "iLike = client.get('turtles')\n",
    "count = client.get('someNumber')\n",
    "\n",
    "print(f'I had {count} {iLike} but when I got 2 more I had {count +2} {iLike}')"
   ]
  },
  {
   "cell_type": "markdown",
   "metadata": {},
   "source": [
    "We can solve this with a cast in this case at least."
   ]
  },
  {
   "cell_type": "code",
   "execution_count": 11,
   "metadata": {},
   "outputs": [
    {
     "name": "stdout",
     "output_type": "stream",
     "text": [
      "I had 42 Turtles but when I got 2 more I had 44 Turtles\n"
     ]
    }
   ],
   "source": [
    "client.set('someNumber', 42)\n",
    "\n",
    "iLike = client.get('turtles')\n",
    "count = client.get('someNumber')\n",
    "\n",
    "print(f'I had {count.decode()} {iLike.decode()} but when I got 2 more I had {int(count) +2} {iLike.decode()}')"
   ]
  },
  {
   "cell_type": "markdown",
   "metadata": {},
   "source": [
    "So, can we take a lambda function and put it in memcached?"
   ]
  },
  {
   "cell_type": "code",
   "execution_count": 13,
   "metadata": {},
   "outputs": [
    {
     "data": {
      "text/plain": [
       "b'<function <lambda> at 0x7f9f70829000>'"
      ]
     },
     "execution_count": 13,
     "metadata": {},
     "output_type": "execute_result"
    }
   ],
   "source": [
    "f = (lambda x: print(f'{x} likes turtles'))\n",
    "client.set('iLike', f)\n",
    "client.get('iLike')"
   ]
  },
  {
   "cell_type": "markdown",
   "metadata": {},
   "source": [
    "It accepts it! That's the good news. The bad news is that since it was converted it no longer works as a function."
   ]
  },
  {
   "cell_type": "code",
   "execution_count": 15,
   "metadata": {},
   "outputs": [
    {
     "name": "stdout",
     "output_type": "stream",
     "text": [
      "He likes turtles\n"
     ]
    },
    {
     "ename": "TypeError",
     "evalue": "'bytes' object is not callable",
     "output_type": "error",
     "traceback": [
      "\u001b[0;31m---------------------------------------------------------------------------\u001b[0m",
      "\u001b[0;31mTypeError\u001b[0m                                 Traceback (most recent call last)",
      "\u001b[1;32m/home/shoklan/Code/fast-pride/_notebooks/2022-11-10-simple-idea-using-memcached.ipynb Cell 18'\u001b[0m in \u001b[0;36m<cell line: 1>\u001b[0;34m()\u001b[0m\n\u001b[0;32m----> <a href='vscode-notebook-cell:/home/shoklan/Code/fast-pride/_notebooks/2022-11-10-simple-idea-using-memcached.ipynb#ch0000030?line=0'>1</a>\u001b[0m f(\u001b[39m\"\u001b[39m\u001b[39mHe\u001b[39m\u001b[39m\"\u001b[39m), client\u001b[39m.\u001b[39;49mget(\u001b[39m'\u001b[39;49m\u001b[39miLike\u001b[39;49m\u001b[39m'\u001b[39;49m)(\u001b[39m\"\u001b[39;49m\u001b[39mHe\u001b[39;49m\u001b[39m\"\u001b[39;49m)\n",
      "\u001b[0;31mTypeError\u001b[0m: 'bytes' object is not callable"
     ]
    }
   ],
   "source": [
    "f(\"He\"), client.get('iLike')(\"He\")"
   ]
  },
  {
   "cell_type": "markdown",
   "metadata": {},
   "source": [
    "You cannot just decode it and get what we want."
   ]
  },
  {
   "cell_type": "code",
   "execution_count": 17,
   "metadata": {},
   "outputs": [
    {
     "ename": "TypeError",
     "evalue": "'str' object is not callable",
     "output_type": "error",
     "traceback": [
      "\u001b[0;31m---------------------------------------------------------------------------\u001b[0m",
      "\u001b[0;31mTypeError\u001b[0m                                 Traceback (most recent call last)",
      "\u001b[1;32m/home/shoklan/Code/fast-pride/_notebooks/2022-11-10-simple-idea-using-memcached.ipynb Cell 20'\u001b[0m in \u001b[0;36m<cell line: 1>\u001b[0;34m()\u001b[0m\n\u001b[0;32m----> <a href='vscode-notebook-cell:/home/shoklan/Code/fast-pride/_notebooks/2022-11-10-simple-idea-using-memcached.ipynb#ch0000034?line=0'>1</a>\u001b[0m client\u001b[39m.\u001b[39;49mget(\u001b[39m'\u001b[39;49m\u001b[39miLike\u001b[39;49m\u001b[39m'\u001b[39;49m)\u001b[39m.\u001b[39;49mdecode()(\u001b[39m\"\u001b[39;49m\u001b[39mHe\u001b[39;49m\u001b[39m\"\u001b[39;49m)\n",
      "\u001b[0;31mTypeError\u001b[0m: 'str' object is not callable"
     ]
    }
   ],
   "source": [
    "client.get('iLike').decode()(\"He\")"
   ]
  },
  {
   "cell_type": "markdown",
   "metadata": {},
   "source": [
    "We can work around this by serializing the object and then deserialize it on the other side. We'll need to use `dill` and `pickle`; you may need to install the `dill` package since it is not part of the standard library but it is a requirement for this to work. "
   ]
  },
  {
   "cell_type": "code",
   "execution_count": 21,
   "metadata": {},
   "outputs": [
    {
     "name": "stdout",
     "output_type": "stream",
     "text": [
      "He likes turtles\n"
     ]
    }
   ],
   "source": [
    "s = dill.dumps(f)\n",
    "client.set('cereal', s)\n",
    "dill.loads(client.get('cereal'))(\"He\")"
   ]
  },
  {
   "cell_type": "markdown",
   "metadata": {},
   "source": [
    "Now we can implement the function I want as a Network Shared Library!"
   ]
  },
  {
   "cell_type": "code",
   "execution_count": 27,
   "metadata": {},
   "outputs": [
    {
     "data": {
      "text/plain": [
       "'2022/11/10'"
      ]
     },
     "execution_count": 27,
     "metadata": {},
     "output_type": "execute_result"
    }
   ],
   "source": [
    "from datetime import datetime\n",
    "aDate = datetime.now()\n",
    "\n",
    "# My custom function:\n",
    "ymd = (lambda x: \"{y}/{m}/{d}\".format(y=x.year, m=x.month, d=x.day ))\n",
    "s = dill.dumps(ymd)\n",
    "\n",
    "# Store in 'network library'\n",
    "client.set('ymd', s)\n",
    "undo = (lambda key: dill.loads(client.get(key)))\n",
    "\n",
    "undo('ymd')(aDate)"
   ]
  },
  {
   "cell_type": "markdown",
   "metadata": {},
   "source": [
    "There you go! If you have a spare Rasberry Pi or something then you too can have a small library of custom functions shareable over your home network to use!\n"
   ]
  }
 ],
 "metadata": {
  "kernelspec": {
   "display_name": "Python 3.10.7 64-bit",
   "language": "python",
   "name": "python3"
  },
  "language_info": {
   "codemirror_mode": {
    "name": "ipython",
    "version": 3
   },
   "file_extension": ".py",
   "mimetype": "text/x-python",
   "name": "python",
   "nbconvert_exporter": "python",
   "pygments_lexer": "ipython3",
   "version": "3.10.7"
  },
  "orig_nbformat": 4,
  "vscode": {
   "interpreter": {
    "hash": "e7370f93d1d0cde622a1f8e1c04877d8463912d04d973331ad4851f04de6915a"
   }
  }
 },
 "nbformat": 4,
 "nbformat_minor": 2
}
