{
 "cells": [
  {
   "cell_type": "raw",
   "metadata": {},
   "source": [
    "---\n",
    "aliases:\n",
    "- /cycle/data/exploration/frontier/game/python/science/2022/10/14/cycle-calculate-job-values\n",
    "badges: false\n",
    "categories:\n",
    "- game\n",
    "- python\n",
    "- data\n",
    "- science\n",
    "- exploration\n",
    "- cycle\n",
    "- frontier\n",
    "comments: false\n",
    "date: '2022-10-14'\n",
    "description: Let's do the calculations!\n",
    "output-file: 2022-10-14-cycle-calculate-job-values.html\n",
    "title: Which Cycle Frontier Jobs Are Worth Doing? - Part Three.\n",
    "toc: false\n",
    "\n",
    "---\n",
    "\n"
   ]
  },
  {
   "cell_type": "markdown",
   "metadata": {},
   "source": [
    "This is the third post in a series about collecting, cleaning and analyzing which Jobs are worth doing in The Cycle: Frontier game. If you've found this post before the others I would recommend the other posts first to catch up: [Post One](https://orgulo.us/game/python/data/science/exploration/cycle/frontier/2022/09/28/cycle-jobs-part-one.html) and [Post Two](https://orgulo.us/game/python/data/science/exploration/cycle/frontier/2022/10/07/cycle-jobs-part-two.html). We'll pick up where we left off having separate datasets for the faction rewards as well as all the loot. Let's get our imports!"
   ]
  },
  {
   "cell_type": "code",
   "execution_count": 1,
   "metadata": {},
   "outputs": [],
   "source": [
    "import pandas as pd             # for the data.\n",
    "import numpy as np              # for a NaN type\n",
    "import matplotlib.pyplot as plt # For plotting, and some customization of plots.\n",
    "import seaborn as sns           # For pretty plots.\n",
    "import requests as r            # For downloading from websites\n",
    "\n",
    "# Fix the size of the graphs\n",
    "sns.set(rc={\"figure.figsize\":(11, 8)})"
   ]
  },
  {
   "cell_type": "code",
   "execution_count": 2,
   "metadata": {},
   "outputs": [],
   "source": [
    "#| include: false\n",
    "urlJobs = \"https://thecyclefrontier.wiki/wiki/Jobs\"\n",
    "urlLoot = \"https://thecyclefrontier.wiki/wiki/Loot\"\n",
    "\n",
    "\n",
    "siteJobs = pd.read_html(urlJobs, match=\"Name\",\n",
    "    converters = {\n",
    "        \"Name\": str,\n",
    "        \"Description\": str, \n",
    "        \"Unlocked\": int, \n",
    "        \"Tasks\": str,\n",
    "        \"Rewards\": str})\n",
    "\n",
    "\n",
    "siteLoot = pd.read_html(urlLoot, attrs={\"class\":\"zebra\"})[0]"
   ]
  },
  {
   "cell_type": "code",
   "execution_count": 3,
   "metadata": {},
   "outputs": [],
   "source": [
    "#| include: false\n",
    "# Jobs\n",
    "\n",
    "def buildJobsRewards(data):\n",
    "    # Function to take job rewards data and return a cleaned version\n",
    "\n",
    "    rewardsSubset = data[[\"Name\", \"Description\", \"Difficulty\"]].copy()\n",
    "    rewardsSubset.columns = [\"Units\", \"Rewards\", \"Job\"]\n",
    "\n",
    "    index = range( 0, len(rewardsSubset) - 4, 4)\n",
    "    offset = np.array([1, 2, 3])\n",
    "\n",
    "    rewardsSubset.Job = np.NaN\n",
    "\n",
    "    for i in index:\n",
    "        aJob = rewardsSubset.iloc[i, 0]\n",
    "        indexes = i + offset\n",
    "        rewardsSubset.iloc[ indexes, 2 ] = aJob\n",
    "        \n",
    "    cutNA = rewardsSubset.Job.isna()\n",
    "    rewardsSubset = rewardsSubset[ ~cutNA ]\n",
    "\n",
    "    rewardsSubset = rewardsSubset.assign(\n",
    "        Units = rewardsSubset['Units'].astype(int)\n",
    "    )\n",
    "\n",
    "    return rewardsSubset\n",
    "\n",
    "# filter rewards:\n",
    "korolevRewards = buildJobsRewards( siteJobs[0] )\n",
    "icaRewards = buildJobsRewards( siteJobs[1] )\n",
    "osirisRewards = buildJobsRewards( siteJobs[2] )"
   ]
  },
  {
   "cell_type": "code",
   "execution_count": 4,
   "metadata": {},
   "outputs": [],
   "source": [
    "#| include: false \n",
    "lootSubset = siteLoot[\n",
    "    ['Image', 'Name', 'Rarity', 'Personal Quarters', 'Campaigns', 'Jobs', 'Printing']\n",
    "    ].copy()\n",
    "\n",
    "filterIndex = lootSubset.Printing == \"Yes\"\n",
    "lootSubset.loc[~filterIndex, \"Printing\"] = \"No\"\n",
    "\n",
    "# Change range to 5 instead of 4\n",
    "index = range( 0, len(lootSubset) - 4, 5)\n",
    "offset = np.array([1, 2, 3, 4])\n",
    "\n",
    "lootSubset = lootSubset.assign(\n",
    "    Loot = np.NaN\n",
    ")\n",
    "\n",
    "for i in index:\n",
    "    # Correct Loot column\n",
    "    aLoot = lootSubset.iloc[i, 1]\n",
    "    indexes = i + offset\n",
    "    lootSubset.iloc[ indexes, 7 ] = aLoot\n",
    "\n",
    "tmp = lootSubset.iloc[:, 1:7]\n",
    "tmp = tmp.fillna(method=\"ffill\")\n",
    "lootSubset.iloc[:, 1:7] = tmp\n",
    "\n",
    "cutNA = lootSubset.Loot.isna()\n",
    "lootData = lootSubset[ ~cutNA ]\n",
    "lootData = lootData.rename(columns={'Image':'Unit'})\n",
    "lootData['Rarity'] = pd.Categorical(\n",
    "    lootData.Rarity, categories = ['Common', 'Uncommon', 'Rare', 'Epic', 'Exotic', 'Legendary']\n",
    ")\n",
    "\n",
    "loot = lootData"
   ]
  },
  {
   "cell_type": "markdown",
   "metadata": {},
   "source": [
    "There are two tasks we'll need to adjust before we continue. The first is that our *Tasks* work was only for one faction so we'll need to loop through each faction's tasks and then append them all together into a single dataset; the code is included simply for observation."
   ]
  },
  {
   "cell_type": "code",
   "execution_count": 5,
   "metadata": {},
   "outputs": [],
   "source": [
    "def breakLoot(taskString, index=0):\n",
    "    parts = taskString.split(' ', maxsplit=1)\n",
    "    if index == 0:\n",
    "        return int(parts[index])\n",
    "    elif index == 1:\n",
    "        return parts[index]\n",
    "    else:\n",
    "        # This shouldn't be called.\n",
    "        return None\n",
    "\n",
    "tasks = []\n",
    "\n",
    "for index in range(0,3):\n",
    "    tasksSubset = siteJobs[index][[\"Name\", \"Description\", \"Tasks\"]].copy()\n",
    "    tasksSubset = tasksSubset[ ~tasksSubset.Tasks.isna()]\n",
    "    tasksSubset = tasksSubset[ ~tasksSubset.Tasks.str.contains(\"Kill\")]\n",
    "\n",
    "    regex = r\"(\\d+\\s[\\w]+\\s[\\w]+)\"\n",
    "    tmp = tasksSubset.Tasks.str.extractall(regex)\n",
    "\n",
    "    count = tmp.reset_index()[0].apply(breakLoot).values\n",
    "    aLoot = tmp.reset_index()[0].apply(breakLoot, index=1).values\n",
    "\n",
    "    tmp = tmp.assign(\n",
    "        count = count,\n",
    "        loot = aLoot\n",
    "    )\n",
    "\n",
    "    nameDescriptSlice = tasksSubset.loc[tmp.reset_index()[\"level_0\"], ['Name', 'Description']]\n",
    "\n",
    "    tmp = tmp.assign(\n",
    "        name = nameDescriptSlice.Name.values,\n",
    "        description = nameDescriptSlice.Description.values\n",
    "    )\n",
    "\n",
    "    taskSlice = tmp.reset_index().drop([\n",
    "        'level_0',\n",
    "        'match',\n",
    "        0\n",
    "    ], axis =1 )\n",
    "\n",
    "    taskSlice = taskSlice[['name', 'count', 'loot', 'description']]\n",
    "    tasks.append(taskSlice)\n",
    "tasks = pd.concat([*tasks])"
   ]
  },
  {
   "cell_type": "markdown",
   "metadata": {},
   "source": [
    "The second task is that we need a single dataset for all the job rewards. We'll definitely want to tag each so we don't lose track of which task belongs to which Faction."
   ]
  },
  {
   "cell_type": "code",
   "execution_count": 6,
   "metadata": {},
   "outputs": [
    {
     "data": {
      "text/html": [
       "<div>\n",
       "<style scoped>\n",
       "    .dataframe tbody tr th:only-of-type {\n",
       "        vertical-align: middle;\n",
       "    }\n",
       "\n",
       "    .dataframe tbody tr th {\n",
       "        vertical-align: top;\n",
       "    }\n",
       "\n",
       "    .dataframe thead th {\n",
       "        text-align: right;\n",
       "    }\n",
       "</style>\n",
       "<table border=\"1\" class=\"dataframe\">\n",
       "  <thead>\n",
       "    <tr style=\"text-align: right;\">\n",
       "      <th></th>\n",
       "      <th></th>\n",
       "      <th>Units</th>\n",
       "      <th>Rewards</th>\n",
       "      <th>Job</th>\n",
       "    </tr>\n",
       "    <tr>\n",
       "      <th>Faction</th>\n",
       "      <th></th>\n",
       "      <th></th>\n",
       "      <th></th>\n",
       "      <th></th>\n",
       "    </tr>\n",
       "  </thead>\n",
       "  <tbody>\n",
       "    <tr>\n",
       "      <th>ICA</th>\n",
       "      <th>1</th>\n",
       "      <td>4400</td>\n",
       "      <td>K-Marks</td>\n",
       "      <td>Water Filtration System</td>\n",
       "    </tr>\n",
       "    <tr>\n",
       "      <th>Korolev</th>\n",
       "      <th>1</th>\n",
       "      <td>3800</td>\n",
       "      <td>K-Marks</td>\n",
       "      <td>New Mining Tools</td>\n",
       "    </tr>\n",
       "    <tr>\n",
       "      <th>Osiris</th>\n",
       "      <th>1</th>\n",
       "      <td>2200</td>\n",
       "      <td>K-Marks</td>\n",
       "      <td>Lab equipment</td>\n",
       "    </tr>\n",
       "  </tbody>\n",
       "</table>\n",
       "</div>"
      ],
      "text/plain": [
       "           Units  Rewards                      Job\n",
       "Faction                                           \n",
       "ICA     1   4400  K-Marks  Water Filtration System\n",
       "Korolev 1   3800  K-Marks         New Mining Tools\n",
       "Osiris  1   2200  K-Marks            Lab equipment"
      ]
     },
     "execution_count": 6,
     "metadata": {},
     "output_type": "execute_result"
    }
   ],
   "source": [
    "# This is new; stop inserting this trash:\n",
    "# want the faction when we join them all:\n",
    "korolevRewards['Faction'] = \"Korolev\"\n",
    "icaRewards['Faction'] = \"ICA\"\n",
    "osirisRewards['Faction'] = \"Osiris\"\n",
    "\n",
    "allJobs = pd.concat([korolevRewards, icaRewards, osirisRewards])\n",
    "\n",
    "# Proof they're all in there:\n",
    "allJobs.groupby('Faction').take([0])"
   ]
  },
  {
   "cell_type": "markdown",
   "metadata": {},
   "source": [
    "For this analysis, we're really only interested in the Kmarks so we'll need to only pull those rows; we'll do some work with the others later but for now just the money."
   ]
  },
  {
   "cell_type": "code",
   "execution_count": 7,
   "metadata": {},
   "outputs": [
    {
     "data": {
      "text/html": [
       "<div>\n",
       "<style scoped>\n",
       "    .dataframe tbody tr th:only-of-type {\n",
       "        vertical-align: middle;\n",
       "    }\n",
       "\n",
       "    .dataframe tbody tr th {\n",
       "        vertical-align: top;\n",
       "    }\n",
       "\n",
       "    .dataframe thead th {\n",
       "        text-align: right;\n",
       "    }\n",
       "</style>\n",
       "<table border=\"1\" class=\"dataframe\">\n",
       "  <thead>\n",
       "    <tr style=\"text-align: right;\">\n",
       "      <th></th>\n",
       "      <th>Unit</th>\n",
       "      <th>Name</th>\n",
       "      <th>Rarity</th>\n",
       "      <th>Personal Quarters</th>\n",
       "      <th>Campaigns</th>\n",
       "      <th>Jobs</th>\n",
       "      <th>Printing</th>\n",
       "      <th>Loot</th>\n",
       "    </tr>\n",
       "  </thead>\n",
       "  <tbody>\n",
       "    <tr>\n",
       "      <th>1</th>\n",
       "      <td>150.0</td>\n",
       "      <td>K-Marks</td>\n",
       "      <td>Common</td>\n",
       "      <td>Yes x11</td>\n",
       "      <td>Yes x10</td>\n",
       "      <td>Yes</td>\n",
       "      <td>No</td>\n",
       "      <td>Flawed Veltecite</td>\n",
       "    </tr>\n",
       "    <tr>\n",
       "      <th>6</th>\n",
       "      <td>570.0</td>\n",
       "      <td>K-Marks</td>\n",
       "      <td>Uncommon</td>\n",
       "      <td>Yes x8</td>\n",
       "      <td>Yes x14</td>\n",
       "      <td>Yes</td>\n",
       "      <td>No</td>\n",
       "      <td>Cloudy Veltecite</td>\n",
       "    </tr>\n",
       "    <tr>\n",
       "      <th>11</th>\n",
       "      <td>854.0</td>\n",
       "      <td>K-Marks</td>\n",
       "      <td>Rare</td>\n",
       "      <td>Yes x11</td>\n",
       "      <td>Yes x25</td>\n",
       "      <td>Yes</td>\n",
       "      <td>No</td>\n",
       "      <td>Clear Veltecite</td>\n",
       "    </tr>\n",
       "    <tr>\n",
       "      <th>16</th>\n",
       "      <td>1922.0</td>\n",
       "      <td>K-Marks</td>\n",
       "      <td>Epic</td>\n",
       "      <td>Yes x7</td>\n",
       "      <td>Yes x9</td>\n",
       "      <td>Yes</td>\n",
       "      <td>No</td>\n",
       "      <td>Pure Veltecite</td>\n",
       "    </tr>\n",
       "    <tr>\n",
       "      <th>21</th>\n",
       "      <td>6487.0</td>\n",
       "      <td>K-Marks</td>\n",
       "      <td>Legendary</td>\n",
       "      <td>Yes x4</td>\n",
       "      <td>Yes x2</td>\n",
       "      <td>Yes</td>\n",
       "      <td>No</td>\n",
       "      <td>Veltecite Heart</td>\n",
       "    </tr>\n",
       "    <tr>\n",
       "      <th>26</th>\n",
       "      <td>570.0</td>\n",
       "      <td>K-Marks</td>\n",
       "      <td>Uncommon</td>\n",
       "      <td>Yes x36</td>\n",
       "      <td>Yes x7</td>\n",
       "      <td>Yes</td>\n",
       "      <td>No</td>\n",
       "      <td>Brittle Titan Ore</td>\n",
       "    </tr>\n",
       "    <tr>\n",
       "      <th>31</th>\n",
       "      <td>854.0</td>\n",
       "      <td>K-Marks</td>\n",
       "      <td>Rare</td>\n",
       "      <td>Yes x6</td>\n",
       "      <td>Yes x8</td>\n",
       "      <td>Yes</td>\n",
       "      <td>No</td>\n",
       "      <td>Titan Ore</td>\n",
       "    </tr>\n",
       "    <tr>\n",
       "      <th>36</th>\n",
       "      <td>150.0</td>\n",
       "      <td>K-Marks</td>\n",
       "      <td>Common</td>\n",
       "      <td>Yes x46</td>\n",
       "      <td>Yes x1</td>\n",
       "      <td>Yes</td>\n",
       "      <td>No</td>\n",
       "      <td>Nickel</td>\n",
       "    </tr>\n",
       "  </tbody>\n",
       "</table>\n",
       "</div>"
      ],
      "text/plain": [
       "      Unit     Name     Rarity Personal Quarters Campaigns Jobs Printing  \\\n",
       "1    150.0  K-Marks     Common           Yes x11   Yes x10  Yes       No   \n",
       "6    570.0  K-Marks   Uncommon            Yes x8   Yes x14  Yes       No   \n",
       "11   854.0  K-Marks       Rare           Yes x11   Yes x25  Yes       No   \n",
       "16  1922.0  K-Marks       Epic            Yes x7    Yes x9  Yes       No   \n",
       "21  6487.0  K-Marks  Legendary            Yes x4    Yes x2  Yes       No   \n",
       "26   570.0  K-Marks   Uncommon           Yes x36    Yes x7  Yes       No   \n",
       "31   854.0  K-Marks       Rare            Yes x6    Yes x8  Yes       No   \n",
       "36   150.0  K-Marks     Common           Yes x46    Yes x1  Yes       No   \n",
       "\n",
       "                 Loot  \n",
       "1    Flawed Veltecite  \n",
       "6    Cloudy Veltecite  \n",
       "11    Clear Veltecite  \n",
       "16     Pure Veltecite  \n",
       "21    Veltecite Heart  \n",
       "26  Brittle Titan Ore  \n",
       "31          Titan Ore  \n",
       "36             Nickel  "
      ]
     },
     "execution_count": 7,
     "metadata": {},
     "output_type": "execute_result"
    }
   ],
   "source": [
    "lootKMarks = loot.query('Name == \"K-Marks\"')\n",
    "lootKMarks.head(8)"
   ]
  },
  {
   "cell_type": "code",
   "execution_count": 8,
   "metadata": {},
   "outputs": [
    {
     "data": {
      "text/html": [
       "<div>\n",
       "<style scoped>\n",
       "    .dataframe tbody tr th:only-of-type {\n",
       "        vertical-align: middle;\n",
       "    }\n",
       "\n",
       "    .dataframe tbody tr th {\n",
       "        vertical-align: top;\n",
       "    }\n",
       "\n",
       "    .dataframe thead th {\n",
       "        text-align: right;\n",
       "    }\n",
       "</style>\n",
       "<table border=\"1\" class=\"dataframe\">\n",
       "  <thead>\n",
       "    <tr style=\"text-align: right;\">\n",
       "      <th></th>\n",
       "      <th>Loot</th>\n",
       "      <th>Unit</th>\n",
       "    </tr>\n",
       "  </thead>\n",
       "  <tbody>\n",
       "    <tr>\n",
       "      <th>1</th>\n",
       "      <td>Flawed Veltecite</td>\n",
       "      <td>150.0</td>\n",
       "    </tr>\n",
       "    <tr>\n",
       "      <th>6</th>\n",
       "      <td>Cloudy Veltecite</td>\n",
       "      <td>570.0</td>\n",
       "    </tr>\n",
       "    <tr>\n",
       "      <th>11</th>\n",
       "      <td>Clear Veltecite</td>\n",
       "      <td>854.0</td>\n",
       "    </tr>\n",
       "    <tr>\n",
       "      <th>16</th>\n",
       "      <td>Pure Veltecite</td>\n",
       "      <td>1922.0</td>\n",
       "    </tr>\n",
       "    <tr>\n",
       "      <th>21</th>\n",
       "      <td>Veltecite Heart</td>\n",
       "      <td>6487.0</td>\n",
       "    </tr>\n",
       "    <tr>\n",
       "      <th>...</th>\n",
       "      <td>...</td>\n",
       "      <td>...</td>\n",
       "    </tr>\n",
       "    <tr>\n",
       "      <th>446</th>\n",
       "      <td>Hardened Metals</td>\n",
       "      <td>150.0</td>\n",
       "    </tr>\n",
       "    <tr>\n",
       "      <th>451</th>\n",
       "      <td>Compound Sheets</td>\n",
       "      <td>150.0</td>\n",
       "    </tr>\n",
       "    <tr>\n",
       "      <th>456</th>\n",
       "      <td>Print Resin</td>\n",
       "      <td>1709.0</td>\n",
       "    </tr>\n",
       "    <tr>\n",
       "      <th>461</th>\n",
       "      <td>Salvaged Insulation</td>\n",
       "      <td>338.0</td>\n",
       "    </tr>\n",
       "    <tr>\n",
       "      <th>466</th>\n",
       "      <td>Aluminum Scrap</td>\n",
       "      <td>506.0</td>\n",
       "    </tr>\n",
       "  </tbody>\n",
       "</table>\n",
       "<p>94 rows × 2 columns</p>\n",
       "</div>"
      ],
      "text/plain": [
       "                    Loot    Unit\n",
       "1       Flawed Veltecite   150.0\n",
       "6       Cloudy Veltecite   570.0\n",
       "11       Clear Veltecite   854.0\n",
       "16        Pure Veltecite  1922.0\n",
       "21       Veltecite Heart  6487.0\n",
       "..                   ...     ...\n",
       "446      Hardened Metals   150.0\n",
       "451      Compound Sheets   150.0\n",
       "456          Print Resin  1709.0\n",
       "461  Salvaged Insulation   338.0\n",
       "466       Aluminum Scrap   506.0\n",
       "\n",
       "[94 rows x 2 columns]"
      ]
     },
     "execution_count": 8,
     "metadata": {},
     "output_type": "execute_result"
    }
   ],
   "source": [
    "#| include: false\n",
    "# I don't remember what this is for.\n",
    "lootKMarks[['Loot', 'Unit']]"
   ]
  },
  {
   "cell_type": "code",
   "execution_count": 9,
   "metadata": {},
   "outputs": [],
   "source": [
    "#| include: false\n",
    "# # Correct this:\n",
    "# lootKMarks = lootKMarks.assign(\n",
    "#      Unit = lootKMarks.Unit.astype(float)\n",
    "#  )\n",
    "\n",
    "#hide\n",
    "# Fix this? Proabably more of these:\n",
    "lootKMarks.loc[ lootKMarks.Loot.str.contains(\"Master\")]\n",
    "tasks.loc[ tasks.loot == \"Master Unit\", 'loot'] = 'Master Unit CPU'\n",
    "\n",
    "# We'll bring this up at the end."
   ]
  },
  {
   "cell_type": "markdown",
   "metadata": {},
   "source": [
    "Joins are a complicated topic which I'm not going to flesh out here. In this instance, what we want is the loot table with the Kmark value connected to the jobs table with respect to the name of the loot. And, we'll tell Pandas to join those together below making sure that as long as it exists in the left table that it gets connected to something in the right table."
   ]
  },
  {
   "cell_type": "code",
   "execution_count": 10,
   "metadata": {},
   "outputs": [
    {
     "data": {
      "text/html": [
       "<div>\n",
       "<style scoped>\n",
       "    .dataframe tbody tr th:only-of-type {\n",
       "        vertical-align: middle;\n",
       "    }\n",
       "\n",
       "    .dataframe tbody tr th {\n",
       "        vertical-align: top;\n",
       "    }\n",
       "\n",
       "    .dataframe thead th {\n",
       "        text-align: right;\n",
       "    }\n",
       "</style>\n",
       "<table border=\"1\" class=\"dataframe\">\n",
       "  <thead>\n",
       "    <tr style=\"text-align: right;\">\n",
       "      <th></th>\n",
       "      <th>name</th>\n",
       "      <th>count</th>\n",
       "      <th>loot</th>\n",
       "      <th>description</th>\n",
       "      <th>Loot</th>\n",
       "      <th>Unit</th>\n",
       "    </tr>\n",
       "  </thead>\n",
       "  <tbody>\n",
       "    <tr>\n",
       "      <th>0</th>\n",
       "      <td>New Mining Tools</td>\n",
       "      <td>2.0</td>\n",
       "      <td>Hydraulic Piston</td>\n",
       "      <td>We are producing new Mining Tools for new Pros...</td>\n",
       "      <td>Hydraulic Piston</td>\n",
       "      <td>338.0</td>\n",
       "    </tr>\n",
       "    <tr>\n",
       "      <th>1</th>\n",
       "      <td>Excavator Improvements</td>\n",
       "      <td>3.0</td>\n",
       "      <td>Hydraulic Piston</td>\n",
       "      <td>The suspension on our mining excavators need i...</td>\n",
       "      <td>Hydraulic Piston</td>\n",
       "      <td>338.0</td>\n",
       "    </tr>\n",
       "    <tr>\n",
       "      <th>2</th>\n",
       "      <td>New Mining Tools</td>\n",
       "      <td>10.0</td>\n",
       "      <td>Hardened Metals</td>\n",
       "      <td>We are producing new Mining Tools for new Pros...</td>\n",
       "      <td>Hardened Metals</td>\n",
       "      <td>150.0</td>\n",
       "    </tr>\n",
       "    <tr>\n",
       "      <th>3</th>\n",
       "      <td>Automated Security</td>\n",
       "      <td>16.0</td>\n",
       "      <td>Hardened Metals</td>\n",
       "      <td>We will have to build new turrets to help prot...</td>\n",
       "      <td>Hardened Metals</td>\n",
       "      <td>150.0</td>\n",
       "    </tr>\n",
       "    <tr>\n",
       "      <th>4</th>\n",
       "      <td>Air Lock Upgrades</td>\n",
       "      <td>12.0</td>\n",
       "      <td>Hardened Metals</td>\n",
       "      <td>Our engineers designed a safer airlock system ...</td>\n",
       "      <td>Hardened Metals</td>\n",
       "      <td>150.0</td>\n",
       "    </tr>\n",
       "  </tbody>\n",
       "</table>\n",
       "</div>"
      ],
      "text/plain": [
       "                     name  count              loot  \\\n",
       "0        New Mining Tools    2.0  Hydraulic Piston   \n",
       "1  Excavator Improvements    3.0  Hydraulic Piston   \n",
       "2        New Mining Tools   10.0   Hardened Metals   \n",
       "3      Automated Security   16.0   Hardened Metals   \n",
       "4       Air Lock Upgrades   12.0   Hardened Metals   \n",
       "\n",
       "                                         description              Loot   Unit  \n",
       "0  We are producing new Mining Tools for new Pros...  Hydraulic Piston  338.0  \n",
       "1  The suspension on our mining excavators need i...  Hydraulic Piston  338.0  \n",
       "2  We are producing new Mining Tools for new Pros...   Hardened Metals  150.0  \n",
       "3  We will have to build new turrets to help prot...   Hardened Metals  150.0  \n",
       "4  Our engineers designed a safer airlock system ...   Hardened Metals  150.0  "
      ]
     },
     "execution_count": 10,
     "metadata": {},
     "output_type": "execute_result"
    }
   ],
   "source": [
    "taskLoot = tasks.merge(lootKMarks[['Loot', 'Unit']], left_on='loot', right_on='Loot', how='outer')\n",
    "taskLoot.head()"
   ]
  },
  {
   "cell_type": "markdown",
   "metadata": {},
   "source": [
    "We'll now multiply the `count` of the `loot` times their values to get the `cost` per resource in the task."
   ]
  },
  {
   "cell_type": "code",
   "execution_count": 11,
   "metadata": {},
   "outputs": [
    {
     "data": {
      "text/html": [
       "<div>\n",
       "<style scoped>\n",
       "    .dataframe tbody tr th:only-of-type {\n",
       "        vertical-align: middle;\n",
       "    }\n",
       "\n",
       "    .dataframe tbody tr th {\n",
       "        vertical-align: top;\n",
       "    }\n",
       "\n",
       "    .dataframe thead th {\n",
       "        text-align: right;\n",
       "    }\n",
       "</style>\n",
       "<table border=\"1\" class=\"dataframe\">\n",
       "  <thead>\n",
       "    <tr style=\"text-align: right;\">\n",
       "      <th></th>\n",
       "      <th>name</th>\n",
       "      <th>count</th>\n",
       "      <th>loot</th>\n",
       "      <th>description</th>\n",
       "      <th>Loot</th>\n",
       "      <th>Unit</th>\n",
       "      <th>Cost</th>\n",
       "    </tr>\n",
       "  </thead>\n",
       "  <tbody>\n",
       "    <tr>\n",
       "      <th>0</th>\n",
       "      <td>New Mining Tools</td>\n",
       "      <td>2.0</td>\n",
       "      <td>Hydraulic Piston</td>\n",
       "      <td>We are producing new Mining Tools for new Pros...</td>\n",
       "      <td>Hydraulic Piston</td>\n",
       "      <td>338.0</td>\n",
       "      <td>676.0</td>\n",
       "    </tr>\n",
       "    <tr>\n",
       "      <th>1</th>\n",
       "      <td>Excavator Improvements</td>\n",
       "      <td>3.0</td>\n",
       "      <td>Hydraulic Piston</td>\n",
       "      <td>The suspension on our mining excavators need i...</td>\n",
       "      <td>Hydraulic Piston</td>\n",
       "      <td>338.0</td>\n",
       "      <td>1014.0</td>\n",
       "    </tr>\n",
       "    <tr>\n",
       "      <th>2</th>\n",
       "      <td>New Mining Tools</td>\n",
       "      <td>10.0</td>\n",
       "      <td>Hardened Metals</td>\n",
       "      <td>We are producing new Mining Tools for new Pros...</td>\n",
       "      <td>Hardened Metals</td>\n",
       "      <td>150.0</td>\n",
       "      <td>1500.0</td>\n",
       "    </tr>\n",
       "    <tr>\n",
       "      <th>3</th>\n",
       "      <td>Automated Security</td>\n",
       "      <td>16.0</td>\n",
       "      <td>Hardened Metals</td>\n",
       "      <td>We will have to build new turrets to help prot...</td>\n",
       "      <td>Hardened Metals</td>\n",
       "      <td>150.0</td>\n",
       "      <td>2400.0</td>\n",
       "    </tr>\n",
       "    <tr>\n",
       "      <th>4</th>\n",
       "      <td>Air Lock Upgrades</td>\n",
       "      <td>12.0</td>\n",
       "      <td>Hardened Metals</td>\n",
       "      <td>Our engineers designed a safer airlock system ...</td>\n",
       "      <td>Hardened Metals</td>\n",
       "      <td>150.0</td>\n",
       "      <td>1800.0</td>\n",
       "    </tr>\n",
       "  </tbody>\n",
       "</table>\n",
       "</div>"
      ],
      "text/plain": [
       "                     name  count              loot  \\\n",
       "0        New Mining Tools    2.0  Hydraulic Piston   \n",
       "1  Excavator Improvements    3.0  Hydraulic Piston   \n",
       "2        New Mining Tools   10.0   Hardened Metals   \n",
       "3      Automated Security   16.0   Hardened Metals   \n",
       "4       Air Lock Upgrades   12.0   Hardened Metals   \n",
       "\n",
       "                                         description              Loot   Unit  \\\n",
       "0  We are producing new Mining Tools for new Pros...  Hydraulic Piston  338.0   \n",
       "1  The suspension on our mining excavators need i...  Hydraulic Piston  338.0   \n",
       "2  We are producing new Mining Tools for new Pros...   Hardened Metals  150.0   \n",
       "3  We will have to build new turrets to help prot...   Hardened Metals  150.0   \n",
       "4  Our engineers designed a safer airlock system ...   Hardened Metals  150.0   \n",
       "\n",
       "     Cost  \n",
       "0   676.0  \n",
       "1  1014.0  \n",
       "2  1500.0  \n",
       "3  2400.0  \n",
       "4  1800.0  "
      ]
     },
     "execution_count": 11,
     "metadata": {},
     "output_type": "execute_result"
    }
   ],
   "source": [
    "taskLoot['Cost'] = taskLoot['count'] * taskLoot['Unit']\n",
    "taskLoot.head()"
   ]
  },
  {
   "cell_type": "markdown",
   "metadata": {},
   "source": [
    "Now we'll just group by the name of the task to and take the sume of each to get the total `cost` per task."
   ]
  },
  {
   "cell_type": "code",
   "execution_count": 12,
   "metadata": {},
   "outputs": [
    {
     "data": {
      "text/html": [
       "<div>\n",
       "<style scoped>\n",
       "    .dataframe tbody tr th:only-of-type {\n",
       "        vertical-align: middle;\n",
       "    }\n",
       "\n",
       "    .dataframe tbody tr th {\n",
       "        vertical-align: top;\n",
       "    }\n",
       "\n",
       "    .dataframe thead th {\n",
       "        text-align: right;\n",
       "    }\n",
       "</style>\n",
       "<table border=\"1\" class=\"dataframe\">\n",
       "  <thead>\n",
       "    <tr style=\"text-align: right;\">\n",
       "      <th></th>\n",
       "      <th>Cost</th>\n",
       "    </tr>\n",
       "    <tr>\n",
       "      <th>name</th>\n",
       "      <th></th>\n",
       "    </tr>\n",
       "  </thead>\n",
       "  <tbody>\n",
       "    <tr>\n",
       "      <th>A Craving</th>\n",
       "      <td>4048.0</td>\n",
       "    </tr>\n",
       "    <tr>\n",
       "      <th>A Solution</th>\n",
       "      <td>10125.0</td>\n",
       "    </tr>\n",
       "    <tr>\n",
       "      <th>A new Energy Source</th>\n",
       "      <td>0.0</td>\n",
       "    </tr>\n",
       "    <tr>\n",
       "      <th>A new type of Alloy</th>\n",
       "      <td>1800.0</td>\n",
       "    </tr>\n",
       "    <tr>\n",
       "      <th>Air Lock Upgrades</th>\n",
       "      <td>3900.0</td>\n",
       "    </tr>\n",
       "  </tbody>\n",
       "</table>\n",
       "</div>"
      ],
      "text/plain": [
       "                        Cost\n",
       "name                        \n",
       "A Craving             4048.0\n",
       "A Solution           10125.0\n",
       "A new Energy Source      0.0\n",
       "A new type of Alloy   1800.0\n",
       "Air Lock Upgrades     3900.0"
      ]
     },
     "execution_count": 12,
     "metadata": {},
     "output_type": "execute_result"
    }
   ],
   "source": [
    "taskLoot[['name', 'Cost']].groupby('name').sum().head()"
   ]
  },
  {
   "cell_type": "markdown",
   "metadata": {},
   "source": [
    "This is the first piece we'll need to get the results we're after; the other part is all the jobs we collected in the previous post - and brought here. "
   ]
  },
  {
   "cell_type": "code",
   "execution_count": 13,
   "metadata": {},
   "outputs": [
    {
     "data": {
      "text/html": [
       "<div>\n",
       "<style scoped>\n",
       "    .dataframe tbody tr th:only-of-type {\n",
       "        vertical-align: middle;\n",
       "    }\n",
       "\n",
       "    .dataframe tbody tr th {\n",
       "        vertical-align: top;\n",
       "    }\n",
       "\n",
       "    .dataframe thead th {\n",
       "        text-align: right;\n",
       "    }\n",
       "</style>\n",
       "<table border=\"1\" class=\"dataframe\">\n",
       "  <thead>\n",
       "    <tr style=\"text-align: right;\">\n",
       "      <th></th>\n",
       "      <th>Units</th>\n",
       "      <th>Rewards</th>\n",
       "      <th>Job</th>\n",
       "      <th>Faction</th>\n",
       "      <th>Cost</th>\n",
       "    </tr>\n",
       "  </thead>\n",
       "  <tbody>\n",
       "    <tr>\n",
       "      <th>0</th>\n",
       "      <td>3800</td>\n",
       "      <td>K-Marks</td>\n",
       "      <td>New Mining Tools</td>\n",
       "      <td>Korolev</td>\n",
       "      <td>2176.0</td>\n",
       "    </tr>\n",
       "    <tr>\n",
       "      <th>1</th>\n",
       "      <td>11000</td>\n",
       "      <td>K-Marks</td>\n",
       "      <td>Explosive Excavation</td>\n",
       "      <td>Korolev</td>\n",
       "      <td>6836.0</td>\n",
       "    </tr>\n",
       "    <tr>\n",
       "      <th>2</th>\n",
       "      <td>6900</td>\n",
       "      <td>K-Marks</td>\n",
       "      <td>Mining Bot</td>\n",
       "      <td>Korolev</td>\n",
       "      <td>1014.0</td>\n",
       "    </tr>\n",
       "    <tr>\n",
       "      <th>3</th>\n",
       "      <td>7600</td>\n",
       "      <td>K-Marks</td>\n",
       "      <td>None of your Business</td>\n",
       "      <td>Korolev</td>\n",
       "      <td>1800.0</td>\n",
       "    </tr>\n",
       "    <tr>\n",
       "      <th>4</th>\n",
       "      <td>10000</td>\n",
       "      <td>K-Marks</td>\n",
       "      <td>Insufficient Processing Power</td>\n",
       "      <td>Korolev</td>\n",
       "      <td>3845.0</td>\n",
       "    </tr>\n",
       "  </tbody>\n",
       "</table>\n",
       "</div>"
      ],
      "text/plain": [
       "   Units  Rewards                            Job  Faction    Cost\n",
       "0   3800  K-Marks               New Mining Tools  Korolev  2176.0\n",
       "1  11000  K-Marks           Explosive Excavation  Korolev  6836.0\n",
       "2   6900  K-Marks                     Mining Bot  Korolev  1014.0\n",
       "3   7600  K-Marks          None of your Business  Korolev  1800.0\n",
       "4  10000  K-Marks  Insufficient Processing Power  Korolev  3845.0"
      ]
     },
     "execution_count": 13,
     "metadata": {},
     "output_type": "execute_result"
    }
   ],
   "source": [
    "results = allJobs.query('Rewards == \"K-Marks\"').merge(\n",
    "    taskLoot[['name', 'Cost']].groupby('name').sum(), left_on=\"Job\", right_on=\"name\", how='left')\n",
    "results.head()"
   ]
  },
  {
   "cell_type": "markdown",
   "metadata": {},
   "source": [
    "Now we have the rewards and the cost per task we can finally calculate the **Balance** of each job!"
   ]
  },
  {
   "cell_type": "code",
   "execution_count": 14,
   "metadata": {},
   "outputs": [
    {
     "data": {
      "text/html": [
       "<div>\n",
       "<style scoped>\n",
       "    .dataframe tbody tr th:only-of-type {\n",
       "        vertical-align: middle;\n",
       "    }\n",
       "\n",
       "    .dataframe tbody tr th {\n",
       "        vertical-align: top;\n",
       "    }\n",
       "\n",
       "    .dataframe thead th {\n",
       "        text-align: right;\n",
       "    }\n",
       "</style>\n",
       "<table border=\"1\" class=\"dataframe\">\n",
       "  <thead>\n",
       "    <tr style=\"text-align: right;\">\n",
       "      <th></th>\n",
       "      <th></th>\n",
       "      <th>Units</th>\n",
       "      <th>Rewards</th>\n",
       "      <th>Job</th>\n",
       "      <th>Cost</th>\n",
       "      <th>Balance</th>\n",
       "    </tr>\n",
       "    <tr>\n",
       "      <th>Faction</th>\n",
       "      <th></th>\n",
       "      <th></th>\n",
       "      <th></th>\n",
       "      <th></th>\n",
       "      <th></th>\n",
       "      <th></th>\n",
       "    </tr>\n",
       "  </thead>\n",
       "  <tbody>\n",
       "    <tr>\n",
       "      <th rowspan=\"2\" valign=\"top\">ICA</th>\n",
       "      <th>46</th>\n",
       "      <td>4400</td>\n",
       "      <td>K-Marks</td>\n",
       "      <td>Water Filtration System</td>\n",
       "      <td>2700.0</td>\n",
       "      <td>1700.0</td>\n",
       "    </tr>\n",
       "    <tr>\n",
       "      <th>49</th>\n",
       "      <td>12000</td>\n",
       "      <td>K-Marks</td>\n",
       "      <td>Air Lock Upgrades</td>\n",
       "      <td>3900.0</td>\n",
       "      <td>8100.0</td>\n",
       "    </tr>\n",
       "    <tr>\n",
       "      <th rowspan=\"2\" valign=\"top\">Korolev</th>\n",
       "      <th>0</th>\n",
       "      <td>3800</td>\n",
       "      <td>K-Marks</td>\n",
       "      <td>New Mining Tools</td>\n",
       "      <td>2176.0</td>\n",
       "      <td>1624.0</td>\n",
       "    </tr>\n",
       "    <tr>\n",
       "      <th>3</th>\n",
       "      <td>7600</td>\n",
       "      <td>K-Marks</td>\n",
       "      <td>None of your Business</td>\n",
       "      <td>1800.0</td>\n",
       "      <td>5800.0</td>\n",
       "    </tr>\n",
       "    <tr>\n",
       "      <th rowspan=\"2\" valign=\"top\">Osiris</th>\n",
       "      <th>94</th>\n",
       "      <td>2200</td>\n",
       "      <td>K-Marks</td>\n",
       "      <td>Lab equipment</td>\n",
       "      <td>676.0</td>\n",
       "      <td>1524.0</td>\n",
       "    </tr>\n",
       "    <tr>\n",
       "      <th>97</th>\n",
       "      <td>26000</td>\n",
       "      <td>K-Marks</td>\n",
       "      <td>Cretins</td>\n",
       "      <td>6300.0</td>\n",
       "      <td>19700.0</td>\n",
       "    </tr>\n",
       "  </tbody>\n",
       "</table>\n",
       "</div>"
      ],
      "text/plain": [
       "            Units  Rewards                      Job    Cost  Balance\n",
       "Faction                                                             \n",
       "ICA     46   4400  K-Marks  Water Filtration System  2700.0   1700.0\n",
       "        49  12000  K-Marks        Air Lock Upgrades  3900.0   8100.0\n",
       "Korolev 0    3800  K-Marks         New Mining Tools  2176.0   1624.0\n",
       "        3    7600  K-Marks    None of your Business  1800.0   5800.0\n",
       "Osiris  94   2200  K-Marks            Lab equipment   676.0   1524.0\n",
       "        97  26000  K-Marks                  Cretins  6300.0  19700.0"
      ]
     },
     "execution_count": 14,
     "metadata": {},
     "output_type": "execute_result"
    }
   ],
   "source": [
    "results['Balance'] = results['Units'] - results['Cost']\n",
    "results.groupby('Faction').take([0,3])"
   ]
  },
  {
   "cell_type": "markdown",
   "metadata": {},
   "source": [
    "## Conclusions - and Questions!"
   ]
  },
  {
   "cell_type": "markdown",
   "metadata": {},
   "source": [
    "So, now that we have the data let's work on some questions!"
   ]
  },
  {
   "cell_type": "markdown",
   "metadata": {},
   "source": [
    "Given any particular faction, which task has the highest Balance?"
   ]
  },
  {
   "cell_type": "code",
   "execution_count": 15,
   "metadata": {},
   "outputs": [
    {
     "data": {
      "text/html": [
       "<div>\n",
       "<style scoped>\n",
       "    .dataframe tbody tr th:only-of-type {\n",
       "        vertical-align: middle;\n",
       "    }\n",
       "\n",
       "    .dataframe tbody tr th {\n",
       "        vertical-align: top;\n",
       "    }\n",
       "\n",
       "    .dataframe thead th {\n",
       "        text-align: right;\n",
       "    }\n",
       "</style>\n",
       "<table border=\"1\" class=\"dataframe\">\n",
       "  <thead>\n",
       "    <tr style=\"text-align: right;\">\n",
       "      <th></th>\n",
       "      <th>Units</th>\n",
       "      <th>Rewards</th>\n",
       "      <th>Job</th>\n",
       "      <th>Faction</th>\n",
       "      <th>Cost</th>\n",
       "      <th>Balance</th>\n",
       "    </tr>\n",
       "  </thead>\n",
       "  <tbody>\n",
       "    <tr>\n",
       "      <th>91</th>\n",
       "      <td>227000</td>\n",
       "      <td>K-Marks</td>\n",
       "      <td>Striking Big</td>\n",
       "      <td>ICA</td>\n",
       "      <td>0.0</td>\n",
       "      <td>227000.0</td>\n",
       "    </tr>\n",
       "  </tbody>\n",
       "</table>\n",
       "</div>"
      ],
      "text/plain": [
       "     Units  Rewards           Job Faction  Cost   Balance\n",
       "91  227000  K-Marks  Striking Big     ICA   0.0  227000.0"
      ]
     },
     "execution_count": 15,
     "metadata": {},
     "output_type": "execute_result"
    }
   ],
   "source": [
    "balanceMax = results.Balance.max()\n",
    "results.loc[results.Balance == balanceMax]"
   ]
  },
  {
   "cell_type": "code",
   "execution_count": 16,
   "metadata": {},
   "outputs": [
    {
     "data": {
      "text/html": [
       "<div>\n",
       "<style scoped>\n",
       "    .dataframe tbody tr th:only-of-type {\n",
       "        vertical-align: middle;\n",
       "    }\n",
       "\n",
       "    .dataframe tbody tr th {\n",
       "        vertical-align: top;\n",
       "    }\n",
       "\n",
       "    .dataframe thead th {\n",
       "        text-align: right;\n",
       "    }\n",
       "</style>\n",
       "<table border=\"1\" class=\"dataframe\">\n",
       "  <thead>\n",
       "    <tr style=\"text-align: right;\">\n",
       "      <th></th>\n",
       "      <th>name</th>\n",
       "      <th>count</th>\n",
       "      <th>loot</th>\n",
       "      <th>description</th>\n",
       "    </tr>\n",
       "  </thead>\n",
       "  <tbody>\n",
       "    <tr>\n",
       "      <th>39</th>\n",
       "      <td>Striking Big</td>\n",
       "      <td>10</td>\n",
       "      <td>NiC Oil</td>\n",
       "      <td>Damn it! We ran out of Fuel for our Radiation ...</td>\n",
       "    </tr>\n",
       "  </tbody>\n",
       "</table>\n",
       "</div>"
      ],
      "text/plain": [
       "            name  count     loot  \\\n",
       "39  Striking Big     10  NiC Oil   \n",
       "\n",
       "                                          description  \n",
       "39  Damn it! We ran out of Fuel for our Radiation ...  "
      ]
     },
     "execution_count": 16,
     "metadata": {},
     "output_type": "execute_result"
    }
   ],
   "source": [
    "#| include: false\n",
    "tasks.query(\"name == 'Striking Big'\")"
   ]
  },
  {
   "cell_type": "markdown",
   "metadata": {},
   "source": [
    "Looks like it is the *Job* **Striking Big**. What's this job about?:\n",
    "> Damn it! We ran out of Fuel for our Radiation Shields here on the Station. And there's no replacement for Nanite Infused Crude Oil. You know what to do.\n",
    "\n",
    "It's collecting Oil Cannisters! Those are worth a lot of money so it's not a surprise that a task which wants you to collect them would also pay out so highly."
   ]
  },
  {
   "cell_type": "markdown",
   "metadata": {},
   "source": [
    "What about the job that pays the least?"
   ]
  },
  {
   "cell_type": "code",
   "execution_count": 17,
   "metadata": {},
   "outputs": [
    {
     "data": {
      "text/html": [
       "<div>\n",
       "<style scoped>\n",
       "    .dataframe tbody tr th:only-of-type {\n",
       "        vertical-align: middle;\n",
       "    }\n",
       "\n",
       "    .dataframe tbody tr th {\n",
       "        vertical-align: top;\n",
       "    }\n",
       "\n",
       "    .dataframe thead th {\n",
       "        text-align: right;\n",
       "    }\n",
       "</style>\n",
       "<table border=\"1\" class=\"dataframe\">\n",
       "  <thead>\n",
       "    <tr style=\"text-align: right;\">\n",
       "      <th></th>\n",
       "      <th>Units</th>\n",
       "      <th>Rewards</th>\n",
       "      <th>Job</th>\n",
       "      <th>Faction</th>\n",
       "      <th>Cost</th>\n",
       "      <th>Balance</th>\n",
       "    </tr>\n",
       "  </thead>\n",
       "  <tbody>\n",
       "    <tr>\n",
       "      <th>94</th>\n",
       "      <td>2200</td>\n",
       "      <td>K-Marks</td>\n",
       "      <td>Lab equipment</td>\n",
       "      <td>Osiris</td>\n",
       "      <td>676.0</td>\n",
       "      <td>1524.0</td>\n",
       "    </tr>\n",
       "  </tbody>\n",
       "</table>\n",
       "</div>"
      ],
      "text/plain": [
       "    Units  Rewards            Job Faction   Cost  Balance\n",
       "94   2200  K-Marks  Lab equipment  Osiris  676.0   1524.0"
      ]
     },
     "execution_count": 17,
     "metadata": {},
     "output_type": "execute_result"
    }
   ],
   "source": [
    "balanceMin = results.Balance.min()\n",
    "results.loc[results.Balance == balanceMin]"
   ]
  },
  {
   "cell_type": "markdown",
   "metadata": {},
   "source": [
    "Well, it our good friends *Osiris* failing the station again. That looks like a low level job from a cost and reward that low. Not really much of a surprise here."
   ]
  },
  {
   "cell_type": "markdown",
   "metadata": {},
   "source": [
    "So, what about the mean balance - and how many tasks are there which reward more than that average value?"
   ]
  },
  {
   "cell_type": "code",
   "execution_count": 18,
   "metadata": {},
   "outputs": [
    {
     "data": {
      "text/plain": [
       "'$20600.89'"
      ]
     },
     "execution_count": 18,
     "metadata": {},
     "output_type": "execute_result"
    }
   ],
   "source": [
    "balanceMean = results.Balance.mean()\n",
    "f\"${round(balanceMean, 2)}\""
   ]
  },
  {
   "cell_type": "code",
   "execution_count": 19,
   "metadata": {},
   "outputs": [
    {
     "data": {
      "text/plain": [
       "40"
      ]
     },
     "execution_count": 19,
     "metadata": {},
     "output_type": "execute_result"
    }
   ],
   "source": [
    "len( results.loc[results.Balance >= balanceMean])"
   ]
  },
  {
   "cell_type": "code",
   "execution_count": 20,
   "metadata": {},
   "outputs": [
    {
     "data": {
      "text/html": [
       "<div>\n",
       "<style scoped>\n",
       "    .dataframe tbody tr th:only-of-type {\n",
       "        vertical-align: middle;\n",
       "    }\n",
       "\n",
       "    .dataframe tbody tr th {\n",
       "        vertical-align: top;\n",
       "    }\n",
       "\n",
       "    .dataframe thead th {\n",
       "        text-align: right;\n",
       "    }\n",
       "</style>\n",
       "<table border=\"1\" class=\"dataframe\">\n",
       "  <thead>\n",
       "    <tr style=\"text-align: right;\">\n",
       "      <th></th>\n",
       "      <th>Faction</th>\n",
       "      <th>Count</th>\n",
       "    </tr>\n",
       "  </thead>\n",
       "  <tbody>\n",
       "    <tr>\n",
       "      <th>0</th>\n",
       "      <td>ICA</td>\n",
       "      <td>14</td>\n",
       "    </tr>\n",
       "    <tr>\n",
       "      <th>1</th>\n",
       "      <td>Korolev</td>\n",
       "      <td>14</td>\n",
       "    </tr>\n",
       "    <tr>\n",
       "      <th>2</th>\n",
       "      <td>Osiris</td>\n",
       "      <td>12</td>\n",
       "    </tr>\n",
       "  </tbody>\n",
       "</table>\n",
       "</div>"
      ],
      "text/plain": [
       "   Faction  Count\n",
       "0      ICA     14\n",
       "1  Korolev     14\n",
       "2   Osiris     12"
      ]
     },
     "execution_count": 20,
     "metadata": {},
     "output_type": "execute_result"
    }
   ],
   "source": [
    "# How many are there per faction?\n",
    "results.loc[\n",
    "    results.Balance >= balanceMean ]\\\n",
    "        .groupby('Faction')\\\n",
    "        .count()\\\n",
    "        .reset_index()\\\n",
    "        .rename({'Units':'Count'}, axis=1)[[\n",
    "    'Faction', 'Count'\n",
    "]]"
   ]
  },
  {
   "cell_type": "markdown",
   "metadata": {},
   "source": [
    "And, unsurpisingly *Osiris* is slightly behind but they're mostly the same."
   ]
  },
  {
   "cell_type": "markdown",
   "metadata": {},
   "source": [
    "Ok, so what's the cost of the Job that inspired all this work: *And Two Smoking Barrels*?"
   ]
  },
  {
   "cell_type": "code",
   "execution_count": 21,
   "metadata": {},
   "outputs": [
    {
     "data": {
      "text/html": [
       "<div>\n",
       "<style scoped>\n",
       "    .dataframe tbody tr th:only-of-type {\n",
       "        vertical-align: middle;\n",
       "    }\n",
       "\n",
       "    .dataframe tbody tr th {\n",
       "        vertical-align: top;\n",
       "    }\n",
       "\n",
       "    .dataframe thead th {\n",
       "        text-align: right;\n",
       "    }\n",
       "</style>\n",
       "<table border=\"1\" class=\"dataframe\">\n",
       "  <thead>\n",
       "    <tr style=\"text-align: right;\">\n",
       "      <th></th>\n",
       "      <th>Units</th>\n",
       "      <th>Rewards</th>\n",
       "      <th>Job</th>\n",
       "      <th>Faction</th>\n",
       "      <th>Cost</th>\n",
       "      <th>Balance</th>\n",
       "    </tr>\n",
       "  </thead>\n",
       "  <tbody>\n",
       "    <tr>\n",
       "      <th>39</th>\n",
       "      <td>19000</td>\n",
       "      <td>K-Marks</td>\n",
       "      <td>And two smoking Barrels</td>\n",
       "      <td>Korolev</td>\n",
       "      <td>0.0</td>\n",
       "      <td>19000.0</td>\n",
       "    </tr>\n",
       "  </tbody>\n",
       "</table>\n",
       "</div>"
      ],
      "text/plain": [
       "    Units  Rewards                      Job  Faction  Cost  Balance\n",
       "39  19000  K-Marks  And two smoking Barrels  Korolev   0.0  19000.0"
      ]
     },
     "execution_count": 21,
     "metadata": {},
     "output_type": "execute_result"
    }
   ],
   "source": [
    "results.loc[results.Job.str.contains(\"Barrel\")]"
   ]
  },
  {
   "cell_type": "markdown",
   "metadata": {},
   "source": [
    "Wait a minute! There should be a cost here and it is missing! Well, that's because there are no guns in the loot table. So, there is no cost when we connect the data together. And, after some further checking there are some missing values here. That quest we checked above with the Oil? They're not named the same betwee the tables: *NiC Oil* vs *NiC Oil Cannister*. It's not the only one like this either."
   ]
  },
  {
   "cell_type": "markdown",
   "metadata": {},
   "source": [
    "**Looks like we've got more work to do.**"
   ]
  }
 ],
 "metadata": {
  "kernelspec": {
   "display_name": "Python 3.10.7 64-bit",
   "language": "python",
   "name": "python3"
  },
  "language_info": {
   "codemirror_mode": {
    "name": "ipython",
    "version": 3
   },
   "file_extension": ".py",
   "mimetype": "text/x-python",
   "name": "python",
   "nbconvert_exporter": "python",
   "pygments_lexer": "ipython3",
   "version": "3.10.7"
  },
  "orig_nbformat": 4,
  "vscode": {
   "interpreter": {
    "hash": "d2152fd7f0bbc62aa1baff8c990435d1e2c7175d001561303988032604c11a48"
   }
  }
 },
 "nbformat": 4,
 "nbformat_minor": 2
}
