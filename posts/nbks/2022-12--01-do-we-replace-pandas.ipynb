{
 "cells": [
  {
   "cell_type": "raw",
   "metadata": {},
   "source": [
    "---\n",
    "title: \"Pandas Is No Longer My Default\"\n",
    "description: Or Is It?\n",
    "categories:\n",
    "- pandas\n",
    "- modin\n",
    "- tools\n",
    "author: \"Collin Mitchell\"\n",
    "date: '2022-12-02'\n",
    "layout: post\n",
    "format: \n",
    "  html:\n",
    "    code-fold: true\n",
    "toc: false\n",
    "\n",
    "---"
   ]
  },
  {
   "cell_type": "markdown",
   "metadata": {},
   "source": [
    "### Quick Observation\n",
    "I am starting to understand why there are so many posts about tools and not as much analysis. The desire to post content and not spend weeks working through problems which may not work out makes posting about new tools quite alluring. That is not to say these posts are of no value but they're certainly not results driven."
   ]
  },
  {
   "cell_type": "markdown",
   "metadata": {},
   "source": [
    "# Modin Is My New Default.\n",
    "I wish I could give credit to where I stumbled across this but I admittely already lost it. Coming soon after my previuos post about being excited that Datatables have come to Python - and I will certianly do a follow up post about using datatables -, I fell over another new tool which is definitely replacing Pandas for me: **Modin**. So, what is this?:\n",
    "> The modin.pandas DataFrame is an extremely light-weight parallel DataFrame. Modin transparently distributes the data and computation so that all you need to do is continue using the pandas API as you were before installing Modin. Unlike other parallel DataFrame systems, Modin is an extremely light-weight, robust DataFrame. Because it is so light-weight, Modin provides speed-ups of up to 4x on a laptop with 4 physical cores.\n",
    "\n",
    "It is a drop in replacement which is bulit out of Pandas. But, it also has two libraries underneath - if you installed them - to silently allow you to scale your analysis data size upwards. Take the previous post which was done where we did a test to see how long importing and posting the graph - but now in modin!"
   ]
  },
  {
   "cell_type": "code",
   "execution_count": 1,
   "metadata": {},
   "outputs": [],
   "source": [
    "import modin.pandas as md\n",
    "import pandas as pd\n",
    "from pathlib import Path\n",
    "import numpy as np\n",
    "import seaborn as sns\n",
    "\n",
    "\n",
    "\n",
    "# If it uses ray:\n",
    "# import ray\n",
    "# ray.init()"
   ]
  },
  {
   "cell_type": "markdown",
   "metadata": {},
   "source": [
    "You can change the engine it uses underneath by passing different arguments on the command line - per the Docs."
   ]
  },
  {
   "cell_type": "code",
   "execution_count": 1,
   "metadata": {},
   "outputs": [],
   "source": [
    "import os\n",
    "\n",
    "os.environ[\"MODIN_ENGINE\"] = \"ray\"  # Modin will use Ray\n",
    "os.environ[\"MODIN_ENGINE\"] = \"dask\"  # Modin will use Dask"
   ]
  },
  {
   "cell_type": "markdown",
   "metadata": {},
   "source": [
    "# I don't Recommend.\n",
    "This might be jarring for me to be excited - and then not. But, I tried to get this all working - and the good news is that I did. But, only kind of. When I ran without setting up which to use, it defaulted to `Ray` and that redlined my CPU and locked up my system. I did end up getting a successful run but the speed of it was moot."
   ]
  },
  {
   "cell_type": "code",
   "execution_count": null,
   "metadata": {},
   "outputs": [],
   "source": [
    "%%timeit -r2 -n3\n",
    "# The big boi\n",
    "path = Path('../../_drafts/_data/accepted_2007_to_2018Q4.csv')\n",
    "\n",
    "data = md.read_csv(path)\n",
    "_ = sns.displot(data, x='loan_amnt', kde=True);"
   ]
  },
  {
   "cell_type": "markdown",
   "metadata": {},
   "source": [
    "```\n",
    "1min 47s ± 1.34 s per loop (mean ± std. dev. of 2 runs, 3 loops each)\n",
    "```\n",
    "\n",
    "If we compare those numbers to the tests from the previous post, it is worse:\n",
    "```\n",
    "pandas:    1min 8s ± 64.7 ms per loop (mean ± std. dev. of 2 runs, 3 loops each)\n",
    "datatable: 55 s ± 389 ms per loop (mean ± std. dev. of 2 runs, 3 loops each)\n",
    "```\n",
    "\n",
    "So, I have worse performance with the risk of crashing my computer. Maybe there is a way to tune the CPU usage so it is not this painful but under these conditions I cannot trust using this on a large dataset."
   ]
  }
 ],
 "metadata": {
  "kernelspec": {
   "display_name": "Python 3.10.8 64-bit",
   "language": "python",
   "name": "python3"
  },
  "language_info": {
   "codemirror_mode": {
    "name": "ipython",
    "version": 3
   },
   "file_extension": ".py",
   "mimetype": "text/x-python",
   "name": "python",
   "nbconvert_exporter": "python",
   "pygments_lexer": "ipython3",
   "version": "3.10.8"
  },
  "orig_nbformat": 4,
  "vscode": {
   "interpreter": {
    "hash": "e7370f93d1d0cde622a1f8e1c04877d8463912d04d973331ad4851f04de6915a"
   }
  }
 },
 "nbformat": 4,
 "nbformat_minor": 2
}
