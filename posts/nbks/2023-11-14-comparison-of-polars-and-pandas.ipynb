{
 "cells": [
  {
   "cell_type": "raw",
   "metadata": {},
   "source": [
    "---\n",
    "title: \"Overview of Pandas vs Polars\"\n",
    "description: Simple Comparison of Pandas and Polars\n",
    "categories:\n",
    "- python\n",
    "- pandas\n",
    "- polars\n",
    "- data analyst\n",
    "- data science\n",
    "date: '2023-11-14'\n",
    "layout: post\n",
    "toc: true\n",
    "---"
   ]
  },
  {
   "cell_type": "markdown",
   "metadata": {},
   "source": [
    "# Polars Vs Pandas: A Brief Overview of Common Functionality\n",
    "There has been a growing amount of buzz around a new Python Data Frame Library called [**Polars**](https://pola-rs.github.io/polars/).\n",
    "This library is a Data Frame Library for two languages: Python and Rust. The library is primarily written in Rust but has Python bindings and you can tell as you read through the documentation's examples. They do also outright admit this on the front page of the site.\n",
    "The biggest boast from the library is how much faster it is and how performant it is with respect to memory usage. This is excellent for us Python Programmers since these are known weaknesses for Python; at least when pure Python is referenced.\n",
    "\n",
    "In today's post, I'm going to compare using these two libraries against one another for common tasks in Data Analytics.So, let's jump right in!"
   ]
  },
  {
   "cell_type": "code",
   "execution_count": 1,
   "metadata": {},
   "outputs": [],
   "source": [
    "import numpy as np\n",
    "import polars as pl # proper nomenclature for importing polars\n",
    "import pandas as pd"
   ]
  },
  {
   "cell_type": "markdown",
   "metadata": {},
   "source": [
    "## Methods To Create Data Frames\n",
    "The first most common operation is simply making a data frame.\n",
    "Surprisingly often, when working on projects one will have to convert external data into a frame for processing. Whether this is from files on your own filesystem or getting scraped web data into a usable state. We'll generate some random data using a novel approach to data generation from [Real Python's Example Post](https://realpython.com/polars-python/). This uses an improved Random Number Generator built into the numpy library; thanks for showing this off Real Python! Anyways, here is their example *but* for a lot more rows of data:"
   ]
  },
  {
   "cell_type": "code",
   "execution_count": 2,
   "metadata": {},
   "outputs": [],
   "source": [
    "rowSize = 5000000\n",
    "rng = np.random.default_rng(seed=7)\n",
    "\n",
    "randomdata = {\n",
    "     \"sqft\": rng.exponential(scale=1000, size=rowSize),\n",
    "     \"year\": rng.integers(low=1889, high=2023, size=rowSize),\n",
    "     \"building_type\": rng.choice([\"X\", \"Y\", \"Z\"], size=rowSize),\n",
    " }"
   ]
  },
  {
   "cell_type": "markdown",
   "metadata": {},
   "source": [
    "Both libraries have the default interface to create a data frame from a dictionary in Python:"
   ]
  },
  {
   "cell_type": "code",
   "execution_count": 3,
   "metadata": {},
   "outputs": [],
   "source": [
    "polarBuildings = pl.DataFrame(randomdata)\n",
    "pandaBuildings = pd.DataFrame(randomdata)"
   ]
  },
  {
   "cell_type": "markdown",
   "metadata": {},
   "source": [
    "There are some real differences however in the function definitions between [pandas](https://pandas.pydata.org/pandas-docs/stable/reference/api/pandas.DataFrame.html) and [Polars](https://pola-rs.github.io/polars/py-polars/html/reference/dataframe/index.html#dataframe). If you are careful about reading these pages then you likely will notice Polars refers to a **schema**. With Polars, you can elaborate what data types you expect all the columns to be instead of letting the library infer them. This is quite useful if you have pre-cleaned data or expect data structured in a specific way. Pandas does not include this ability and you will have to convert and clean up the columns after the import takes place.\n",
    "\n",
    "If we take a look at these data frames, we can already see a marked difference in presentation:"
   ]
  },
  {
   "cell_type": "code",
   "execution_count": 4,
   "metadata": {},
   "outputs": [
    {
     "data": {
      "text/html": [
       "<div><style>\n",
       ".dataframe > thead > tr > th,\n",
       ".dataframe > tbody > tr > td {\n",
       "  text-align: right;\n",
       "  white-space: pre-wrap;\n",
       "}\n",
       "</style>\n",
       "<small>shape: (5, 3)</small><table border=\"1\" class=\"dataframe\"><thead><tr><th>sqft</th><th>year</th><th>building_type</th></tr><tr><td>f64</td><td>i64</td><td>str</td></tr></thead><tbody><tr><td>707.529256</td><td>1975</td><td>&quot;Z&quot;</td></tr><tr><td>1025.203348</td><td>2011</td><td>&quot;X&quot;</td></tr><tr><td>568.548657</td><td>1970</td><td>&quot;X&quot;</td></tr><tr><td>895.109864</td><td>1999</td><td>&quot;Y&quot;</td></tr><tr><td>206.532754</td><td>2011</td><td>&quot;Y&quot;</td></tr></tbody></table></div>"
      ],
      "text/plain": [
       "shape: (5, 3)\n",
       "┌─────────────┬──────┬───────────────┐\n",
       "│ sqft        ┆ year ┆ building_type │\n",
       "│ ---         ┆ ---  ┆ ---           │\n",
       "│ f64         ┆ i64  ┆ str           │\n",
       "╞═════════════╪══════╪═══════════════╡\n",
       "│ 707.529256  ┆ 1975 ┆ Z             │\n",
       "│ 1025.203348 ┆ 2011 ┆ X             │\n",
       "│ 568.548657  ┆ 1970 ┆ X             │\n",
       "│ 895.109864  ┆ 1999 ┆ Y             │\n",
       "│ 206.532754  ┆ 2011 ┆ Y             │\n",
       "└─────────────┴──────┴───────────────┘"
      ]
     },
     "execution_count": 4,
     "metadata": {},
     "output_type": "execute_result"
    }
   ],
   "source": [
    "polarBuildings.head()"
   ]
  },
  {
   "cell_type": "code",
   "execution_count": 5,
   "metadata": {},
   "outputs": [
    {
     "data": {
      "text/html": [
       "<div>\n",
       "<style scoped>\n",
       "    .dataframe tbody tr th:only-of-type {\n",
       "        vertical-align: middle;\n",
       "    }\n",
       "\n",
       "    .dataframe tbody tr th {\n",
       "        vertical-align: top;\n",
       "    }\n",
       "\n",
       "    .dataframe thead th {\n",
       "        text-align: right;\n",
       "    }\n",
       "</style>\n",
       "<table border=\"1\" class=\"dataframe\">\n",
       "  <thead>\n",
       "    <tr style=\"text-align: right;\">\n",
       "      <th></th>\n",
       "      <th>sqft</th>\n",
       "      <th>year</th>\n",
       "      <th>building_type</th>\n",
       "    </tr>\n",
       "  </thead>\n",
       "  <tbody>\n",
       "    <tr>\n",
       "      <th>0</th>\n",
       "      <td>707.529256</td>\n",
       "      <td>1975</td>\n",
       "      <td>Z</td>\n",
       "    </tr>\n",
       "    <tr>\n",
       "      <th>1</th>\n",
       "      <td>1025.203348</td>\n",
       "      <td>2011</td>\n",
       "      <td>X</td>\n",
       "    </tr>\n",
       "    <tr>\n",
       "      <th>2</th>\n",
       "      <td>568.548657</td>\n",
       "      <td>1970</td>\n",
       "      <td>X</td>\n",
       "    </tr>\n",
       "    <tr>\n",
       "      <th>3</th>\n",
       "      <td>895.109864</td>\n",
       "      <td>1999</td>\n",
       "      <td>Y</td>\n",
       "    </tr>\n",
       "    <tr>\n",
       "      <th>4</th>\n",
       "      <td>206.532754</td>\n",
       "      <td>2011</td>\n",
       "      <td>Y</td>\n",
       "    </tr>\n",
       "  </tbody>\n",
       "</table>\n",
       "</div>"
      ],
      "text/plain": [
       "          sqft  year building_type\n",
       "0   707.529256  1975             Z\n",
       "1  1025.203348  2011             X\n",
       "2   568.548657  1970             X\n",
       "3   895.109864  1999             Y\n",
       "4   206.532754  2011             Y"
      ]
     },
     "execution_count": 5,
     "metadata": {},
     "output_type": "execute_result"
    }
   ],
   "source": [
    "pandaBuildings.head()"
   ]
  },
  {
   "cell_type": "markdown",
   "metadata": {},
   "source": [
    "Polars includes the data type as a subheader which is another nice default feature. You can quickly tell the inferred column types or casting failed.\n",
    "Also, there is no **Index** printed for the Polars data frame as there is for the Pandas frame. This index does exist - as we'll see when we start doing subsetting - but is simply not cluttering up the output. Honestly, outside of Time Series data I find the index an annoyance to manage so this is another plus to me. Forcibly telling Pandas not to include the index when writing to CSVs sourced from a Pandas data frame is just another way you can trip over yourself while trying to do work. \n",
    "This does however raise the question how developed the *Polars* library is with respect to Time Series problems.\n",
    "\n",
    "### Reading in Data from Files\n",
    "Both Polars and Pandas has the ability to read multiple formats across the data landscape: CSV, Arrow, JSON, etc. They both have matching function calls for this as you would expect:"
   ]
  },
  {
   "cell_type": "code",
   "execution_count": 6,
   "metadata": {},
   "outputs": [],
   "source": [
    "# Some Data I Know has problems:\n",
    "url = 'https://media.githubusercontent.com/media/Shoklan/public-projects/main/Data/Kaggle/AllThrillerSeriesList.csv'\n",
    "\n",
    "dfl = pl.read_csv(url)\n",
    "dfd = pd.read_csv(url)"
   ]
  },
  {
   "cell_type": "code",
   "execution_count": 7,
   "metadata": {},
   "outputs": [
    {
     "data": {
      "text/html": [
       "<div><style>\n",
       ".dataframe > thead > tr > th,\n",
       ".dataframe > tbody > tr > td {\n",
       "  text-align: right;\n",
       "  white-space: pre-wrap;\n",
       "}\n",
       "</style>\n",
       "<small>shape: (7, 9)</small><table border=\"1\" class=\"dataframe\"><thead><tr><th></th><th>Name</th><th>Year</th><th>Tv Certificate</th><th>Duration per episode</th><th>Genre</th><th>Ratings</th><th>Actor/Actress</th><th>Votes</th></tr><tr><td>i64</td><td>str</td><td>str</td><td>str</td><td>str</td><td>str</td><td>f64</td><td>str</td><td>str</td></tr></thead><tbody><tr><td>0</td><td>&quot;Andor&quot;</td><td>&quot;2022– &quot;</td><td>&quot;TV-14 &quot;</td><td>&quot; 40 min &quot;</td><td>&quot; Action, Adven…</td><td>8.4</td><td>&quot; Diego Luna, K…</td><td>&quot; 82,474&quot;</td></tr><tr><td>1</td><td>&quot;The Peripheral…</td><td>&quot;2022– &quot;</td><td>&quot;TV-MA &quot;</td><td>null</td><td>&quot; Drama, Myster…</td><td>8.0</td><td>&quot; Chloë Grace M…</td><td>&quot; 34,768&quot;</td></tr><tr><td>2</td><td>&quot;The Walking De…</td><td>&quot;2010–2022&quot;</td><td>&quot;TV-MA &quot;</td><td>&quot; 44 min &quot;</td><td>&quot; Drama, Horror…</td><td>8.1</td><td>&quot; Andrew Lincol…</td><td>&quot; 988,666&quot;</td></tr><tr><td>3</td><td>&quot;Criminal Minds…</td><td>&quot;2005– &quot;</td><td>&quot;TV-14 &quot;</td><td>&quot; 42 min &quot;</td><td>&quot; Crime, Drama,…</td><td>8.1</td><td>&quot; Kirsten Vangs…</td><td>&quot; 198,262&quot;</td></tr><tr><td>4</td><td>&quot;Breaking Bad&quot;</td><td>&quot;2008–2013&quot;</td><td>&quot;TV-MA &quot;</td><td>&quot; 49 min &quot;</td><td>&quot; Crime, Drama,…</td><td>9.5</td><td>&quot; Bryan Cransto…</td><td>&quot; 1,872,005&quot;</td></tr><tr><td>5</td><td>&quot;Dark&quot;</td><td>&quot;2017–2020&quot;</td><td>&quot;TV-MA &quot;</td><td>&quot; 60 min &quot;</td><td>&quot; Crime, Drama,…</td><td>8.7</td><td>&quot; Louis Hofmann…</td><td>&quot; 384,702&quot;</td></tr><tr><td>6</td><td>&quot;Manifest&quot;</td><td>&quot;2018– &quot;</td><td>&quot;TV-14 &quot;</td><td>&quot; 43 min &quot;</td><td>&quot; Drama, Myster…</td><td>7.1</td><td>&quot; Melissa Roxbu…</td><td>&quot; 66,158&quot;</td></tr></tbody></table></div>"
      ],
      "text/plain": [
       "shape: (7, 9)\n",
       "┌─────┬─────────────┬───────────┬─────────────┬───┬────────────┬─────────┬────────────┬────────────┐\n",
       "│     ┆ Name        ┆ Year      ┆ Tv          ┆ … ┆ Genre      ┆ Ratings ┆ Actor/Actr ┆ Votes      │\n",
       "│ --- ┆ ---         ┆ ---       ┆ Certificate ┆   ┆ ---        ┆ ---     ┆ ess        ┆ ---        │\n",
       "│ i64 ┆ str         ┆ str       ┆ ---         ┆   ┆ str        ┆ f64     ┆ ---        ┆ str        │\n",
       "│     ┆             ┆           ┆ str         ┆   ┆            ┆         ┆ str        ┆            │\n",
       "╞═════╪═════════════╪═══════════╪═════════════╪═══╪════════════╪═════════╪════════════╪════════════╡\n",
       "│ 0   ┆ Andor       ┆ 2022–     ┆ TV-14       ┆ … ┆ Action,    ┆ 8.4     ┆ Diego      ┆  82,474    │\n",
       "│     ┆             ┆           ┆             ┆   ┆ Adventure, ┆         ┆ Luna, Kyle ┆            │\n",
       "│     ┆             ┆           ┆             ┆   ┆ Drama      ┆         ┆ Soller,    ┆            │\n",
       "│     ┆             ┆           ┆             ┆   ┆            ┆         ┆ Stella…    ┆            │\n",
       "│ 1   ┆ The         ┆ 2022–     ┆ TV-MA       ┆ … ┆ Drama,     ┆ 8.0     ┆ Chloë      ┆  34,768    │\n",
       "│     ┆ Peripheral  ┆           ┆             ┆   ┆ Mystery,   ┆         ┆ Grace      ┆            │\n",
       "│     ┆             ┆           ┆             ┆   ┆ Sci-Fi     ┆         ┆ Moretz,    ┆            │\n",
       "│     ┆             ┆           ┆             ┆   ┆            ┆         ┆ Gary Carr, ┆            │\n",
       "│     ┆             ┆           ┆             ┆   ┆            ┆         ┆ …          ┆            │\n",
       "│ 2   ┆ The Walking ┆ 2010–2022 ┆ TV-MA       ┆ … ┆ Drama,     ┆ 8.1     ┆ Andrew     ┆  988,666   │\n",
       "│     ┆ Dead        ┆           ┆             ┆   ┆ Horror,    ┆         ┆ Lincoln,   ┆            │\n",
       "│     ┆             ┆           ┆             ┆   ┆ Thriller   ┆         ┆ Norman     ┆            │\n",
       "│     ┆             ┆           ┆             ┆   ┆            ┆         ┆ Reedus, …  ┆            │\n",
       "│ 3   ┆ Criminal    ┆ 2005–     ┆ TV-14       ┆ … ┆ Crime,     ┆ 8.1     ┆ Kirsten    ┆  198,262   │\n",
       "│     ┆ Minds       ┆           ┆             ┆   ┆ Drama,     ┆         ┆ Vangsness, ┆            │\n",
       "│     ┆             ┆           ┆             ┆   ┆ Mystery    ┆         ┆ Matthew    ┆            │\n",
       "│     ┆             ┆           ┆             ┆   ┆            ┆         ┆ Gray…      ┆            │\n",
       "│ 4   ┆ Breaking    ┆ 2008–2013 ┆ TV-MA       ┆ … ┆ Crime,     ┆ 9.5     ┆ Bryan      ┆  1,872,005 │\n",
       "│     ┆ Bad         ┆           ┆             ┆   ┆ Drama,     ┆         ┆ Cranston,  ┆            │\n",
       "│     ┆             ┆           ┆             ┆   ┆ Thriller   ┆         ┆ Aaron      ┆            │\n",
       "│     ┆             ┆           ┆             ┆   ┆            ┆         ┆ Paul, Ann… ┆            │\n",
       "│ 5   ┆ Dark        ┆ 2017–2020 ┆ TV-MA       ┆ … ┆ Crime,     ┆ 8.7     ┆ Louis      ┆  384,702   │\n",
       "│     ┆             ┆           ┆             ┆   ┆ Drama,     ┆         ┆ Hofmann,   ┆            │\n",
       "│     ┆             ┆           ┆             ┆   ┆ Mystery    ┆         ┆ Karoline   ┆            │\n",
       "│     ┆             ┆           ┆             ┆   ┆            ┆         ┆ Eichhor…   ┆            │\n",
       "│ 6   ┆ Manifest    ┆ 2018–     ┆ TV-14       ┆ … ┆ Drama,     ┆ 7.1     ┆ Melissa    ┆  66,158    │\n",
       "│     ┆             ┆           ┆             ┆   ┆ Mystery,   ┆         ┆ Roxburgh,  ┆            │\n",
       "│     ┆             ┆           ┆             ┆   ┆ Sci-Fi     ┆         ┆ Josh       ┆            │\n",
       "│     ┆             ┆           ┆             ┆   ┆            ┆         ┆ Dallas, …  ┆            │\n",
       "└─────┴─────────────┴───────────┴─────────────┴───┴────────────┴─────────┴────────────┴────────────┘"
      ]
     },
     "execution_count": 7,
     "metadata": {},
     "output_type": "execute_result"
    }
   ],
   "source": [
    "dfl.head(7)"
   ]
  },
  {
   "cell_type": "code",
   "execution_count": 8,
   "metadata": {},
   "outputs": [
    {
     "data": {
      "text/html": [
       "<div>\n",
       "<style scoped>\n",
       "    .dataframe tbody tr th:only-of-type {\n",
       "        vertical-align: middle;\n",
       "    }\n",
       "\n",
       "    .dataframe tbody tr th {\n",
       "        vertical-align: top;\n",
       "    }\n",
       "\n",
       "    .dataframe thead th {\n",
       "        text-align: right;\n",
       "    }\n",
       "</style>\n",
       "<table border=\"1\" class=\"dataframe\">\n",
       "  <thead>\n",
       "    <tr style=\"text-align: right;\">\n",
       "      <th></th>\n",
       "      <th>Unnamed: 0</th>\n",
       "      <th>Name</th>\n",
       "      <th>Year</th>\n",
       "      <th>Tv Certificate</th>\n",
       "      <th>Duration per episode</th>\n",
       "      <th>Genre</th>\n",
       "      <th>Ratings</th>\n",
       "      <th>Actor/Actress</th>\n",
       "      <th>Votes</th>\n",
       "    </tr>\n",
       "  </thead>\n",
       "  <tbody>\n",
       "    <tr>\n",
       "      <th>0</th>\n",
       "      <td>0</td>\n",
       "      <td>Andor</td>\n",
       "      <td>2022–</td>\n",
       "      <td>TV-14</td>\n",
       "      <td>40 min</td>\n",
       "      <td>Action, Adventure, Drama</td>\n",
       "      <td>8.4</td>\n",
       "      <td>Diego Luna, Kyle Soller, Stellan Skarsgård, G...</td>\n",
       "      <td>82,474</td>\n",
       "    </tr>\n",
       "    <tr>\n",
       "      <th>1</th>\n",
       "      <td>1</td>\n",
       "      <td>The Peripheral</td>\n",
       "      <td>2022–</td>\n",
       "      <td>TV-MA</td>\n",
       "      <td>NaN</td>\n",
       "      <td>Drama, Mystery, Sci-Fi</td>\n",
       "      <td>8.0</td>\n",
       "      <td>Chloë Grace Moretz, Gary Carr, Jack Reynor, J...</td>\n",
       "      <td>34,768</td>\n",
       "    </tr>\n",
       "    <tr>\n",
       "      <th>2</th>\n",
       "      <td>2</td>\n",
       "      <td>The Walking Dead</td>\n",
       "      <td>2010–2022</td>\n",
       "      <td>TV-MA</td>\n",
       "      <td>44 min</td>\n",
       "      <td>Drama, Horror, Thriller</td>\n",
       "      <td>8.1</td>\n",
       "      <td>Andrew Lincoln, Norman Reedus, Melissa McBrid...</td>\n",
       "      <td>988,666</td>\n",
       "    </tr>\n",
       "    <tr>\n",
       "      <th>3</th>\n",
       "      <td>3</td>\n",
       "      <td>Criminal Minds</td>\n",
       "      <td>2005–</td>\n",
       "      <td>TV-14</td>\n",
       "      <td>42 min</td>\n",
       "      <td>Crime, Drama, Mystery</td>\n",
       "      <td>8.1</td>\n",
       "      <td>Kirsten Vangsness, Matthew Gray Gubler, A.J. ...</td>\n",
       "      <td>198,262</td>\n",
       "    </tr>\n",
       "    <tr>\n",
       "      <th>4</th>\n",
       "      <td>4</td>\n",
       "      <td>Breaking Bad</td>\n",
       "      <td>2008–2013</td>\n",
       "      <td>TV-MA</td>\n",
       "      <td>49 min</td>\n",
       "      <td>Crime, Drama, Thriller</td>\n",
       "      <td>9.5</td>\n",
       "      <td>Bryan Cranston, Aaron Paul, Anna Gunn, Betsy ...</td>\n",
       "      <td>1,872,005</td>\n",
       "    </tr>\n",
       "    <tr>\n",
       "      <th>5</th>\n",
       "      <td>5</td>\n",
       "      <td>Dark</td>\n",
       "      <td>2017–2020</td>\n",
       "      <td>TV-MA</td>\n",
       "      <td>60 min</td>\n",
       "      <td>Crime, Drama, Mystery</td>\n",
       "      <td>8.7</td>\n",
       "      <td>Louis Hofmann, Karoline Eichhorn, Lisa Vicari...</td>\n",
       "      <td>384,702</td>\n",
       "    </tr>\n",
       "    <tr>\n",
       "      <th>6</th>\n",
       "      <td>6</td>\n",
       "      <td>Manifest</td>\n",
       "      <td>2018–</td>\n",
       "      <td>TV-14</td>\n",
       "      <td>43 min</td>\n",
       "      <td>Drama, Mystery, Sci-Fi</td>\n",
       "      <td>7.1</td>\n",
       "      <td>Melissa Roxburgh, Josh Dallas, J.R. Ramirez, ...</td>\n",
       "      <td>66,158</td>\n",
       "    </tr>\n",
       "  </tbody>\n",
       "</table>\n",
       "</div>"
      ],
      "text/plain": [
       "   Unnamed: 0              Name       Year Tv Certificate  \\\n",
       "0           0             Andor     2022–          TV-14    \n",
       "1           1    The Peripheral     2022–          TV-MA    \n",
       "2           2  The Walking Dead  2010–2022         TV-MA    \n",
       "3           3    Criminal Minds     2005–          TV-14    \n",
       "4           4      Breaking Bad  2008–2013         TV-MA    \n",
       "5           5              Dark  2017–2020         TV-MA    \n",
       "6           6          Manifest     2018–          TV-14    \n",
       "\n",
       "  Duration per episode                      Genre  Ratings  \\\n",
       "0              40 min    Action, Adventure, Drama      8.4   \n",
       "1                  NaN     Drama, Mystery, Sci-Fi      8.0   \n",
       "2              44 min     Drama, Horror, Thriller      8.1   \n",
       "3              42 min       Crime, Drama, Mystery      8.1   \n",
       "4              49 min      Crime, Drama, Thriller      9.5   \n",
       "5              60 min       Crime, Drama, Mystery      8.7   \n",
       "6              43 min      Drama, Mystery, Sci-Fi      7.1   \n",
       "\n",
       "                                       Actor/Actress       Votes  \n",
       "0   Diego Luna, Kyle Soller, Stellan Skarsgård, G...      82,474  \n",
       "1   Chloë Grace Moretz, Gary Carr, Jack Reynor, J...      34,768  \n",
       "2   Andrew Lincoln, Norman Reedus, Melissa McBrid...     988,666  \n",
       "3   Kirsten Vangsness, Matthew Gray Gubler, A.J. ...     198,262  \n",
       "4   Bryan Cranston, Aaron Paul, Anna Gunn, Betsy ...   1,872,005  \n",
       "5   Louis Hofmann, Karoline Eichhorn, Lisa Vicari...     384,702  \n",
       "6   Melissa Roxburgh, Josh Dallas, J.R. Ramirez, ...      66,158  "
      ]
     },
     "execution_count": 8,
     "metadata": {},
     "output_type": "execute_result"
    }
   ],
   "source": [
    "dfd.head(7)"
   ]
  },
  {
   "cell_type": "markdown",
   "metadata": {},
   "source": [
    "### Reading Vs Scanning\n",
    "Here is a topic where we will need to shortly switch our focus from comparison to only Polars: *Polars* has a Lazy Evaluation API for reading files.\n",
    "If you have not come across **Lazy Evaluation** before then all this means is that work is delayed until such time that we need a result. A deeper discussion of this topic is beyond the scope of this post but by doing this the program can create a plan of action which can be optimized. If you are interested more in this topic then I recommend looking up discussions about [Directed Acyclic Graphs](https://en.wikipedia.org/wiki/Directed_acyclic_graph). For now, though this allows Polars to only read columns which are necessary for your analysis and therefore saving you time, compute and memory on Data tasks.\n",
    "Please note that while the `.read_csv()` functions both work with urls, the `scan_*` functions do not work with urls. I tried and definitely can confirm it does not work!"
   ]
  },
  {
   "cell_type": "markdown",
   "metadata": {},
   "source": [
    "## Data Frame Summaries\n",
    "Once your data is imported, often you will want to do some quick checks making sure the data import worked and the results were sane. Both Polars and Pandas share the `.describe()` function which gives you summary statistical information about the columns:"
   ]
  },
  {
   "cell_type": "code",
   "execution_count": 9,
   "metadata": {},
   "outputs": [
    {
     "data": {
      "text/html": [
       "<div><style>\n",
       ".dataframe > thead > tr > th,\n",
       ".dataframe > tbody > tr > td {\n",
       "  text-align: right;\n",
       "  white-space: pre-wrap;\n",
       "}\n",
       "</style>\n",
       "<small>shape: (9, 4)</small><table border=\"1\" class=\"dataframe\"><thead><tr><th>describe</th><th>sqft</th><th>year</th><th>building_type</th></tr><tr><td>str</td><td>f64</td><td>f64</td><td>str</td></tr></thead><tbody><tr><td>&quot;count&quot;</td><td>5e6</td><td>5e6</td><td>&quot;5000000&quot;</td></tr><tr><td>&quot;null_count&quot;</td><td>0.0</td><td>0.0</td><td>&quot;0&quot;</td></tr><tr><td>&quot;mean&quot;</td><td>999.647777</td><td>1955.507764</td><td>null</td></tr><tr><td>&quot;std&quot;</td><td>999.390909</td><td>38.687521</td><td>null</td></tr><tr><td>&quot;min&quot;</td><td>0.000078</td><td>1889.0</td><td>&quot;X&quot;</td></tr><tr><td>&quot;25%&quot;</td><td>287.605602</td><td>1922.0</td><td>null</td></tr><tr><td>&quot;50%&quot;</td><td>692.846786</td><td>1956.0</td><td>null</td></tr><tr><td>&quot;75%&quot;</td><td>1386.66725</td><td>1989.0</td><td>null</td></tr><tr><td>&quot;max&quot;</td><td>15701.555622</td><td>2022.0</td><td>&quot;Z&quot;</td></tr></tbody></table></div>"
      ],
      "text/plain": [
       "shape: (9, 4)\n",
       "┌────────────┬──────────────┬─────────────┬───────────────┐\n",
       "│ describe   ┆ sqft         ┆ year        ┆ building_type │\n",
       "│ ---        ┆ ---          ┆ ---         ┆ ---           │\n",
       "│ str        ┆ f64          ┆ f64         ┆ str           │\n",
       "╞════════════╪══════════════╪═════════════╪═══════════════╡\n",
       "│ count      ┆ 5e6          ┆ 5e6         ┆ 5000000       │\n",
       "│ null_count ┆ 0.0          ┆ 0.0         ┆ 0             │\n",
       "│ mean       ┆ 999.647777   ┆ 1955.507764 ┆ null          │\n",
       "│ std        ┆ 999.390909   ┆ 38.687521   ┆ null          │\n",
       "│ min        ┆ 0.000078     ┆ 1889.0      ┆ X             │\n",
       "│ 25%        ┆ 287.605602   ┆ 1922.0      ┆ null          │\n",
       "│ 50%        ┆ 692.846786   ┆ 1956.0      ┆ null          │\n",
       "│ 75%        ┆ 1386.66725   ┆ 1989.0      ┆ null          │\n",
       "│ max        ┆ 15701.555622 ┆ 2022.0      ┆ Z             │\n",
       "└────────────┴──────────────┴─────────────┴───────────────┘"
      ]
     },
     "execution_count": 9,
     "metadata": {},
     "output_type": "execute_result"
    }
   ],
   "source": [
    "polarBuildings.describe()"
   ]
  },
  {
   "cell_type": "code",
   "execution_count": 10,
   "metadata": {},
   "outputs": [
    {
     "data": {
      "text/html": [
       "<div>\n",
       "<style scoped>\n",
       "    .dataframe tbody tr th:only-of-type {\n",
       "        vertical-align: middle;\n",
       "    }\n",
       "\n",
       "    .dataframe tbody tr th {\n",
       "        vertical-align: top;\n",
       "    }\n",
       "\n",
       "    .dataframe thead th {\n",
       "        text-align: right;\n",
       "    }\n",
       "</style>\n",
       "<table border=\"1\" class=\"dataframe\">\n",
       "  <thead>\n",
       "    <tr style=\"text-align: right;\">\n",
       "      <th></th>\n",
       "      <th>sqft</th>\n",
       "      <th>year</th>\n",
       "    </tr>\n",
       "  </thead>\n",
       "  <tbody>\n",
       "    <tr>\n",
       "      <th>count</th>\n",
       "      <td>5.000000e+06</td>\n",
       "      <td>5.000000e+06</td>\n",
       "    </tr>\n",
       "    <tr>\n",
       "      <th>mean</th>\n",
       "      <td>9.996478e+02</td>\n",
       "      <td>1.955508e+03</td>\n",
       "    </tr>\n",
       "    <tr>\n",
       "      <th>std</th>\n",
       "      <td>9.993909e+02</td>\n",
       "      <td>3.868752e+01</td>\n",
       "    </tr>\n",
       "    <tr>\n",
       "      <th>min</th>\n",
       "      <td>7.785435e-05</td>\n",
       "      <td>1.889000e+03</td>\n",
       "    </tr>\n",
       "    <tr>\n",
       "      <th>25%</th>\n",
       "      <td>2.876055e+02</td>\n",
       "      <td>1.922000e+03</td>\n",
       "    </tr>\n",
       "    <tr>\n",
       "      <th>50%</th>\n",
       "      <td>6.928466e+02</td>\n",
       "      <td>1.956000e+03</td>\n",
       "    </tr>\n",
       "    <tr>\n",
       "      <th>75%</th>\n",
       "      <td>1.386667e+03</td>\n",
       "      <td>1.989000e+03</td>\n",
       "    </tr>\n",
       "    <tr>\n",
       "      <th>max</th>\n",
       "      <td>1.570156e+04</td>\n",
       "      <td>2.022000e+03</td>\n",
       "    </tr>\n",
       "  </tbody>\n",
       "</table>\n",
       "</div>"
      ],
      "text/plain": [
       "               sqft          year\n",
       "count  5.000000e+06  5.000000e+06\n",
       "mean   9.996478e+02  1.955508e+03\n",
       "std    9.993909e+02  3.868752e+01\n",
       "min    7.785435e-05  1.889000e+03\n",
       "25%    2.876055e+02  1.922000e+03\n",
       "50%    6.928466e+02  1.956000e+03\n",
       "75%    1.386667e+03  1.989000e+03\n",
       "max    1.570156e+04  2.022000e+03"
      ]
     },
     "execution_count": 10,
     "metadata": {},
     "output_type": "execute_result"
    }
   ],
   "source": [
    "pandaBuildings.describe()"
   ]
  },
  {
   "cell_type": "markdown",
   "metadata": {},
   "source": [
    "While most of the information is the same, I would like to point out that the *Missing Values* has been added to this summary output. Since there is no `.info()` call for Polars, this is a proper place for that information.\n",
    "\n",
    "## Methods to Slice a Data Frame.\n",
    "Moving past basic information, another common operation is taking slices out of data frames. Pandas has two functions for this: `.loc[]` and `.iloc[]` respectively. One is supposed to use numerics while the other is supposed to use labels.\n",
    "Frankly, these are not as clearly defined as they should be. For example, you can use numeric indexes for `.iloc[]` but also a boolean array per the documentation.\n",
    "The problem here is that both functions allow you to use this boolean array when either one or the other should. And, all forms of slicing the rows is still a number anyways."
   ]
  },
  {
   "cell_type": "code",
   "execution_count": 14,
   "metadata": {},
   "outputs": [
    {
     "data": {
      "text/html": [
       "<div>\n",
       "<style scoped>\n",
       "    .dataframe tbody tr th:only-of-type {\n",
       "        vertical-align: middle;\n",
       "    }\n",
       "\n",
       "    .dataframe tbody tr th {\n",
       "        vertical-align: top;\n",
       "    }\n",
       "\n",
       "    .dataframe thead th {\n",
       "        text-align: right;\n",
       "    }\n",
       "</style>\n",
       "<table border=\"1\" class=\"dataframe\">\n",
       "  <thead>\n",
       "    <tr style=\"text-align: right;\">\n",
       "      <th></th>\n",
       "      <th>sqft</th>\n",
       "      <th>year</th>\n",
       "      <th>building_type</th>\n",
       "    </tr>\n",
       "  </thead>\n",
       "  <tbody>\n",
       "    <tr>\n",
       "      <th>1</th>\n",
       "      <td>1025.203348</td>\n",
       "      <td>2011</td>\n",
       "      <td>X</td>\n",
       "    </tr>\n",
       "    <tr>\n",
       "      <th>2</th>\n",
       "      <td>568.548657</td>\n",
       "      <td>1970</td>\n",
       "      <td>X</td>\n",
       "    </tr>\n",
       "    <tr>\n",
       "      <th>3</th>\n",
       "      <td>895.109864</td>\n",
       "      <td>1999</td>\n",
       "      <td>Y</td>\n",
       "    </tr>\n",
       "    <tr>\n",
       "      <th>4</th>\n",
       "      <td>206.532754</td>\n",
       "      <td>2011</td>\n",
       "      <td>Y</td>\n",
       "    </tr>\n",
       "    <tr>\n",
       "      <th>5</th>\n",
       "      <td>3383.637351</td>\n",
       "      <td>2007</td>\n",
       "      <td>Z</td>\n",
       "    </tr>\n",
       "    <tr>\n",
       "      <th>6</th>\n",
       "      <td>9.753627</td>\n",
       "      <td>1948</td>\n",
       "      <td>Y</td>\n",
       "    </tr>\n",
       "    <tr>\n",
       "      <th>7</th>\n",
       "      <td>2809.215763</td>\n",
       "      <td>1968</td>\n",
       "      <td>Y</td>\n",
       "    </tr>\n",
       "    <tr>\n",
       "      <th>8</th>\n",
       "      <td>575.332756</td>\n",
       "      <td>1953</td>\n",
       "      <td>Z</td>\n",
       "    </tr>\n",
       "    <tr>\n",
       "      <th>9</th>\n",
       "      <td>300.534013</td>\n",
       "      <td>1928</td>\n",
       "      <td>X</td>\n",
       "    </tr>\n",
       "  </tbody>\n",
       "</table>\n",
       "</div>"
      ],
      "text/plain": [
       "          sqft  year building_type\n",
       "1  1025.203348  2011             X\n",
       "2   568.548657  1970             X\n",
       "3   895.109864  1999             Y\n",
       "4   206.532754  2011             Y\n",
       "5  3383.637351  2007             Z\n",
       "6     9.753627  1948             Y\n",
       "7  2809.215763  1968             Y\n",
       "8   575.332756  1953             Z\n",
       "9   300.534013  1928             X"
      ]
     },
     "execution_count": 14,
     "metadata": {},
     "output_type": "execute_result"
    }
   ],
   "source": [
    "# Here is using numbers:\n",
    "pandaBuildings.iloc[1:10]"
   ]
  },
  {
   "cell_type": "code",
   "execution_count": 19,
   "metadata": {},
   "outputs": [
    {
     "data": {
      "text/plain": [
       "1     2011\n",
       "2     1970\n",
       "3     1999\n",
       "4     2011\n",
       "5     2007\n",
       "6     1948\n",
       "7     1968\n",
       "8     1953\n",
       "9     1928\n",
       "10    1988\n",
       "Name: year, dtype: int64"
      ]
     },
     "execution_count": 19,
     "metadata": {},
     "output_type": "execute_result"
    }
   ],
   "source": [
    "# This is still using numbers:\n",
    "pandaBuildings.loc[1:10,'year']"
   ]
  },
  {
   "cell_type": "code",
   "execution_count": 20,
   "metadata": {},
   "outputs": [
    {
     "data": {
      "text/html": [
       "<div>\n",
       "<style scoped>\n",
       "    .dataframe tbody tr th:only-of-type {\n",
       "        vertical-align: middle;\n",
       "    }\n",
       "\n",
       "    .dataframe tbody tr th {\n",
       "        vertical-align: top;\n",
       "    }\n",
       "\n",
       "    .dataframe thead th {\n",
       "        text-align: right;\n",
       "    }\n",
       "</style>\n",
       "<table border=\"1\" class=\"dataframe\">\n",
       "  <thead>\n",
       "    <tr style=\"text-align: right;\">\n",
       "      <th></th>\n",
       "      <th>sqft</th>\n",
       "      <th>year</th>\n",
       "      <th>building_type</th>\n",
       "    </tr>\n",
       "  </thead>\n",
       "  <tbody>\n",
       "    <tr>\n",
       "      <th>4999990</th>\n",
       "      <td>573.107861</td>\n",
       "      <td>1940</td>\n",
       "      <td>X</td>\n",
       "    </tr>\n",
       "    <tr>\n",
       "      <th>4999991</th>\n",
       "      <td>255.946544</td>\n",
       "      <td>1995</td>\n",
       "      <td>X</td>\n",
       "    </tr>\n",
       "    <tr>\n",
       "      <th>4999992</th>\n",
       "      <td>1193.402742</td>\n",
       "      <td>1966</td>\n",
       "      <td>Y</td>\n",
       "    </tr>\n",
       "    <tr>\n",
       "      <th>4999993</th>\n",
       "      <td>241.536200</td>\n",
       "      <td>1981</td>\n",
       "      <td>Y</td>\n",
       "    </tr>\n",
       "    <tr>\n",
       "      <th>4999994</th>\n",
       "      <td>116.882680</td>\n",
       "      <td>2012</td>\n",
       "      <td>Y</td>\n",
       "    </tr>\n",
       "    <tr>\n",
       "      <th>4999995</th>\n",
       "      <td>813.839454</td>\n",
       "      <td>1895</td>\n",
       "      <td>Y</td>\n",
       "    </tr>\n",
       "    <tr>\n",
       "      <th>4999996</th>\n",
       "      <td>832.370784</td>\n",
       "      <td>1976</td>\n",
       "      <td>Y</td>\n",
       "    </tr>\n",
       "    <tr>\n",
       "      <th>4999997</th>\n",
       "      <td>910.292342</td>\n",
       "      <td>1940</td>\n",
       "      <td>Z</td>\n",
       "    </tr>\n",
       "    <tr>\n",
       "      <th>4999998</th>\n",
       "      <td>219.078462</td>\n",
       "      <td>1946</td>\n",
       "      <td>X</td>\n",
       "    </tr>\n",
       "    <tr>\n",
       "      <th>4999999</th>\n",
       "      <td>1464.927639</td>\n",
       "      <td>1956</td>\n",
       "      <td>Y</td>\n",
       "    </tr>\n",
       "  </tbody>\n",
       "</table>\n",
       "</div>"
      ],
      "text/plain": [
       "                sqft  year building_type\n",
       "4999990   573.107861  1940             X\n",
       "4999991   255.946544  1995             X\n",
       "4999992  1193.402742  1966             Y\n",
       "4999993   241.536200  1981             Y\n",
       "4999994   116.882680  2012             Y\n",
       "4999995   813.839454  1895             Y\n",
       "4999996   832.370784  1976             Y\n",
       "4999997   910.292342  1940             Z\n",
       "4999998   219.078462  1946             X\n",
       "4999999  1464.927639  1956             Y"
      ]
     },
     "execution_count": 20,
     "metadata": {},
     "output_type": "execute_result"
    }
   ],
   "source": [
    "from itertools import repeat\n",
    "\n",
    "# This is not really ok; binary array\n",
    "pandaBuildings.iloc[list(repeat(False,rowSize - 10)) + list(repeat(True, 10))]"
   ]
  },
  {
   "cell_type": "code",
   "execution_count": 21,
   "metadata": {},
   "outputs": [
    {
     "data": {
      "text/html": [
       "<div>\n",
       "<style scoped>\n",
       "    .dataframe tbody tr th:only-of-type {\n",
       "        vertical-align: middle;\n",
       "    }\n",
       "\n",
       "    .dataframe tbody tr th {\n",
       "        vertical-align: top;\n",
       "    }\n",
       "\n",
       "    .dataframe thead th {\n",
       "        text-align: right;\n",
       "    }\n",
       "</style>\n",
       "<table border=\"1\" class=\"dataframe\">\n",
       "  <thead>\n",
       "    <tr style=\"text-align: right;\">\n",
       "      <th></th>\n",
       "      <th>sqft</th>\n",
       "      <th>year</th>\n",
       "      <th>building_type</th>\n",
       "    </tr>\n",
       "  </thead>\n",
       "  <tbody>\n",
       "    <tr>\n",
       "      <th>4999990</th>\n",
       "      <td>573.107861</td>\n",
       "      <td>1940</td>\n",
       "      <td>X</td>\n",
       "    </tr>\n",
       "    <tr>\n",
       "      <th>4999991</th>\n",
       "      <td>255.946544</td>\n",
       "      <td>1995</td>\n",
       "      <td>X</td>\n",
       "    </tr>\n",
       "    <tr>\n",
       "      <th>4999992</th>\n",
       "      <td>1193.402742</td>\n",
       "      <td>1966</td>\n",
       "      <td>Y</td>\n",
       "    </tr>\n",
       "    <tr>\n",
       "      <th>4999993</th>\n",
       "      <td>241.536200</td>\n",
       "      <td>1981</td>\n",
       "      <td>Y</td>\n",
       "    </tr>\n",
       "    <tr>\n",
       "      <th>4999994</th>\n",
       "      <td>116.882680</td>\n",
       "      <td>2012</td>\n",
       "      <td>Y</td>\n",
       "    </tr>\n",
       "    <tr>\n",
       "      <th>4999995</th>\n",
       "      <td>813.839454</td>\n",
       "      <td>1895</td>\n",
       "      <td>Y</td>\n",
       "    </tr>\n",
       "    <tr>\n",
       "      <th>4999996</th>\n",
       "      <td>832.370784</td>\n",
       "      <td>1976</td>\n",
       "      <td>Y</td>\n",
       "    </tr>\n",
       "    <tr>\n",
       "      <th>4999997</th>\n",
       "      <td>910.292342</td>\n",
       "      <td>1940</td>\n",
       "      <td>Z</td>\n",
       "    </tr>\n",
       "    <tr>\n",
       "      <th>4999998</th>\n",
       "      <td>219.078462</td>\n",
       "      <td>1946</td>\n",
       "      <td>X</td>\n",
       "    </tr>\n",
       "    <tr>\n",
       "      <th>4999999</th>\n",
       "      <td>1464.927639</td>\n",
       "      <td>1956</td>\n",
       "      <td>Y</td>\n",
       "    </tr>\n",
       "  </tbody>\n",
       "</table>\n",
       "</div>"
      ],
      "text/plain": [
       "                sqft  year building_type\n",
       "4999990   573.107861  1940             X\n",
       "4999991   255.946544  1995             X\n",
       "4999992  1193.402742  1966             Y\n",
       "4999993   241.536200  1981             Y\n",
       "4999994   116.882680  2012             Y\n",
       "4999995   813.839454  1895             Y\n",
       "4999996   832.370784  1976             Y\n",
       "4999997   910.292342  1940             Z\n",
       "4999998   219.078462  1946             X\n",
       "4999999  1464.927639  1956             Y"
      ]
     },
     "execution_count": 21,
     "metadata": {},
     "output_type": "execute_result"
    }
   ],
   "source": [
    "# This also works and should actually be ok\n",
    "pandaBuildings.loc[list(repeat(False,rowSize - 10)) + list(repeat(True, 10))]"
   ]
  },
  {
   "cell_type": "markdown",
   "metadata": {},
   "source": [
    "When working with Polars, all of this is simply a single interface which is surprisingly intelligent."
   ]
  },
  {
   "cell_type": "code",
   "execution_count": 22,
   "metadata": {},
   "outputs": [
    {
     "data": {
      "text/html": [
       "<div><style>\n",
       ".dataframe > thead > tr > th,\n",
       ".dataframe > tbody > tr > td {\n",
       "  text-align: right;\n",
       "  white-space: pre-wrap;\n",
       "}\n",
       "</style>\n",
       "<small>shape: (9, 3)</small><table border=\"1\" class=\"dataframe\"><thead><tr><th>sqft</th><th>year</th><th>building_type</th></tr><tr><td>f64</td><td>i64</td><td>str</td></tr></thead><tbody><tr><td>1025.203348</td><td>2011</td><td>&quot;X&quot;</td></tr><tr><td>568.548657</td><td>1970</td><td>&quot;X&quot;</td></tr><tr><td>895.109864</td><td>1999</td><td>&quot;Y&quot;</td></tr><tr><td>206.532754</td><td>2011</td><td>&quot;Y&quot;</td></tr><tr><td>3383.637351</td><td>2007</td><td>&quot;Z&quot;</td></tr><tr><td>9.753627</td><td>1948</td><td>&quot;Y&quot;</td></tr><tr><td>2809.215763</td><td>1968</td><td>&quot;Y&quot;</td></tr><tr><td>575.332756</td><td>1953</td><td>&quot;Z&quot;</td></tr><tr><td>300.534013</td><td>1928</td><td>&quot;X&quot;</td></tr></tbody></table></div>"
      ],
      "text/plain": [
       "shape: (9, 3)\n",
       "┌─────────────┬──────┬───────────────┐\n",
       "│ sqft        ┆ year ┆ building_type │\n",
       "│ ---         ┆ ---  ┆ ---           │\n",
       "│ f64         ┆ i64  ┆ str           │\n",
       "╞═════════════╪══════╪═══════════════╡\n",
       "│ 1025.203348 ┆ 2011 ┆ X             │\n",
       "│ 568.548657  ┆ 1970 ┆ X             │\n",
       "│ 895.109864  ┆ 1999 ┆ Y             │\n",
       "│ 206.532754  ┆ 2011 ┆ Y             │\n",
       "│ 3383.637351 ┆ 2007 ┆ Z             │\n",
       "│ 9.753627    ┆ 1948 ┆ Y             │\n",
       "│ 2809.215763 ┆ 1968 ┆ Y             │\n",
       "│ 575.332756  ┆ 1953 ┆ Z             │\n",
       "│ 300.534013  ┆ 1928 ┆ X             │\n",
       "└─────────────┴──────┴───────────────┘"
      ]
     },
     "execution_count": 22,
     "metadata": {},
     "output_type": "execute_result"
    }
   ],
   "source": [
    "# just knows you want the rows\n",
    "polarBuildings[1:10]"
   ]
  },
  {
   "cell_type": "code",
   "execution_count": 23,
   "metadata": {},
   "outputs": [
    {
     "data": {
      "text/html": [
       "<div><style>\n",
       ".dataframe > thead > tr > th,\n",
       ".dataframe > tbody > tr > td {\n",
       "  text-align: right;\n",
       "  white-space: pre-wrap;\n",
       "}\n",
       "</style>\n",
       "<small>shape: (9, 2)</small><table border=\"1\" class=\"dataframe\"><thead><tr><th>year</th><th>sqft</th></tr><tr><td>i64</td><td>f64</td></tr></thead><tbody><tr><td>2011</td><td>1025.203348</td></tr><tr><td>1970</td><td>568.548657</td></tr><tr><td>1999</td><td>895.109864</td></tr><tr><td>2011</td><td>206.532754</td></tr><tr><td>2007</td><td>3383.637351</td></tr><tr><td>1948</td><td>9.753627</td></tr><tr><td>1968</td><td>2809.215763</td></tr><tr><td>1953</td><td>575.332756</td></tr><tr><td>1928</td><td>300.534013</td></tr></tbody></table></div>"
      ],
      "text/plain": [
       "shape: (9, 2)\n",
       "┌──────┬─────────────┐\n",
       "│ year ┆ sqft        │\n",
       "│ ---  ┆ ---         │\n",
       "│ i64  ┆ f64         │\n",
       "╞══════╪═════════════╡\n",
       "│ 2011 ┆ 1025.203348 │\n",
       "│ 1970 ┆ 568.548657  │\n",
       "│ 1999 ┆ 895.109864  │\n",
       "│ 2011 ┆ 206.532754  │\n",
       "│ 2007 ┆ 3383.637351 │\n",
       "│ 1948 ┆ 9.753627    │\n",
       "│ 1968 ┆ 2809.215763 │\n",
       "│ 1953 ┆ 575.332756  │\n",
       "│ 1928 ┆ 300.534013  │\n",
       "└──────┴─────────────┘"
      ]
     },
     "execution_count": 23,
     "metadata": {},
     "output_type": "execute_result"
    }
   ],
   "source": [
    "# .... and, you can pass the labels as you would hope\n",
    "polarBuildings[['year', 'sqft'], 1:10 ]"
   ]
  },
  {
   "cell_type": "code",
   "execution_count": 24,
   "metadata": {},
   "outputs": [
    {
     "data": {
      "text/html": [
       "<div><style>\n",
       ".dataframe > thead > tr > th,\n",
       ".dataframe > tbody > tr > td {\n",
       "  text-align: right;\n",
       "  white-space: pre-wrap;\n",
       "}\n",
       "</style>\n",
       "<small>shape: (9, 2)</small><table border=\"1\" class=\"dataframe\"><thead><tr><th>year</th><th>sqft</th></tr><tr><td>i64</td><td>f64</td></tr></thead><tbody><tr><td>2011</td><td>1025.203348</td></tr><tr><td>1970</td><td>568.548657</td></tr><tr><td>1999</td><td>895.109864</td></tr><tr><td>2011</td><td>206.532754</td></tr><tr><td>2007</td><td>3383.637351</td></tr><tr><td>1948</td><td>9.753627</td></tr><tr><td>1968</td><td>2809.215763</td></tr><tr><td>1953</td><td>575.332756</td></tr><tr><td>1928</td><td>300.534013</td></tr></tbody></table></div>"
      ],
      "text/plain": [
       "shape: (9, 2)\n",
       "┌──────┬─────────────┐\n",
       "│ year ┆ sqft        │\n",
       "│ ---  ┆ ---         │\n",
       "│ i64  ┆ f64         │\n",
       "╞══════╪═════════════╡\n",
       "│ 2011 ┆ 1025.203348 │\n",
       "│ 1970 ┆ 568.548657  │\n",
       "│ 1999 ┆ 895.109864  │\n",
       "│ 2011 ┆ 206.532754  │\n",
       "│ 2007 ┆ 3383.637351 │\n",
       "│ 1948 ┆ 9.753627    │\n",
       "│ 1968 ┆ 2809.215763 │\n",
       "│ 1953 ┆ 575.332756  │\n",
       "│ 1928 ┆ 300.534013  │\n",
       "└──────┴─────────────┘"
      ]
     },
     "execution_count": 24,
     "metadata": {},
     "output_type": "execute_result"
    }
   ],
   "source": [
    "# ... and, we can switch the row, column order without problems!\n",
    "polarBuildings[1:10,['year', 'sqft'] ]"
   ]
  },
  {
   "cell_type": "code",
   "execution_count": 73,
   "metadata": {},
   "outputs": [
    {
     "data": {
      "text/html": [
       "<div><style>\n",
       ".dataframe > thead > tr > th,\n",
       ".dataframe > tbody > tr > td {\n",
       "  text-align: right;\n",
       "  white-space: pre-wrap;\n",
       "}\n",
       "</style>\n",
       "<small>shape: (9, 2)</small><table border=\"1\" class=\"dataframe\"><thead><tr><th>sqft</th><th>year</th></tr><tr><td>f64</td><td>i64</td></tr></thead><tbody><tr><td>1025.203348</td><td>2011</td></tr><tr><td>568.548657</td><td>1970</td></tr><tr><td>895.109864</td><td>1999</td></tr><tr><td>206.532754</td><td>2011</td></tr><tr><td>3383.637351</td><td>2007</td></tr><tr><td>9.753627</td><td>1948</td></tr><tr><td>2809.215763</td><td>1968</td></tr><tr><td>575.332756</td><td>1953</td></tr><tr><td>300.534013</td><td>1928</td></tr></tbody></table></div>"
      ],
      "text/plain": [
       "shape: (9, 2)\n",
       "┌─────────────┬──────┐\n",
       "│ sqft        ┆ year │\n",
       "│ ---         ┆ ---  │\n",
       "│ f64         ┆ i64  │\n",
       "╞═════════════╪══════╡\n",
       "│ 1025.203348 ┆ 2011 │\n",
       "│ 568.548657  ┆ 1970 │\n",
       "│ 895.109864  ┆ 1999 │\n",
       "│ 206.532754  ┆ 2011 │\n",
       "│ 3383.637351 ┆ 2007 │\n",
       "│ 9.753627    ┆ 1948 │\n",
       "│ 2809.215763 ┆ 1968 │\n",
       "│ 575.332756  ┆ 1953 │\n",
       "│ 300.534013  ┆ 1928 │\n",
       "└─────────────┴──────┘"
      ]
     },
     "execution_count": 73,
     "metadata": {},
     "output_type": "execute_result"
    }
   ],
   "source": [
    "# ... and preserves the selection order as well!\n",
    "polarBuildings[1:10,['sqft', 'year'] ]"
   ]
  },
  {
   "cell_type": "code",
   "execution_count": 31,
   "metadata": {},
   "outputs": [
    {
     "data": {
      "text/html": [
       "<div><style>\n",
       ".dataframe > thead > tr > th,\n",
       ".dataframe > tbody > tr > td {\n",
       "  text-align: right;\n",
       "  white-space: pre-wrap;\n",
       "}\n",
       "</style>\n",
       "<small>shape: (9, 2)</small><table border=\"1\" class=\"dataframe\"><thead><tr><th>sqft</th><th>year</th></tr><tr><td>f64</td><td>i64</td></tr></thead><tbody><tr><td>1025.203348</td><td>2011</td></tr><tr><td>568.548657</td><td>1970</td></tr><tr><td>895.109864</td><td>1999</td></tr><tr><td>206.532754</td><td>2011</td></tr><tr><td>3383.637351</td><td>2007</td></tr><tr><td>9.753627</td><td>1948</td></tr><tr><td>2809.215763</td><td>1968</td></tr><tr><td>575.332756</td><td>1953</td></tr><tr><td>300.534013</td><td>1928</td></tr></tbody></table></div>"
      ],
      "text/plain": [
       "shape: (9, 2)\n",
       "┌─────────────┬──────┐\n",
       "│ sqft        ┆ year │\n",
       "│ ---         ┆ ---  │\n",
       "│ f64         ┆ i64  │\n",
       "╞═════════════╪══════╡\n",
       "│ 1025.203348 ┆ 2011 │\n",
       "│ 568.548657  ┆ 1970 │\n",
       "│ 895.109864  ┆ 1999 │\n",
       "│ 206.532754  ┆ 2011 │\n",
       "│ 3383.637351 ┆ 2007 │\n",
       "│ 9.753627    ┆ 1948 │\n",
       "│ 2809.215763 ┆ 1968 │\n",
       "│ 575.332756  ┆ 1953 │\n",
       "│ 300.534013  ┆ 1928 │\n",
       "└─────────────┴──────┘"
      ]
     },
     "execution_count": 31,
     "metadata": {},
     "output_type": "execute_result"
    }
   ],
   "source": [
    "# .... and we can still specify with just numbers\n",
    "polarBuildings[1:10, 0:2]"
   ]
  },
  {
   "cell_type": "markdown",
   "metadata": {},
   "source": [
    "This is a really big win for *Polars* as I no longer longer have to bother to the juggle between `.loc[]` and `.iloc[]`.\n",
    "\n",
    "## Broadcasting Values\n",
    "An often used pattern is to create a new column and then fill it with a default value. Then, conditionally update the column based on other features in the data frame.\n",
    "Doing this in Pandas is very simply and efficient."
   ]
  },
  {
   "cell_type": "code",
   "execution_count": 32,
   "metadata": {},
   "outputs": [
    {
     "data": {
      "text/html": [
       "<div>\n",
       "<style scoped>\n",
       "    .dataframe tbody tr th:only-of-type {\n",
       "        vertical-align: middle;\n",
       "    }\n",
       "\n",
       "    .dataframe tbody tr th {\n",
       "        vertical-align: top;\n",
       "    }\n",
       "\n",
       "    .dataframe thead th {\n",
       "        text-align: right;\n",
       "    }\n",
       "</style>\n",
       "<table border=\"1\" class=\"dataframe\">\n",
       "  <thead>\n",
       "    <tr style=\"text-align: right;\">\n",
       "      <th></th>\n",
       "      <th>sqft</th>\n",
       "      <th>year</th>\n",
       "      <th>building_type</th>\n",
       "      <th>turtles</th>\n",
       "    </tr>\n",
       "  </thead>\n",
       "  <tbody>\n",
       "    <tr>\n",
       "      <th>0</th>\n",
       "      <td>707.529256</td>\n",
       "      <td>1975</td>\n",
       "      <td>Z</td>\n",
       "      <td>Best Animal</td>\n",
       "    </tr>\n",
       "    <tr>\n",
       "      <th>1</th>\n",
       "      <td>1025.203348</td>\n",
       "      <td>2011</td>\n",
       "      <td>X</td>\n",
       "      <td>Best Animal</td>\n",
       "    </tr>\n",
       "    <tr>\n",
       "      <th>2</th>\n",
       "      <td>568.548657</td>\n",
       "      <td>1970</td>\n",
       "      <td>X</td>\n",
       "      <td>Best Animal</td>\n",
       "    </tr>\n",
       "    <tr>\n",
       "      <th>3</th>\n",
       "      <td>895.109864</td>\n",
       "      <td>1999</td>\n",
       "      <td>Y</td>\n",
       "      <td>Best Animal</td>\n",
       "    </tr>\n",
       "    <tr>\n",
       "      <th>4</th>\n",
       "      <td>206.532754</td>\n",
       "      <td>2011</td>\n",
       "      <td>Y</td>\n",
       "      <td>Best Animal</td>\n",
       "    </tr>\n",
       "  </tbody>\n",
       "</table>\n",
       "</div>"
      ],
      "text/plain": [
       "          sqft  year building_type      turtles\n",
       "0   707.529256  1975             Z  Best Animal\n",
       "1  1025.203348  2011             X  Best Animal\n",
       "2   568.548657  1970             X  Best Animal\n",
       "3   895.109864  1999             Y  Best Animal\n",
       "4   206.532754  2011             Y  Best Animal"
      ]
     },
     "execution_count": 32,
     "metadata": {},
     "output_type": "execute_result"
    }
   ],
   "source": [
    "pandaBuildings['turtles'] = 'Best Animal'\n",
    "pandaBuildings.head()"
   ]
  },
  {
   "cell_type": "markdown",
   "metadata": {},
   "source": [
    "Doing this in Polars? Not so simple.\n",
    "Sadly, we cannot simply assign a default value to a column we wish existed."
   ]
  },
  {
   "cell_type": "code",
   "execution_count": 33,
   "metadata": {},
   "outputs": [
    {
     "name": "stdout",
     "output_type": "stream",
     "text": [
      "DataFrame object does not support `Series` assignment by index\n",
      "\n",
      "Use `DataFrame.with_columns`.\n"
     ]
    }
   ],
   "source": [
    "# This fails\n",
    "try:\n",
    "    polarBuildings['turtles'] = 'Best Animal'\n",
    "except Exception as e:\n",
    "    print(e)"
   ]
  },
  {
   "cell_type": "markdown",
   "metadata": {},
   "source": [
    "You can still do this with Polars but the process is strange. Basically, you need to tell Polars that this is a **literal value** and then name the column with an `.alias()` function call."
   ]
  },
  {
   "cell_type": "code",
   "execution_count": 35,
   "metadata": {},
   "outputs": [
    {
     "data": {
      "text/html": [
       "<div><style>\n",
       ".dataframe > thead > tr > th,\n",
       ".dataframe > tbody > tr > td {\n",
       "  text-align: right;\n",
       "  white-space: pre-wrap;\n",
       "}\n",
       "</style>\n",
       "<small>shape: (5, 4)</small><table border=\"1\" class=\"dataframe\"><thead><tr><th>sqft</th><th>year</th><th>building_type</th><th>Turtles</th></tr><tr><td>f64</td><td>i64</td><td>str</td><td>str</td></tr></thead><tbody><tr><td>707.529256</td><td>1975</td><td>&quot;Z&quot;</td><td>&quot;Best Animal&quot;</td></tr><tr><td>1025.203348</td><td>2011</td><td>&quot;X&quot;</td><td>&quot;Best Animal&quot;</td></tr><tr><td>568.548657</td><td>1970</td><td>&quot;X&quot;</td><td>&quot;Best Animal&quot;</td></tr><tr><td>895.109864</td><td>1999</td><td>&quot;Y&quot;</td><td>&quot;Best Animal&quot;</td></tr><tr><td>206.532754</td><td>2011</td><td>&quot;Y&quot;</td><td>&quot;Best Animal&quot;</td></tr></tbody></table></div>"
      ],
      "text/plain": [
       "shape: (5, 4)\n",
       "┌─────────────┬──────┬───────────────┬─────────────┐\n",
       "│ sqft        ┆ year ┆ building_type ┆ Turtles     │\n",
       "│ ---         ┆ ---  ┆ ---           ┆ ---         │\n",
       "│ f64         ┆ i64  ┆ str           ┆ str         │\n",
       "╞═════════════╪══════╪═══════════════╪═════════════╡\n",
       "│ 707.529256  ┆ 1975 ┆ Z             ┆ Best Animal │\n",
       "│ 1025.203348 ┆ 2011 ┆ X             ┆ Best Animal │\n",
       "│ 568.548657  ┆ 1970 ┆ X             ┆ Best Animal │\n",
       "│ 895.109864  ┆ 1999 ┆ Y             ┆ Best Animal │\n",
       "│ 206.532754  ┆ 2011 ┆ Y             ┆ Best Animal │\n",
       "└─────────────┴──────┴───────────────┴─────────────┘"
      ]
     },
     "execution_count": 35,
     "metadata": {},
     "output_type": "execute_result"
    }
   ],
   "source": [
    "polarBuildings.with_columns(pl.lit('Best Animal').alias('Turtles')).head()"
   ]
  },
  {
   "cell_type": "markdown",
   "metadata": {},
   "source": [
    "Another problem with the Polars method is that this is not done in place. And, what I mean by that is that if you re-check the data frame the column we created does not exist."
   ]
  },
  {
   "cell_type": "code",
   "execution_count": 36,
   "metadata": {},
   "outputs": [
    {
     "data": {
      "text/html": [
       "<div><style>\n",
       ".dataframe > thead > tr > th,\n",
       ".dataframe > tbody > tr > td {\n",
       "  text-align: right;\n",
       "  white-space: pre-wrap;\n",
       "}\n",
       "</style>\n",
       "<small>shape: (5, 3)</small><table border=\"1\" class=\"dataframe\"><thead><tr><th>sqft</th><th>year</th><th>building_type</th></tr><tr><td>f64</td><td>i64</td><td>str</td></tr></thead><tbody><tr><td>707.529256</td><td>1975</td><td>&quot;Z&quot;</td></tr><tr><td>1025.203348</td><td>2011</td><td>&quot;X&quot;</td></tr><tr><td>568.548657</td><td>1970</td><td>&quot;X&quot;</td></tr><tr><td>895.109864</td><td>1999</td><td>&quot;Y&quot;</td></tr><tr><td>206.532754</td><td>2011</td><td>&quot;Y&quot;</td></tr></tbody></table></div>"
      ],
      "text/plain": [
       "shape: (5, 3)\n",
       "┌─────────────┬──────┬───────────────┐\n",
       "│ sqft        ┆ year ┆ building_type │\n",
       "│ ---         ┆ ---  ┆ ---           │\n",
       "│ f64         ┆ i64  ┆ str           │\n",
       "╞═════════════╪══════╪═══════════════╡\n",
       "│ 707.529256  ┆ 1975 ┆ Z             │\n",
       "│ 1025.203348 ┆ 2011 ┆ X             │\n",
       "│ 568.548657  ┆ 1970 ┆ X             │\n",
       "│ 895.109864  ┆ 1999 ┆ Y             │\n",
       "│ 206.532754  ┆ 2011 ┆ Y             │\n",
       "└─────────────┴──────┴───────────────┘"
      ]
     },
     "execution_count": 36,
     "metadata": {},
     "output_type": "execute_result"
    }
   ],
   "source": [
    "# This has not been changed.\n",
    "polarBuildings.head()"
   ]
  },
  {
   "cell_type": "markdown",
   "metadata": {},
   "source": [
    "If we want to keep the results then we will need to assign the results back to itself. This is somewhat frustrating since it means every time you want to do a broadcast then you're making a new object.\n",
    "\n",
    "### Filtering and Aggregation\n",
    "Next on the list of common features is manipulating the data frame. The two most common forms of this are Filtering for values and aggregations such as counting or summary statistics. Polars has its own language for this: see the [documentation page](https://pola-rs.github.io/polars/user-guide/concepts/contexts/) for more information. The language looks like a simplified SQL as applied to a data frames which there is already some support for in Pandas. Using our toy data, if we wanted any year larger than 2017 then there are a few ways to do this in pandas. Personally, I'm quite a fan of the `.query()` function so I'll use that but approach this however you like."
   ]
  },
  {
   "cell_type": "code",
   "execution_count": 37,
   "metadata": {},
   "outputs": [
    {
     "data": {
      "text/html": [
       "<div>\n",
       "<style scoped>\n",
       "    .dataframe tbody tr th:only-of-type {\n",
       "        vertical-align: middle;\n",
       "    }\n",
       "\n",
       "    .dataframe tbody tr th {\n",
       "        vertical-align: top;\n",
       "    }\n",
       "\n",
       "    .dataframe thead th {\n",
       "        text-align: right;\n",
       "    }\n",
       "</style>\n",
       "<table border=\"1\" class=\"dataframe\">\n",
       "  <thead>\n",
       "    <tr style=\"text-align: right;\">\n",
       "      <th></th>\n",
       "      <th>sqft</th>\n",
       "      <th>year</th>\n",
       "      <th>building_type</th>\n",
       "      <th>turtles</th>\n",
       "    </tr>\n",
       "  </thead>\n",
       "  <tbody>\n",
       "    <tr>\n",
       "      <th>14</th>\n",
       "      <td>1884.250052</td>\n",
       "      <td>2018</td>\n",
       "      <td>Z</td>\n",
       "      <td>Best Animal</td>\n",
       "    </tr>\n",
       "    <tr>\n",
       "      <th>36</th>\n",
       "      <td>250.345347</td>\n",
       "      <td>2018</td>\n",
       "      <td>Z</td>\n",
       "      <td>Best Animal</td>\n",
       "    </tr>\n",
       "    <tr>\n",
       "      <th>46</th>\n",
       "      <td>1148.245259</td>\n",
       "      <td>2022</td>\n",
       "      <td>Y</td>\n",
       "      <td>Best Animal</td>\n",
       "    </tr>\n",
       "    <tr>\n",
       "      <th>58</th>\n",
       "      <td>763.546235</td>\n",
       "      <td>2019</td>\n",
       "      <td>Y</td>\n",
       "      <td>Best Animal</td>\n",
       "    </tr>\n",
       "    <tr>\n",
       "      <th>64</th>\n",
       "      <td>26.353141</td>\n",
       "      <td>2021</td>\n",
       "      <td>X</td>\n",
       "      <td>Best Animal</td>\n",
       "    </tr>\n",
       "    <tr>\n",
       "      <th>65</th>\n",
       "      <td>1085.041269</td>\n",
       "      <td>2021</td>\n",
       "      <td>Z</td>\n",
       "      <td>Best Animal</td>\n",
       "    </tr>\n",
       "    <tr>\n",
       "      <th>89</th>\n",
       "      <td>469.285667</td>\n",
       "      <td>2022</td>\n",
       "      <td>Y</td>\n",
       "      <td>Best Animal</td>\n",
       "    </tr>\n",
       "  </tbody>\n",
       "</table>\n",
       "</div>"
      ],
      "text/plain": [
       "           sqft  year building_type      turtles\n",
       "14  1884.250052  2018             Z  Best Animal\n",
       "36   250.345347  2018             Z  Best Animal\n",
       "46  1148.245259  2022             Y  Best Animal\n",
       "58   763.546235  2019             Y  Best Animal\n",
       "64    26.353141  2021             X  Best Animal\n",
       "65  1085.041269  2021             Z  Best Animal\n",
       "89   469.285667  2022             Y  Best Animal"
      ]
     },
     "execution_count": 37,
     "metadata": {},
     "output_type": "execute_result"
    }
   ],
   "source": [
    "pandaBuildings.query('year > 2017').head(7)"
   ]
  },
  {
   "cell_type": "markdown",
   "metadata": {},
   "source": [
    "In *Polars*, we would use the function closest to what functionality we are after: whether `.select()` or `.filter()` - or maybe `.group_by()`:"
   ]
  },
  {
   "cell_type": "code",
   "execution_count": 39,
   "metadata": {},
   "outputs": [
    {
     "data": {
      "text/html": [
       "<div><style>\n",
       ".dataframe > thead > tr > th,\n",
       ".dataframe > tbody > tr > td {\n",
       "  text-align: right;\n",
       "  white-space: pre-wrap;\n",
       "}\n",
       "</style>\n",
       "<small>shape: (7, 3)</small><table border=\"1\" class=\"dataframe\"><thead><tr><th>sqft</th><th>year</th><th>building_type</th></tr><tr><td>f64</td><td>i64</td><td>str</td></tr></thead><tbody><tr><td>1884.250052</td><td>2018</td><td>&quot;Z&quot;</td></tr><tr><td>250.345347</td><td>2018</td><td>&quot;Z&quot;</td></tr><tr><td>1148.245259</td><td>2022</td><td>&quot;Y&quot;</td></tr><tr><td>763.546235</td><td>2019</td><td>&quot;Y&quot;</td></tr><tr><td>26.353141</td><td>2021</td><td>&quot;X&quot;</td></tr><tr><td>1085.041269</td><td>2021</td><td>&quot;Z&quot;</td></tr><tr><td>469.285667</td><td>2022</td><td>&quot;Y&quot;</td></tr></tbody></table></div>"
      ],
      "text/plain": [
       "shape: (7, 3)\n",
       "┌─────────────┬──────┬───────────────┐\n",
       "│ sqft        ┆ year ┆ building_type │\n",
       "│ ---         ┆ ---  ┆ ---           │\n",
       "│ f64         ┆ i64  ┆ str           │\n",
       "╞═════════════╪══════╪═══════════════╡\n",
       "│ 1884.250052 ┆ 2018 ┆ Z             │\n",
       "│ 250.345347  ┆ 2018 ┆ Z             │\n",
       "│ 1148.245259 ┆ 2022 ┆ Y             │\n",
       "│ 763.546235  ┆ 2019 ┆ Y             │\n",
       "│ 26.353141   ┆ 2021 ┆ X             │\n",
       "│ 1085.041269 ┆ 2021 ┆ Z             │\n",
       "│ 469.285667  ┆ 2022 ┆ Y             │\n",
       "└─────────────┴──────┴───────────────┘"
      ]
     },
     "execution_count": 39,
     "metadata": {},
     "output_type": "execute_result"
    }
   ],
   "source": [
    "# Same thing but with polars\n",
    "polarBuildings.filter(pl.col('year') > 2017).head(7)"
   ]
  },
  {
   "cell_type": "markdown",
   "metadata": {},
   "source": [
    "There is a little more typing when using Polars here but this is more or less the same. One boast from the documentation is that Polars allows for parallel computations such as:"
   ]
  },
  {
   "cell_type": "code",
   "execution_count": 40,
   "metadata": {},
   "outputs": [
    {
     "data": {
      "text/html": [
       "<div><style>\n",
       ".dataframe > thead > tr > th,\n",
       ".dataframe > tbody > tr > td {\n",
       "  text-align: right;\n",
       "  white-space: pre-wrap;\n",
       "}\n",
       "</style>\n",
       "<small>shape: (3, 4)</small><table border=\"1\" class=\"dataframe\"><thead><tr><th>building_type</th><th>sqft</th><th>year</th><th>count</th></tr><tr><td>str</td><td>f64</td><td>f64</td><td>u32</td></tr></thead><tbody><tr><td>&quot;Z&quot;</td><td>999.42085</td><td>1956.0</td><td>1665501</td></tr><tr><td>&quot;X&quot;</td><td>999.225287</td><td>1956.0</td><td>1668418</td></tr><tr><td>&quot;Y&quot;</td><td>1000.297707</td><td>1955.0</td><td>1666081</td></tr></tbody></table></div>"
      ],
      "text/plain": [
       "shape: (3, 4)\n",
       "┌───────────────┬─────────────┬────────┬─────────┐\n",
       "│ building_type ┆ sqft        ┆ year   ┆ count   │\n",
       "│ ---           ┆ ---         ┆ ---    ┆ ---     │\n",
       "│ str           ┆ f64         ┆ f64    ┆ u32     │\n",
       "╞═══════════════╪═════════════╪════════╪═════════╡\n",
       "│ Z             ┆ 999.42085   ┆ 1956.0 ┆ 1665501 │\n",
       "│ X             ┆ 999.225287  ┆ 1956.0 ┆ 1668418 │\n",
       "│ Y             ┆ 1000.297707 ┆ 1955.0 ┆ 1666081 │\n",
       "└───────────────┴─────────────┴────────┴─────────┘"
      ]
     },
     "execution_count": 40,
     "metadata": {},
     "output_type": "execute_result"
    }
   ],
   "source": [
    "polarBuildings.group_by('building_type').agg([\n",
    "    pl.mean('sqft'),\n",
    "    pl.median('year'),\n",
    "    pl.count()\n",
    "])"
   ]
  },
  {
   "cell_type": "markdown",
   "metadata": {},
   "source": [
    "Without profiling this code - which I am considering in another future post - we cannot really know how efficient this is.\n",
    "But, the readability here is solid compared to the Pandas version asking for the same information:"
   ]
  },
  {
   "cell_type": "code",
   "execution_count": 42,
   "metadata": {},
   "outputs": [
    {
     "data": {
      "text/html": [
       "<div>\n",
       "<style scoped>\n",
       "    .dataframe tbody tr th:only-of-type {\n",
       "        vertical-align: middle;\n",
       "    }\n",
       "\n",
       "    .dataframe tbody tr th {\n",
       "        vertical-align: top;\n",
       "    }\n",
       "\n",
       "    .dataframe thead tr th {\n",
       "        text-align: left;\n",
       "    }\n",
       "\n",
       "    .dataframe thead tr:last-of-type th {\n",
       "        text-align: right;\n",
       "    }\n",
       "</style>\n",
       "<table border=\"1\" class=\"dataframe\">\n",
       "  <thead>\n",
       "    <tr>\n",
       "      <th></th>\n",
       "      <th>sqft</th>\n",
       "      <th colspan=\"2\" halign=\"left\">year</th>\n",
       "    </tr>\n",
       "    <tr>\n",
       "      <th></th>\n",
       "      <th>mean</th>\n",
       "      <th>median</th>\n",
       "      <th>count</th>\n",
       "    </tr>\n",
       "    <tr>\n",
       "      <th>building_type</th>\n",
       "      <th></th>\n",
       "      <th></th>\n",
       "      <th></th>\n",
       "    </tr>\n",
       "  </thead>\n",
       "  <tbody>\n",
       "    <tr>\n",
       "      <th>X</th>\n",
       "      <td>999.225287</td>\n",
       "      <td>1956.0</td>\n",
       "      <td>1668418</td>\n",
       "    </tr>\n",
       "    <tr>\n",
       "      <th>Y</th>\n",
       "      <td>1000.297707</td>\n",
       "      <td>1955.0</td>\n",
       "      <td>1666081</td>\n",
       "    </tr>\n",
       "    <tr>\n",
       "      <th>Z</th>\n",
       "      <td>999.420850</td>\n",
       "      <td>1956.0</td>\n",
       "      <td>1665501</td>\n",
       "    </tr>\n",
       "  </tbody>\n",
       "</table>\n",
       "</div>"
      ],
      "text/plain": [
       "                      sqft    year         \n",
       "                      mean  median    count\n",
       "building_type                              \n",
       "X               999.225287  1956.0  1668418\n",
       "Y              1000.297707  1955.0  1666081\n",
       "Z               999.420850  1956.0  1665501"
      ]
     },
     "execution_count": 42,
     "metadata": {},
     "output_type": "execute_result"
    }
   ],
   "source": [
    "pandaBuildings.groupby('building_type').agg({\n",
    "    'sqft':['mean'],\n",
    "    'year':['median', 'size']})\\\n",
    "    .rename(columns={'size':'count'})"
   ]
  },
  {
   "cell_type": "markdown",
   "metadata": {},
   "source": [
    "## Quick Analysis of Movie Data Using Polars\n",
    "Let's try using Polars to replicate an example project which I've worked on before.\n",
    "Previously, I did some analysis work from a Kaggle dataset on Thriller Movies with Apache Spark; That post is [here](2022-12-24-Exploring-Tv-Data-With-Spark-Part-1.ipynb) if you are curious."
   ]
  },
  {
   "cell_type": "code",
   "execution_count": 51,
   "metadata": {},
   "outputs": [
    {
     "data": {
      "text/html": [
       "<div><style>\n",
       ".dataframe > thead > tr > th,\n",
       ".dataframe > tbody > tr > td {\n",
       "  text-align: right;\n",
       "  white-space: pre-wrap;\n",
       "}\n",
       "</style>\n",
       "<small>shape: (5, 9)</small><table border=\"1\" class=\"dataframe\"><thead><tr><th></th><th>Name</th><th>Year</th><th>Tv Certificate</th><th>Duration per episode</th><th>Genre</th><th>Ratings</th><th>Actor/Actress</th><th>Votes</th></tr><tr><td>i64</td><td>str</td><td>str</td><td>str</td><td>str</td><td>str</td><td>f64</td><td>str</td><td>str</td></tr></thead><tbody><tr><td>0</td><td>&quot;Andor&quot;</td><td>&quot;2022– &quot;</td><td>&quot;TV-14 &quot;</td><td>&quot; 40 min &quot;</td><td>&quot; Action, Adven…</td><td>8.4</td><td>&quot; Diego Luna, K…</td><td>&quot; 82,474&quot;</td></tr><tr><td>1</td><td>&quot;The Peripheral…</td><td>&quot;2022– &quot;</td><td>&quot;TV-MA &quot;</td><td>null</td><td>&quot; Drama, Myster…</td><td>8.0</td><td>&quot; Chloë Grace M…</td><td>&quot; 34,768&quot;</td></tr><tr><td>2</td><td>&quot;The Walking De…</td><td>&quot;2010–2022&quot;</td><td>&quot;TV-MA &quot;</td><td>&quot; 44 min &quot;</td><td>&quot; Drama, Horror…</td><td>8.1</td><td>&quot; Andrew Lincol…</td><td>&quot; 988,666&quot;</td></tr><tr><td>3</td><td>&quot;Criminal Minds…</td><td>&quot;2005– &quot;</td><td>&quot;TV-14 &quot;</td><td>&quot; 42 min &quot;</td><td>&quot; Crime, Drama,…</td><td>8.1</td><td>&quot; Kirsten Vangs…</td><td>&quot; 198,262&quot;</td></tr><tr><td>4</td><td>&quot;Breaking Bad&quot;</td><td>&quot;2008–2013&quot;</td><td>&quot;TV-MA &quot;</td><td>&quot; 49 min &quot;</td><td>&quot; Crime, Drama,…</td><td>9.5</td><td>&quot; Bryan Cransto…</td><td>&quot; 1,872,005&quot;</td></tr></tbody></table></div>"
      ],
      "text/plain": [
       "shape: (5, 9)\n",
       "┌─────┬─────────────┬───────────┬─────────────┬───┬────────────┬─────────┬────────────┬────────────┐\n",
       "│     ┆ Name        ┆ Year      ┆ Tv          ┆ … ┆ Genre      ┆ Ratings ┆ Actor/Actr ┆ Votes      │\n",
       "│ --- ┆ ---         ┆ ---       ┆ Certificate ┆   ┆ ---        ┆ ---     ┆ ess        ┆ ---        │\n",
       "│ i64 ┆ str         ┆ str       ┆ ---         ┆   ┆ str        ┆ f64     ┆ ---        ┆ str        │\n",
       "│     ┆             ┆           ┆ str         ┆   ┆            ┆         ┆ str        ┆            │\n",
       "╞═════╪═════════════╪═══════════╪═════════════╪═══╪════════════╪═════════╪════════════╪════════════╡\n",
       "│ 0   ┆ Andor       ┆ 2022–     ┆ TV-14       ┆ … ┆ Action,    ┆ 8.4     ┆ Diego      ┆  82,474    │\n",
       "│     ┆             ┆           ┆             ┆   ┆ Adventure, ┆         ┆ Luna, Kyle ┆            │\n",
       "│     ┆             ┆           ┆             ┆   ┆ Drama      ┆         ┆ Soller,    ┆            │\n",
       "│     ┆             ┆           ┆             ┆   ┆            ┆         ┆ Stella…    ┆            │\n",
       "│ 1   ┆ The         ┆ 2022–     ┆ TV-MA       ┆ … ┆ Drama,     ┆ 8.0     ┆ Chloë      ┆  34,768    │\n",
       "│     ┆ Peripheral  ┆           ┆             ┆   ┆ Mystery,   ┆         ┆ Grace      ┆            │\n",
       "│     ┆             ┆           ┆             ┆   ┆ Sci-Fi     ┆         ┆ Moretz,    ┆            │\n",
       "│     ┆             ┆           ┆             ┆   ┆            ┆         ┆ Gary Carr, ┆            │\n",
       "│     ┆             ┆           ┆             ┆   ┆            ┆         ┆ …          ┆            │\n",
       "│ 2   ┆ The Walking ┆ 2010–2022 ┆ TV-MA       ┆ … ┆ Drama,     ┆ 8.1     ┆ Andrew     ┆  988,666   │\n",
       "│     ┆ Dead        ┆           ┆             ┆   ┆ Horror,    ┆         ┆ Lincoln,   ┆            │\n",
       "│     ┆             ┆           ┆             ┆   ┆ Thriller   ┆         ┆ Norman     ┆            │\n",
       "│     ┆             ┆           ┆             ┆   ┆            ┆         ┆ Reedus, …  ┆            │\n",
       "│ 3   ┆ Criminal    ┆ 2005–     ┆ TV-14       ┆ … ┆ Crime,     ┆ 8.1     ┆ Kirsten    ┆  198,262   │\n",
       "│     ┆ Minds       ┆           ┆             ┆   ┆ Drama,     ┆         ┆ Vangsness, ┆            │\n",
       "│     ┆             ┆           ┆             ┆   ┆ Mystery    ┆         ┆ Matthew    ┆            │\n",
       "│     ┆             ┆           ┆             ┆   ┆            ┆         ┆ Gray…      ┆            │\n",
       "│ 4   ┆ Breaking    ┆ 2008–2013 ┆ TV-MA       ┆ … ┆ Crime,     ┆ 9.5     ┆ Bryan      ┆  1,872,005 │\n",
       "│     ┆ Bad         ┆           ┆             ┆   ┆ Drama,     ┆         ┆ Cranston,  ┆            │\n",
       "│     ┆             ┆           ┆             ┆   ┆ Thriller   ┆         ┆ Aaron      ┆            │\n",
       "│     ┆             ┆           ┆             ┆   ┆            ┆         ┆ Paul, Ann… ┆            │\n",
       "└─────┴─────────────┴───────────┴─────────────┴───┴────────────┴─────────┴────────────┴────────────┘"
      ]
     },
     "execution_count": 51,
     "metadata": {},
     "output_type": "execute_result"
    }
   ],
   "source": [
    "# Download the cleaned data from online\n",
    "dataUrl = 'https://media.githubusercontent.com/media/Shoklan/public-projects/main/Data/Kaggle/AllThrillerSeriesListClean.csv'\n",
    "movies = pl.read_csv(dataUrl)\n",
    "movies.head()"
   ]
  },
  {
   "cell_type": "code",
   "execution_count": 52,
   "metadata": {},
   "outputs": [
    {
     "data": {
      "text/html": [
       "<div><style>\n",
       ".dataframe > thead > tr > th,\n",
       ".dataframe > tbody > tr > td {\n",
       "  text-align: right;\n",
       "  white-space: pre-wrap;\n",
       "}\n",
       "</style>\n",
       "<small>shape: (5, 8)</small><table border=\"1\" class=\"dataframe\"><thead><tr><th>Name</th><th>Year</th><th>Tv Certificate</th><th>Duration per episode</th><th>Genre</th><th>Ratings</th><th>Actor/Actress</th><th>Votes</th></tr><tr><td>str</td><td>str</td><td>str</td><td>str</td><td>str</td><td>f64</td><td>str</td><td>str</td></tr></thead><tbody><tr><td>&quot;Andor&quot;</td><td>&quot;2022– &quot;</td><td>&quot;TV-14 &quot;</td><td>&quot; 40 min &quot;</td><td>&quot; Action, Adven…</td><td>8.4</td><td>&quot; Diego Luna, K…</td><td>&quot; 82,474&quot;</td></tr><tr><td>&quot;The Peripheral…</td><td>&quot;2022– &quot;</td><td>&quot;TV-MA &quot;</td><td>null</td><td>&quot; Drama, Myster…</td><td>8.0</td><td>&quot; Chloë Grace M…</td><td>&quot; 34,768&quot;</td></tr><tr><td>&quot;The Walking De…</td><td>&quot;2010–2022&quot;</td><td>&quot;TV-MA &quot;</td><td>&quot; 44 min &quot;</td><td>&quot; Drama, Horror…</td><td>8.1</td><td>&quot; Andrew Lincol…</td><td>&quot; 988,666&quot;</td></tr><tr><td>&quot;Criminal Minds…</td><td>&quot;2005– &quot;</td><td>&quot;TV-14 &quot;</td><td>&quot; 42 min &quot;</td><td>&quot; Crime, Drama,…</td><td>8.1</td><td>&quot; Kirsten Vangs…</td><td>&quot; 198,262&quot;</td></tr><tr><td>&quot;Breaking Bad&quot;</td><td>&quot;2008–2013&quot;</td><td>&quot;TV-MA &quot;</td><td>&quot; 49 min &quot;</td><td>&quot; Crime, Drama,…</td><td>9.5</td><td>&quot; Bryan Cransto…</td><td>&quot; 1,872,005&quot;</td></tr></tbody></table></div>"
      ],
      "text/plain": [
       "shape: (5, 8)\n",
       "┌────────────┬───────────┬────────────┬────────────┬────────────┬─────────┬────────────┬───────────┐\n",
       "│ Name       ┆ Year      ┆ Tv Certifi ┆ Duration   ┆ Genre      ┆ Ratings ┆ Actor/Actr ┆ Votes     │\n",
       "│ ---        ┆ ---       ┆ cate       ┆ per        ┆ ---        ┆ ---     ┆ ess        ┆ ---       │\n",
       "│ str        ┆ str       ┆ ---        ┆ episode    ┆ str        ┆ f64     ┆ ---        ┆ str       │\n",
       "│            ┆           ┆ str        ┆ ---        ┆            ┆         ┆ str        ┆           │\n",
       "│            ┆           ┆            ┆ str        ┆            ┆         ┆            ┆           │\n",
       "╞════════════╪═══════════╪════════════╪════════════╪════════════╪═════════╪════════════╪═══════════╡\n",
       "│ Andor      ┆ 2022–     ┆ TV-14      ┆  40 min    ┆ Action,    ┆ 8.4     ┆ Diego      ┆  82,474   │\n",
       "│            ┆           ┆            ┆            ┆ Adventure, ┆         ┆ Luna, Kyle ┆           │\n",
       "│            ┆           ┆            ┆            ┆ Drama      ┆         ┆ Soller,    ┆           │\n",
       "│            ┆           ┆            ┆            ┆            ┆         ┆ Stella…    ┆           │\n",
       "│ The        ┆ 2022–     ┆ TV-MA      ┆ null       ┆ Drama,     ┆ 8.0     ┆ Chloë      ┆  34,768   │\n",
       "│ Peripheral ┆           ┆            ┆            ┆ Mystery,   ┆         ┆ Grace      ┆           │\n",
       "│            ┆           ┆            ┆            ┆ Sci-Fi     ┆         ┆ Moretz,    ┆           │\n",
       "│            ┆           ┆            ┆            ┆            ┆         ┆ Gary Carr, ┆           │\n",
       "│            ┆           ┆            ┆            ┆            ┆         ┆ …          ┆           │\n",
       "│ The        ┆ 2010–2022 ┆ TV-MA      ┆  44 min    ┆ Drama,     ┆ 8.1     ┆ Andrew     ┆  988,666  │\n",
       "│ Walking    ┆           ┆            ┆            ┆ Horror,    ┆         ┆ Lincoln,   ┆           │\n",
       "│ Dead       ┆           ┆            ┆            ┆ Thriller   ┆         ┆ Norman     ┆           │\n",
       "│            ┆           ┆            ┆            ┆            ┆         ┆ Reedus, …  ┆           │\n",
       "│ Criminal   ┆ 2005–     ┆ TV-14      ┆  42 min    ┆ Crime,     ┆ 8.1     ┆ Kirsten    ┆  198,262  │\n",
       "│ Minds      ┆           ┆            ┆            ┆ Drama,     ┆         ┆ Vangsness, ┆           │\n",
       "│            ┆           ┆            ┆            ┆ Mystery    ┆         ┆ Matthew    ┆           │\n",
       "│            ┆           ┆            ┆            ┆            ┆         ┆ Gray…      ┆           │\n",
       "│ Breaking   ┆ 2008–2013 ┆ TV-MA      ┆  49 min    ┆ Crime,     ┆ 9.5     ┆ Bryan      ┆ 1,872,005 │\n",
       "│ Bad        ┆           ┆            ┆            ┆ Drama,     ┆         ┆ Cranston,  ┆           │\n",
       "│            ┆           ┆            ┆            ┆ Thriller   ┆         ┆ Aaron      ┆           │\n",
       "│            ┆           ┆            ┆            ┆            ┆         ┆ Paul, Ann… ┆           │\n",
       "└────────────┴───────────┴────────────┴────────────┴────────────┴─────────┴────────────┴───────────┘"
      ]
     },
     "execution_count": 52,
     "metadata": {},
     "output_type": "execute_result"
    }
   ],
   "source": [
    "# Get rid of the superfluous index column\n",
    "movies.drop_in_place(name='')\n",
    "movies.head()"
   ]
  },
  {
   "cell_type": "code",
   "execution_count": 53,
   "metadata": {},
   "outputs": [
    {
     "data": {
      "text/html": [
       "<div><style>\n",
       ".dataframe > thead > tr > th,\n",
       ".dataframe > tbody > tr > td {\n",
       "  text-align: right;\n",
       "  white-space: pre-wrap;\n",
       "}\n",
       "</style>\n",
       "<small>shape: (5, 8)</small><table border=\"1\" class=\"dataframe\"><thead><tr><th>Name</th><th>Year</th><th>Tv Certificate</th><th>Duration per episode</th><th>Genre</th><th>Ratings</th><th>Actor/Actress</th><th>Votes</th></tr><tr><td>str</td><td>str</td><td>str</td><td>str</td><td>str</td><td>f64</td><td>str</td><td>f64</td></tr></thead><tbody><tr><td>&quot;Andor&quot;</td><td>&quot;2022&quot;</td><td>&quot;TV-14 &quot;</td><td>&quot; 40 min &quot;</td><td>&quot; Action, Adven…</td><td>8.4</td><td>&quot; Diego Luna, K…</td><td>82474.0</td></tr><tr><td>&quot;The Peripheral…</td><td>&quot;2022&quot;</td><td>&quot;TV-MA &quot;</td><td>null</td><td>&quot; Drama, Myster…</td><td>8.0</td><td>&quot; Chloë Grace M…</td><td>34768.0</td></tr><tr><td>&quot;The Walking De…</td><td>&quot;2010&quot;</td><td>&quot;TV-MA &quot;</td><td>&quot; 44 min &quot;</td><td>&quot; Drama, Horror…</td><td>8.1</td><td>&quot; Andrew Lincol…</td><td>988666.0</td></tr><tr><td>&quot;Criminal Minds…</td><td>&quot;2005&quot;</td><td>&quot;TV-14 &quot;</td><td>&quot; 42 min &quot;</td><td>&quot; Crime, Drama,…</td><td>8.1</td><td>&quot; Kirsten Vangs…</td><td>198262.0</td></tr><tr><td>&quot;Breaking Bad&quot;</td><td>&quot;2008&quot;</td><td>&quot;TV-MA &quot;</td><td>&quot; 49 min &quot;</td><td>&quot; Crime, Drama,…</td><td>9.5</td><td>&quot; Bryan Cransto…</td><td>1.872005e6</td></tr></tbody></table></div>"
      ],
      "text/plain": [
       "shape: (5, 8)\n",
       "┌─────────────┬──────┬─────────────┬─────────────┬─────────────┬─────────┬────────────┬────────────┐\n",
       "│ Name        ┆ Year ┆ Tv          ┆ Duration    ┆ Genre       ┆ Ratings ┆ Actor/Actr ┆ Votes      │\n",
       "│ ---         ┆ ---  ┆ Certificate ┆ per episode ┆ ---         ┆ ---     ┆ ess        ┆ ---        │\n",
       "│ str         ┆ str  ┆ ---         ┆ ---         ┆ str         ┆ f64     ┆ ---        ┆ f64        │\n",
       "│             ┆      ┆ str         ┆ str         ┆             ┆         ┆ str        ┆            │\n",
       "╞═════════════╪══════╪═════════════╪═════════════╪═════════════╪═════════╪════════════╪════════════╡\n",
       "│ Andor       ┆ 2022 ┆ TV-14       ┆  40 min     ┆ Action,     ┆ 8.4     ┆ Diego      ┆ 82474.0    │\n",
       "│             ┆      ┆             ┆             ┆ Adventure,  ┆         ┆ Luna, Kyle ┆            │\n",
       "│             ┆      ┆             ┆             ┆ Drama       ┆         ┆ Soller,    ┆            │\n",
       "│             ┆      ┆             ┆             ┆             ┆         ┆ Stella…    ┆            │\n",
       "│ The         ┆ 2022 ┆ TV-MA       ┆ null        ┆ Drama,      ┆ 8.0     ┆ Chloë      ┆ 34768.0    │\n",
       "│ Peripheral  ┆      ┆             ┆             ┆ Mystery,    ┆         ┆ Grace      ┆            │\n",
       "│             ┆      ┆             ┆             ┆ Sci-Fi      ┆         ┆ Moretz,    ┆            │\n",
       "│             ┆      ┆             ┆             ┆             ┆         ┆ Gary Carr, ┆            │\n",
       "│             ┆      ┆             ┆             ┆             ┆         ┆ …          ┆            │\n",
       "│ The Walking ┆ 2010 ┆ TV-MA       ┆  44 min     ┆ Drama,      ┆ 8.1     ┆ Andrew     ┆ 988666.0   │\n",
       "│ Dead        ┆      ┆             ┆             ┆ Horror,     ┆         ┆ Lincoln,   ┆            │\n",
       "│             ┆      ┆             ┆             ┆ Thriller    ┆         ┆ Norman     ┆            │\n",
       "│             ┆      ┆             ┆             ┆             ┆         ┆ Reedus, …  ┆            │\n",
       "│ Criminal    ┆ 2005 ┆ TV-14       ┆  42 min     ┆ Crime,      ┆ 8.1     ┆ Kirsten    ┆ 198262.0   │\n",
       "│ Minds       ┆      ┆             ┆             ┆ Drama,      ┆         ┆ Vangsness, ┆            │\n",
       "│             ┆      ┆             ┆             ┆ Mystery     ┆         ┆ Matthew    ┆            │\n",
       "│             ┆      ┆             ┆             ┆             ┆         ┆ Gray…      ┆            │\n",
       "│ Breaking    ┆ 2008 ┆ TV-MA       ┆  49 min     ┆ Crime,      ┆ 9.5     ┆ Bryan      ┆ 1.872005e6 │\n",
       "│ Bad         ┆      ┆             ┆             ┆ Drama,      ┆         ┆ Cranston,  ┆            │\n",
       "│             ┆      ┆             ┆             ┆ Thriller    ┆         ┆ Aaron      ┆            │\n",
       "│             ┆      ┆             ┆             ┆             ┆         ┆ Paul, Ann… ┆            │\n",
       "└─────────────┴──────┴─────────────┴─────────────┴─────────────┴─────────┴────────────┴────────────┘"
      ]
     },
     "execution_count": 53,
     "metadata": {},
     "output_type": "execute_result"
    }
   ],
   "source": [
    "# clean up and cast year,votes for analysis\n",
    "movies = movies.with_columns(\n",
    "    pl.col('Year').map_elements(lambda x: x.split('–')[0]),\n",
    "    pl.col('Votes').map_elements(lambda x: x.replace(',', '').strip()).cast(pl.Float64),\n",
    ")\n",
    "\n",
    "movies = movies.rename({'Actor/Actress':'Actor'})\n",
    "movies.head()"
   ]
  },
  {
   "cell_type": "code",
   "execution_count": 56,
   "metadata": {},
   "outputs": [],
   "source": [
    "cols = ['Name', 'Genre', 'Ratings', 'Votes']"
   ]
  },
  {
   "cell_type": "code",
   "execution_count": 68,
   "metadata": {},
   "outputs": [],
   "source": [
    "medianMovieInfo = movies[cols].with_columns(\n",
    "    pl.col('Genre').str.strip_chars().str.split(', '))\\\n",
    "    .explode('Genre').group_by(\"Genre\").agg(\n",
    "        pl.col('Ratings').median(),\n",
    "        pl.col('Votes').median())\\\n",
    "    .sort('Ratings', descending=True)"
   ]
  },
  {
   "cell_type": "code",
   "execution_count": 69,
   "metadata": {},
   "outputs": [],
   "source": [
    "meanMovieInfo = movies[cols].with_columns(\n",
    "    pl.col('Genre').str.strip_chars().str.split(', ')\n",
    ").explode('Genre').group_by(\"Genre\").agg(\n",
    "    pl.col('Ratings').mean(),\n",
    "    pl.col('Votes').mean()\n",
    ").sort('Ratings', descending=True)"
   ]
  },
  {
   "cell_type": "code",
   "execution_count": 74,
   "metadata": {},
   "outputs": [
    {
     "data": {
      "image/png": "[encoded data removed]",
      "text/plain": [
       "<Figure size 1400x700 with 1 Axes>"
      ]
     },
     "metadata": {},
     "output_type": "display_data"
    }
   ],
   "source": [
    "import seaborn as sns\n",
    "import matplotlib.pyplot as plt\n",
    "plt.rcParams[\"figure.figsize\"] = (14,7);\n",
    "\n",
    "# Wish we didn't have to convert this\n",
    "dmi = medianMovieInfo.to_pandas().sort_values('Votes', ascending=False)\n",
    "plt.xticks(rotation=41);\n",
    "sns.barplot(dmi, x='Genre', y='Votes', color='seagreen').set_title('Median Votes Per Movie Genre');"
   ]
  },
  {
   "cell_type": "code",
   "execution_count": 259,
   "metadata": {},
   "outputs": [
    {
     "data": {
      "text/plain": [
       "Text(0.5, 1.0, 'Mean Votes Per Movie Genre')"
      ]
     },
     "execution_count": 259,
     "metadata": {},
     "output_type": "execute_result"
    },
    {
     "data": {
      "image/png": "[encoded data removed]",
      "text/plain": [
       "<Figure size 1400x700 with 1 Axes>"
      ]
     },
     "metadata": {},
     "output_type": "display_data"
    }
   ],
   "source": [
    "nmi = meanMovieInfo.to_pandas().sort_values('Votes', ascending=False)\n",
    "plt.xticks(rotation=41);\n",
    "sns.barplot(nmi, x='Genre', y='Votes', color='seagreen').set_title('Mean Votes Per Movie Genre');"
   ]
  },
  {
   "cell_type": "markdown",
   "metadata": {},
   "source": [
    "## Conclusions\n",
    "Hopefully this was as useful to you as it was for me.\n",
    "I like Polars and I think I'll be using it when I know the data I am using is cleaned and ready for analysis. Otherwise, I think cleaning the data with Pandas is still the likely best first choice."
   ]
  }
 ],
 "metadata": {
  "kernelspec": {
   "display_name": "Python 3",
   "language": "python",
   "name": "python3"
  },
  "language_info": {
   "codemirror_mode": {
    "name": "ipython",
    "version": 3
   },
   "file_extension": ".py",
   "mimetype": "text/x-python",
   "name": "python",
   "nbconvert_exporter": "python",
   "pygments_lexer": "ipython3",
   "version": "3.9.2"
  },
  "orig_nbformat": 4
 },
 "nbformat": 4,
 "nbformat_minor": 2
}
