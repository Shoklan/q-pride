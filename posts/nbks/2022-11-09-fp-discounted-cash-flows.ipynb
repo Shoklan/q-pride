{
 "cells": [
  {
   "cell_type": "raw",
   "metadata": {},
   "source": [
    "---\n",
    "aliases:\n",
    "- /analyst/code/finanical/python/2022/11/09/fp-discounted-cash-flows\n",
    "badges: false\n",
    "categories:\n",
    "- python\n",
    "- code\n",
    "- finanical\n",
    "- analyst\n",
    "comments: false\n",
    "date: '2022-11-09'\n",
    "description: Not Sure I Trust This\n",
    "output-file: 2022-11-09-fp-discounted-cash-flows.html\n",
    "title: Financial Planner Review - Discounting Cash Flows\n",
    "toc: true\n",
    "\n",
    "---\n",
    "\n"
   ]
  },
  {
   "cell_type": "code",
   "execution_count": 28,
   "metadata": {},
   "outputs": [],
   "source": [
    "#| include: false\n",
    "import pandas as pd\n",
    "import numpy as np\n",
    "from itertools import repeat"
   ]
  },
  {
   "cell_type": "markdown",
   "metadata": {},
   "source": [
    "Among the list of formulas I learned in the Financial Analyst coures, this is valuation is the one I instintively distrusted. **Discounted Cash Flows** is a way to evaluate the future returns on an investement based on:\n",
    "1. The initial Investment.\n",
    "2. The Expected Cashflow per each year.\n",
    "\n",
    "The problem I have here is that the *Expected Cashflows* are purely guesses about what we belive the numbers to be in the future. While the example in the class picked - as far as I can tell - random numbers to fill them in, I would hope that the numbers provided here would be based on research of other similar projects. At least, I would hope in the real world this is was happens."
   ]
  },
  {
   "cell_type": "markdown",
   "metadata": {},
   "source": [
    "## Discounting Cash Flows"
   ]
  },
  {
   "cell_type": "markdown",
   "metadata": {},
   "source": [
    "The formula for this is:\n",
    "> $DCF= (CF_1)/(1 + r)^1 + (CF_2)/(1 + r)^2 + .. + (CF_n)/(1 + r)^n$ \n",
    "\n",
    "... where: <br />\n",
    "\n",
    "- **CF** stands for *Cash Flow*\n",
    "- **r** is the interest rate\n",
    "- **n** is the period of discount.\n",
    "\n",
    "This all follows from the simple idea that money now is more valuble than money in the future. If given the choice between `$100` now and `$100` in a year then you'd obviously take the `$100` now. This also applies to money we earn in the future: `$60` now is better than the `$60` we'd earn in the future. So, example time."
   ]
  },
  {
   "cell_type": "markdown",
   "metadata": {},
   "source": [
    "We're going to use a similar example to the class: Imagine that we're considering inveseting money into a venture. We're going to do something a bit more modern and say we're investing in a growing Online Streamer with the expectation that we'll get some of the money in turn. A deal is worked out and you'll be getting some kind of slice of the money they make in exchange. They're going to ask for `$500` in investment. For the interest rate, we'll use the **Inflation Rate** since this is not a loan. Right now, it's `8.2%` so we'll use that as our Interest Rate; Sometimes this also called the **Discount Rate** and *Inflation* certainly applies.\n",
    "\n",
    "We'll use random numbers over the span of 6 years and then calculate if this was a good idea."
   ]
  },
  {
   "cell_type": "code",
   "execution_count": 31,
   "metadata": {},
   "outputs": [
    {
     "data": {
      "text/plain": [
       "[-500, 195, 127, 44, 42, 196]"
      ]
     },
     "execution_count": 31,
     "metadata": {},
     "output_type": "execute_result"
    }
   ],
   "source": [
    "from random import randint\n",
    "\n",
    "year = range(0,6)\n",
    "interestRate = .082\n",
    "\n",
    "predictions = [ randint(0, 300) for _ in range(5)]\n",
    "cashFlow = [-500] + predictions\n",
    "cashFlow"
   ]
  },
  {
   "cell_type": "markdown",
   "metadata": {},
   "source": [
    "We'll need a function to calculate the **Present Value** for each term in the formula. For this, we'll just write up a quick lambda function in python."
   ]
  },
  {
   "cell_type": "code",
   "execution_count": 32,
   "metadata": {},
   "outputs": [
    {
     "data": {
      "text/plain": [
       "27.726432532347502"
      ]
     },
     "execution_count": 32,
     "metadata": {},
     "output_type": "execute_result"
    }
   ],
   "source": [
    "PV = (lambda f,i,n: f/(1+i)**n)\n",
    "PV(30, interestRate, 1)"
   ]
  },
  {
   "cell_type": "markdown",
   "metadata": {},
   "source": [
    "We'll usually see this in a table so we'll add all this to a Data frame."
   ]
  },
  {
   "cell_type": "code",
   "execution_count": 33,
   "metadata": {},
   "outputs": [
    {
     "data": {
      "text/html": [
       "<div>\n",
       "<style scoped>\n",
       "    .dataframe tbody tr th:only-of-type {\n",
       "        vertical-align: middle;\n",
       "    }\n",
       "\n",
       "    .dataframe tbody tr th {\n",
       "        vertical-align: top;\n",
       "    }\n",
       "\n",
       "    .dataframe thead th {\n",
       "        text-align: right;\n",
       "    }\n",
       "</style>\n",
       "<table border=\"1\" class=\"dataframe\">\n",
       "  <thead>\n",
       "    <tr style=\"text-align: right;\">\n",
       "      <th></th>\n",
       "      <th>Year</th>\n",
       "      <th>Cash</th>\n",
       "      <th>Pv</th>\n",
       "    </tr>\n",
       "  </thead>\n",
       "  <tbody>\n",
       "    <tr>\n",
       "      <th>0</th>\n",
       "      <td>0</td>\n",
       "      <td>-500</td>\n",
       "      <td>0</td>\n",
       "    </tr>\n",
       "    <tr>\n",
       "      <th>1</th>\n",
       "      <td>1</td>\n",
       "      <td>195</td>\n",
       "      <td>0</td>\n",
       "    </tr>\n",
       "    <tr>\n",
       "      <th>2</th>\n",
       "      <td>2</td>\n",
       "      <td>127</td>\n",
       "      <td>0</td>\n",
       "    </tr>\n",
       "    <tr>\n",
       "      <th>3</th>\n",
       "      <td>3</td>\n",
       "      <td>44</td>\n",
       "      <td>0</td>\n",
       "    </tr>\n",
       "    <tr>\n",
       "      <th>4</th>\n",
       "      <td>4</td>\n",
       "      <td>42</td>\n",
       "      <td>0</td>\n",
       "    </tr>\n",
       "    <tr>\n",
       "      <th>5</th>\n",
       "      <td>5</td>\n",
       "      <td>196</td>\n",
       "      <td>0</td>\n",
       "    </tr>\n",
       "  </tbody>\n",
       "</table>\n",
       "</div>"
      ],
      "text/plain": [
       "   Year  Cash  Pv\n",
       "0     0  -500   0\n",
       "1     1   195   0\n",
       "2     2   127   0\n",
       "3     3    44   0\n",
       "4     4    42   0\n",
       "5     5   196   0"
      ]
     },
     "execution_count": 33,
     "metadata": {},
     "output_type": "execute_result"
    }
   ],
   "source": [
    "data = pd.DataFrame(\n",
    "    {\"Year\":year,\n",
    "    \"Cash\":cashFlow,\n",
    "    'Pv':repeat(0,len(year))\n",
    "})\n",
    "data"
   ]
  },
  {
   "cell_type": "markdown",
   "metadata": {},
   "source": [
    "... and now we can iterate through the rows and fill in the *Present Value* per year."
   ]
  },
  {
   "cell_type": "code",
   "execution_count": 34,
   "metadata": {},
   "outputs": [],
   "source": [
    "\n",
    "for _,r in data.iterrows():\n",
    "    data.loc[r.Year, 'PV'] = round(PV(r.Cash, interestRate, r.Year), 2 )"
   ]
  },
  {
   "cell_type": "markdown",
   "metadata": {},
   "source": [
    "Lastly, we'll take the sum to see if it was worth it."
   ]
  },
  {
   "cell_type": "code",
   "execution_count": 35,
   "metadata": {},
   "outputs": [
    {
     "data": {
      "text/plain": [
       "-13.749999999999972"
      ]
     },
     "execution_count": 35,
     "metadata": {},
     "output_type": "execute_result"
    }
   ],
   "source": [
    "data.PV.sum()"
   ]
  },
  {
   "cell_type": "markdown",
   "metadata": {},
   "source": [
    "Looks like we lost about $14 which is not that surprising since making money in Streaming can be quite challenging."
   ]
  }
 ],
 "metadata": {
  "kernelspec": {
   "display_name": "Python 3.10.7 64-bit",
   "language": "python",
   "name": "python3"
  },
  "language_info": {
   "codemirror_mode": {
    "name": "ipython",
    "version": 3
   },
   "file_extension": ".py",
   "mimetype": "text/x-python",
   "name": "python",
   "nbconvert_exporter": "python",
   "pygments_lexer": "ipython3",
   "version": "3.10.7"
  },
  "orig_nbformat": 4,
  "vscode": {
   "interpreter": {
    "hash": "e7370f93d1d0cde622a1f8e1c04877d8463912d04d973331ad4851f04de6915a"
   }
  }
 },
 "nbformat": 4,
 "nbformat_minor": 2
}
