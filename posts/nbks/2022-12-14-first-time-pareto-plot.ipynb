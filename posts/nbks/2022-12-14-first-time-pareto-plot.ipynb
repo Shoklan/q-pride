{
 "cells": [
  {
   "cell_type": "raw",
   "metadata": {},
   "source": [
    "---\n",
    "title: \"First Time Seeing the Pareto Plot\"\n",
    "description: People Use This?\n",
    "categories:\n",
    "- python\n",
    "- pareto\n",
    "- visualize\n",
    "date: '2022-12-15'\n",
    "layout: post\n",
    "toc: false\n",
    "\n",
    "---"
   ]
  },
  {
   "cell_type": "markdown",
   "metadata": {},
   "source": [
    "# Pareto Plot?\n",
    "I have spent a good amount of time taking online classes and reading books around Machine Learning, Data Science and Visualizations and have never heard of this plot before. I found it while looking around at Interview questions for a Data Analyst role and it would be a shame to have lost a job to not knowing this. Again though, I am not a stranger to this kind of content and **have never ever seen this plot before** discussed.\n",
    "\n",
    "Looking around at some of the cheat sheets, it does not even exist. In this cheatsheet, the closest is the **Column + line timeline** [here](https://raw.githubusercontent.com/ft-interactive/chart-doctor/master/visual-vocabulary/poster.png). And, if you search it by name in the r-charts site it also doesn't exist:\n",
    "![](images/2022-12-15/r-charts-no-pareto.png)"
   ]
  },
  {
   "cell_type": "markdown",
   "metadata": {},
   "source": [
    "# So, What is This?\n",
    "So, the **Pareto  Plot** is a plot which attempts to visualize which factor among a set of categories has the most impact mixing a Bar Chart and a Cumulative Sum Chart. There is no default plot for this in matplotlib nor for seaborn so it wil have to be made itself. In practice, this is just two graphs on the same plot using the same data so it's not too hard to solve."
   ]
  },
  {
   "cell_type": "code",
   "execution_count": 5,
   "metadata": {},
   "outputs": [],
   "source": [
    "#| include: false\n",
    "import matplotlib.pyplot as plt\n",
    "from faker import Faker\n",
    "import pandas as pd\n",
    "import random\n",
    "\n",
    "fake = Faker()"
   ]
  },
  {
   "cell_type": "markdown",
   "metadata": {},
   "source": [
    "The good news is that this has already been solved thanks to this wonderful gentleman [Tyler Marrs](https://tylermarrs.com/posts/pareto-plot-with-matplotlib/). So, we'll use his code - and take it apart and explain why it works, I might add - in a play example. And no, we're not going to be using his example since I honestly do not find it believable."
   ]
  },
  {
   "cell_type": "markdown",
   "metadata": {},
   "source": [
    "We're going to pretend that we are a Non-Profit that invests money in a bunch of different kinds of companies. And, we're worried about what our legal obligations are so we've cleaned the data so that we can only see the type of business it is along with the actual amount of investments. So, we'll make some pretend data with the `Faker` package."
   ]
  },
  {
   "cell_type": "code",
   "execution_count": 6,
   "metadata": {},
   "outputs": [],
   "source": [
    "# fake compay type and fake investments.\n",
    "company = [ fake.company_suffix() for _ in range(100)]\n",
    "investments = [ random.randint(1,10) for _ in range(100)]"
   ]
  },
  {
   "cell_type": "markdown",
   "metadata": {},
   "source": [
    "If you ask me this question normally, I would simply use a group by along some kind of aggregation function like this:"
   ]
  },
  {
   "cell_type": "code",
   "execution_count": 28,
   "metadata": {},
   "outputs": [
    {
     "data": {
      "text/html": [
       "<div>\n",
       "<style scoped>\n",
       "    .dataframe tbody tr th:only-of-type {\n",
       "        vertical-align: middle;\n",
       "    }\n",
       "\n",
       "    .dataframe tbody tr th {\n",
       "        vertical-align: top;\n",
       "    }\n",
       "\n",
       "    .dataframe thead th {\n",
       "        text-align: right;\n",
       "    }\n",
       "</style>\n",
       "<table border=\"1\" class=\"dataframe\">\n",
       "  <thead>\n",
       "    <tr style=\"text-align: right;\">\n",
       "      <th></th>\n",
       "      <th>company</th>\n",
       "      <th>investments</th>\n",
       "    </tr>\n",
       "  </thead>\n",
       "  <tbody>\n",
       "    <tr>\n",
       "      <th>3</th>\n",
       "      <td>Ltd</td>\n",
       "      <td>127</td>\n",
       "    </tr>\n",
       "    <tr>\n",
       "      <th>0</th>\n",
       "      <td>Group</td>\n",
       "      <td>117</td>\n",
       "    </tr>\n",
       "    <tr>\n",
       "      <th>5</th>\n",
       "      <td>and Sons</td>\n",
       "      <td>108</td>\n",
       "    </tr>\n",
       "    <tr>\n",
       "      <th>4</th>\n",
       "      <td>PLC</td>\n",
       "      <td>95</td>\n",
       "    </tr>\n",
       "    <tr>\n",
       "      <th>2</th>\n",
       "      <td>LLC</td>\n",
       "      <td>72</td>\n",
       "    </tr>\n",
       "    <tr>\n",
       "      <th>1</th>\n",
       "      <td>Inc</td>\n",
       "      <td>63</td>\n",
       "    </tr>\n",
       "  </tbody>\n",
       "</table>\n",
       "</div>"
      ],
      "text/plain": [
       "    company  investments\n",
       "3       Ltd          127\n",
       "0     Group          117\n",
       "5  and Sons          108\n",
       "4       PLC           95\n",
       "2       LLC           72\n",
       "1       Inc           63"
      ]
     },
     "execution_count": 28,
     "metadata": {},
     "output_type": "execute_result"
    }
   ],
   "source": [
    "data = pd.DataFrame({'company':company, 'investments':investments})\n",
    "sumData = data.groupby('company').sum().reset_index().sort_values('investments', ascending=False)\n",
    "sumData"
   ]
  },
  {
   "cell_type": "markdown",
   "metadata": {},
   "source": [
    "For me - and I would expect most people - this would work fine since this is what was asked for. But, someone is going to apparently ask me to give them the results as one of these Pareto Plots. Let's look through Tyler's code here and figure out what he's done step by step."
   ]
  },
  {
   "cell_type": "code",
   "execution_count": null,
   "metadata": {},
   "outputs": [],
   "source": [
    "xlabel = x\n",
    "ylabel = y\n",
    "tmp = df.sort_values(y, ascending=False)\n",
    "x = tmp[x].values\n",
    "y = tmp[y].values\n",
    "weights = y / y.sum()\n",
    "cumsum = weights.cumsum()"
   ]
  },
  {
   "cell_type": "markdown",
   "metadata": {},
   "source": [
    "Ok, so first we'll grab the names of the columns create a new data frame by sorting the `y` column descending. Then the values are extracted from both columns for later use. Next, the percentage is calculated by broadcasting the sum of values to divide by all of them. Then, the cumulative sum of all of percentages is added up."
   ]
  },
  {
   "cell_type": "code",
   "execution_count": null,
   "metadata": {},
   "outputs": [],
   "source": [
    "fig, ax1 = plt.subplots()\n",
    "ax1.bar(x, y)\n",
    "ax1.set_xlabel(xlabel)\n",
    "ax1.set_ylabel(ylabel)"
   ]
  },
  {
   "cell_type": "markdown",
   "metadata": {},
   "source": [
    "Next, a subplot is created at the bar graph is attached on one of the axis followed by labelling the X and Y axis labels."
   ]
  },
  {
   "cell_type": "code",
   "execution_count": null,
   "metadata": {},
   "outputs": [],
   "source": [
    "ax2 = ax1.twinx()\n",
    "ax2.plot(x, cumsum, '-ro', alpha=0.5)\n",
    "ax2.set_ylabel('', color='r')\n",
    "ax2.tick_params('y', colors='r')"
   ]
  },
  {
   "cell_type": "markdown",
   "metadata": {},
   "source": [
    "I had never seen the `twinx()` function before but my guess would of been that it was to share the first axis for the second subplot. And, that looks to be correct: `The twinx() function in pyplot module of matplotlib library is used to make and return a second axes that shares the x-axis.` The `-ro` is what is setting the red circle at each point; this is something from matplotlib I had to look up. The Y label is blanked and the colors are set to red."
   ]
  },
  {
   "cell_type": "code",
   "execution_count": null,
   "metadata": {},
   "outputs": [],
   "source": [
    "vals = ax2.get_yticks()\n",
    "ax2.set_yticklabels(['{:,.2%}'.format(x) for x in vals])"
   ]
  },
  {
   "cell_type": "markdown",
   "metadata": {},
   "source": [
    "The values from the the Y Axis are pulled and then their format is corrected/updated. That is a really nice touch."
   ]
  },
  {
   "cell_type": "code",
   "execution_count": null,
   "metadata": {},
   "outputs": [],
   "source": [
    "# hide y-labels on right side\n",
    "if not show_pct_y:\n",
    "    ax2.set_yticks([])\n",
    "\n",
    "formatted_weights = [pct_format.format(x) for x in cumsum]\n",
    "for i, txt in enumerate(formatted_weights):\n",
    "    ax2.annotate(txt, (x[i], cumsum[i]), fontweight='heavy')   "
   ]
  },
  {
   "cell_type": "markdown",
   "metadata": {},
   "source": [
    "There is a default argument to suppress the Y axis ticks - which I have kept as default. Then the percentage numbers are added to each of the points before they are displayed."
   ]
  },
  {
   "cell_type": "code",
   "execution_count": 29,
   "metadata": {},
   "outputs": [],
   "source": [
    "#| include: false\n",
    "def pareto_plot(df, x=None, y=None, title=None, show_pct_y=False, pct_format='{0:.0%}'):\n",
    "    xlabel = x\n",
    "    ylabel = y\n",
    "    tmp = df.sort_values(y, ascending=False)\n",
    "    x = tmp[x].values\n",
    "    y = tmp[y].values\n",
    "    weights = y / y.sum()\n",
    "    cumsum = weights.cumsum()\n",
    "    \n",
    "    fig, ax1 = plt.subplots()\n",
    "    ax1.bar(x, y)\n",
    "    ax1.set_xlabel(xlabel)\n",
    "    ax1.set_ylabel(ylabel)\n",
    "\n",
    "    ax2 = ax1.twinx()\n",
    "    ax2.plot(x, cumsum, '-ro', alpha=0.5)\n",
    "    ax2.set_ylabel('', color='r')\n",
    "    ax2.tick_params('y', colors='r')\n",
    "    \n",
    "    vals = ax2.get_yticks()\n",
    "    ax2.set_yticklabels(['{:,.2%}'.format(x) for x in vals])\n",
    "\n",
    "    # hide y-labels on right side\n",
    "    if not show_pct_y:\n",
    "        ax2.set_yticks([])\n",
    "    \n",
    "    formatted_weights = [pct_format.format(x) for x in cumsum]\n",
    "    for i, txt in enumerate(formatted_weights):\n",
    "        ax2.annotate(txt, (x[i], cumsum[i]), fontweight='heavy')    \n",
    "    \n",
    "    if title:\n",
    "        plt.title(title)\n",
    "    \n",
    "    plt.tight_layout()\n",
    "    plt.show()"
   ]
  },
  {
   "cell_type": "code",
   "execution_count": 32,
   "metadata": {},
   "outputs": [
    {
     "name": "stderr",
     "output_type": "stream",
     "text": [
      "/tmp/ipykernel_93175/2774039726.py:22: UserWarning: FixedFormatter should only be used together with FixedLocator\n",
      "  ax2.set_yticklabels(['{:,.2%}'.format(x) for x in vals])\n"
     ]
    },
    {
     "data": {
      "image/png": "[encoded data removed]",
      "text/plain": [
       "<Figure size 640x480 with 2 Axes>"
      ]
     },
     "metadata": {},
     "output_type": "display_data"
    }
   ],
   "source": [
    "#| warning: false\n",
    "pareto_plot(sumData, x='company', y='investments', title='Investment by Company Type')"
   ]
  },
  {
   "cell_type": "markdown",
   "metadata": {},
   "source": [
    "There we go! The `Ltd` business type is where we're investing most of our money. I have to admit that I don't find this chart very useful at all. Looking around, it appears that it is commonly used for helping visualize malfunctions in a manufacturing context. Maybe if there were 20 of these categories then I could perhaps see a use but I'm not well convinced of this. <br />\n",
    "Anyways, that's all there is to the **Pareto Plot**."
   ]
  }
 ],
 "metadata": {
  "kernelspec": {
   "display_name": "Python 3",
   "language": "python",
   "name": "python3"
  },
  "language_info": {
   "codemirror_mode": {
    "name": "ipython",
    "version": 3
   },
   "file_extension": ".py",
   "mimetype": "text/x-python",
   "name": "python",
   "nbconvert_exporter": "python",
   "pygments_lexer": "ipython3",
   "version": "3.9.2 (default, Feb 28 2021, 17:03:44) \n[GCC 10.2.1 20210110]"
  },
  "orig_nbformat": 4,
  "vscode": {
   "interpreter": {
    "hash": "916dbcbb3f70747c44a77c7bcd40155683ae19c65e1c03b4aa3499c5328201f1"
   }
  }
 },
 "nbformat": 4,
 "nbformat_minor": 2
}
