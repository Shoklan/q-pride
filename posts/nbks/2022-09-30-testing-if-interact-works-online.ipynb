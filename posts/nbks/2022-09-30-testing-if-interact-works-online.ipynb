{
 "cells": [
  {
   "cell_type": "raw",
   "metadata": {},
   "source": [
    "---\n",
    "aliases:\n",
    "- /fastai/interact/jupyter/lectures/machine learning/notebook/trial/2022/09/30/testing-if-interact-works-online\n",
    "badges: false\n",
    "categories:\n",
    "- machine learning\n",
    "- fastai\n",
    "- lectures\n",
    "- trial\n",
    "- notebook\n",
    "- jupyter\n",
    "- interact\n",
    "comments: false\n",
    "date: '2022-09-30'\n",
    "description: Does this Work For the Website? No.\n",
    "output-file: 2022-09-30-testing-if-interact-works-online.html\n",
    "title: Quick Test of Ipywidget Interact Function\n",
    "toc: false\n",
    "\n",
    "---\n",
    "\n"
   ]
  },
  {
   "cell_type": "markdown",
   "metadata": {},
   "source": [
    "While watching the Lectures from Fastai this time around, Jeremy used a Python Decorator called `@interact` which creates a function with interactable variables. This is really useful feature when you want to experiment with specific values - like Jeremy did in the lecture. However, there is a warning in the Lecture notes:\n",
    "> Reminder: If the sliders above aren't working for you, that's because the interactive features of this notebook don't work in Kaggle's Reader mode. They only work in Edit mode. Please click \"Copy & Edit\" in the top right of this window, then in the menu click Run and then Run all. Then you'll be able to use all the interactive sliders in this notebook."
   ]
  },
  {
   "cell_type": "markdown",
   "metadata": {},
   "source": [
    "Let's step that back a little bit for an explanation since some of this might not be familiar. Python **Decorators** are function annotations which modify the behavior of their function. There are excellent articles and descriptions about them but we'll use this one from the Python Docs as an example: `@cache` from the `functools` library."
   ]
  },
  {
   "cell_type": "code",
   "execution_count": 3,
   "metadata": {},
   "outputs": [],
   "source": [
    "from functools import cache\n",
    "@cache\n",
    "def factorial(n):\n",
    "    return n * factorial(n-1) if n else 1"
   ]
  },
  {
   "cell_type": "code",
   "execution_count": 4,
   "metadata": {},
   "outputs": [
    {
     "data": {
      "text/plain": [
       "3628800"
      ]
     },
     "execution_count": 4,
     "metadata": {},
     "output_type": "execute_result"
    }
   ],
   "source": [
    "factorial(10)      # no previously cached result, makes 11 recursive calls"
   ]
  },
  {
   "cell_type": "code",
   "execution_count": 5,
   "metadata": {},
   "outputs": [
    {
     "data": {
      "text/plain": [
       "120"
      ]
     },
     "execution_count": 5,
     "metadata": {},
     "output_type": "execute_result"
    }
   ],
   "source": [
    "factorial(5)       # just looks up cached value result"
   ]
  },
  {
   "cell_type": "code",
   "execution_count": 6,
   "metadata": {},
   "outputs": [
    {
     "data": {
      "text/plain": [
       "479001600"
      ]
     },
     "execution_count": 6,
     "metadata": {},
     "output_type": "execute_result"
    }
   ],
   "source": [
    "factorial(12)      # makes two new recursive calls, the other 10 are cached"
   ]
  },
  {
   "cell_type": "markdown",
   "metadata": {},
   "source": [
    "The *Decorator* `@cache` will modify the behavior of the function to record previous computations. In this way, you can save time using the modified function we've written. In the instance with Jeremy, the `@interact` call modifies the function written to allow us to modify the values in real time without ending execution nor updating the values in the code block. What we're really after here though is **Does this work with Fastpages**?"
   ]
  },
  {
   "cell_type": "markdown",
   "metadata": {},
   "source": [
    "Considering the warning given by Jeremy, I wouldn't expect this to work but I've gotten `R` working in these Jupyter Notebooks and uploaded them so let's try it.\n",
    "First, we'll need the imports to do this and then we'll simply use the example from the [Fastai Lecture Notebook](https://github.com/fastai/course22/blob/master/04-how-does-a-neural-net-really-work.ipynb) and then push it to the site."
   ]
  },
  {
   "cell_type": "code",
   "execution_count": 11,
   "metadata": {},
   "outputs": [],
   "source": [
    "from ipywidgets import interact\n",
    "import torch\n",
    "import matplotlib.pyplot as plt\n",
    "import numpy as np\n",
    "from functools import partial\n",
    "\n",
    "plt.rc('figure', dpi=90) # This modifies the size of the graphs"
   ]
  },
  {
   "cell_type": "code",
   "execution_count": 8,
   "metadata": {},
   "outputs": [],
   "source": [
    "# This is just from the notebook\n",
    "def plot_function(f, title=None, min=-2.1, max=2.1, color='r', ylim=None):\n",
    "    x = torch.linspace(min,max, 100)[:,None]\n",
    "    if ylim: plt.ylim(ylim)\n",
    "    plt.plot(x, f(x), color)\n",
    "    if title is not None: plt.title(title)\n",
    "\n",
    "# Define a quadratic function:\n",
    "def f(x): return 3*x**2 + 2*x + 1\n",
    "\n",
    "# define generic quadratic\n",
    "def quad(a, b, c, x): return a*x**2 + b*x + c\n",
    "def mk_quad(a,b,c): return partial(quad, a,b,c)\n",
    "\n",
    "def noise(x, scale): return np.random.normal(scale=scale, size=x.shape)\n",
    "def add_noise(x, mult, add): return x * (1+noise(x,mult)) + noise(x,add)"
   ]
  },
  {
   "cell_type": "code",
   "execution_count": 9,
   "metadata": {},
   "outputs": [
    {
     "data": {
      "image/png": "[encoded data removed]",
      "text/plain": [
       "<Figure size 432x288 with 1 Axes>"
      ]
     },
     "metadata": {
      "needs_background": "light"
     },
     "output_type": "display_data"
    }
   ],
   "source": [
    "plot_function(f, \"$3x^2 + 2x + 1$\")"
   ]
  },
  {
   "cell_type": "code",
   "execution_count": 12,
   "metadata": {},
   "outputs": [
    {
     "data": {
      "image/png": "[encoded data removed]",
      "text/plain": [
       "<Figure size 540x360 with 1 Axes>"
      ]
     },
     "metadata": {
      "needs_background": "light"
     },
     "output_type": "display_data"
    }
   ],
   "source": [
    "f2 = mk_quad(3,2,1)\n",
    "plot_function(f2)"
   ]
  },
  {
   "cell_type": "code",
   "execution_count": 13,
   "metadata": {},
   "outputs": [],
   "source": [
    "np.random.seed(42)\n",
    "\n",
    "x = torch.linspace(-2, 2, steps=20)[:,None]\n",
    "y = add_noise(f(x), 0.15, 1.5)"
   ]
  },
  {
   "cell_type": "code",
   "execution_count": 14,
   "metadata": {},
   "outputs": [
    {
     "data": {
      "application/vnd.jupyter.widget-view+json": {
       "model_id": "9cfdeb9d4e2242618bf61b68d2b9a88f",
       "version_major": 2,
       "version_minor": 0
      },
      "text/plain": [
       "interactive(children=(FloatSlider(value=1.1, description='a', max=3.3000000000000003, min=-1.1), FloatSlider(v…"
      ]
     },
     "metadata": {},
     "output_type": "display_data"
    }
   ],
   "source": [
    "@interact(a=1.1, b=1.1, c=1.1)\n",
    "def plot_quad(a, b, c):\n",
    "    plt.scatter(x,y)\n",
    "    plot_function(mk_quad(a,b,c), ylim=(-3,13))"
   ]
  },
  {
   "cell_type": "markdown",
   "metadata": {},
   "source": [
    "# Conclusion"
   ]
  },
  {
   "cell_type": "markdown",
   "metadata": {},
   "source": [
    "After pushing the page, it doesn't work. I assumed as much but was hopeful it would work."
   ]
  }
 ],
 "metadata": {
  "kernelspec": {
   "display_name": "Python 3.10.6 64-bit",
   "language": "python",
   "name": "python3"
  },
  "language_info": {
   "codemirror_mode": {
    "name": "ipython",
    "version": 3
   },
   "file_extension": ".py",
   "mimetype": "text/x-python",
   "name": "python",
   "nbconvert_exporter": "python",
   "pygments_lexer": "ipython3",
   "version": "3.10.6"
  },
  "orig_nbformat": 4,
  "vscode": {
   "interpreter": {
    "hash": "e7370f93d1d0cde622a1f8e1c04877d8463912d04d973331ad4851f04de6915a"
   }
  }
 },
 "nbformat": 4,
 "nbformat_minor": 2
}
