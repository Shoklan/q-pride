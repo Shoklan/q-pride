{
 "cells": [
  {
   "cell_type": "raw",
   "metadata": {},
   "source": [
    "---\n",
    "aliases:\n",
    "- /cycle/data/exploration/frontier/game/python/science/2022/09/27/cycle-weapons-best-general\n",
    "badges: false\n",
    "categories:\n",
    "- game\n",
    "- python\n",
    "- data\n",
    "- science\n",
    "- exploration\n",
    "- cycle\n",
    "- frontier\n",
    "comments: false\n",
    "date: '2022-09-27'\n",
    "description: What Is The Most Solid Single Category of Guns?\n",
    "output-file: 2022-09-27-cycle-weapons-best-general.html\n",
    "title: Some Data Exploration of The Cycle - Frontier Weapons\n",
    "toc: true\n",
    "\n",
    "---\n",
    "\n"
   ]
  },
  {
   "cell_type": "markdown",
   "metadata": {},
   "source": [
    "# Let's Start At the Beginning"
   ]
  },
  {
   "cell_type": "markdown",
   "metadata": {},
   "source": [
    "Recently, I've been playing as much **The Cycle: Frontier** as I can reasonably fit into my days along with getting work and projects done. If you're not familiar, it's a First Person Shooter game which focuses around dropping you to a planet in a semi-persistent world with loot and other players. The *Station* has some Corporations which hand out jobs as a pretty thin attempt to get you down to the planet. While down there, other players - who are not on your team - can decide how they want to deal with you: talk to you, lie to you, kill you, help you. I've heard these games be called both **Looter Shooters** as well as **Evac Shooters** and I'm admittidly not the biggest fan of these names."
   ]
  },
  {
   "cell_type": "markdown",
   "metadata": {},
   "source": [
    "As you build reputation with the different Corps on the *Station* you can unlock the ability to purchase weapons that each specializes in. Some of them are pretty fun and others are kind of terrible. Today we're going to do part of the process which was inspired by [this article](https://www.datafantic.com/create-an-auto-updating-dataset-on-kaggle-with-deepnote/) by Robert Ritz. In it, he goes over how to setup an automated Data Pipeline using [Kaggle](https://www.kaggle.com) and [Deepnote](https://deepnote.com) together. This part is going to be simply getting the data downloaded, cleaned and some observations about the guns in this game.\n",
    "I still need to do some more investigation about *Deepnote* - namely the price, utility and such before actually commiting to that part; I *should* be able to simply cut that part out and do the download/upload to *Kaggle* from one of my own servers but if it works then I'm going to use it."
   ]
  },
  {
   "cell_type": "markdown",
   "metadata": {},
   "source": [
    "## Scraping and Cleaning Cycle Data"
   ]
  },
  {
   "cell_type": "markdown",
   "metadata": {},
   "source": [
    "To start with, if you're following along, scraping data from the Cycle's Wiki page is annoying. There are tables inserted inside the tables which caused quite a problem while trying to simply pull the data from the website. So, if you're going to us this as the basis for your own tools then beware that you'll be certain to need to do some custom work.\n",
    "We'll start with the normal imports for a project like this."
   ]
  },
  {
   "cell_type": "code",
   "execution_count": 343,
   "metadata": {},
   "outputs": [],
   "source": [
    "import pandas as pd             # for the data.\n",
    "import numpy as np              # for a NaN type\n",
    "import matplotlib.pyplot as plt # For plotting, and some customization of plots.\n",
    "import seaborn as sns           # For pretty plots.\n",
    "\n",
    "# Fix the size of the graphs\n",
    "sns.set(rc={\"figure.figsize\":(11, 8)})"
   ]
  },
  {
   "cell_type": "markdown",
   "metadata": {},
   "source": [
    "The website we're going to be using for the data is their official wiki page - which can be found [here](https://thecyclefrontier.wiki/wiki/Main_Page). We'll be pulling from the weapons page which luckily contains a table of all the guns without having to join them. Pandas allows you to read html off a website and will attempt to pull any tables it finds on the webpage. Sadly, due to the nested tables and the way the tables are tagged this simply doesn't work here. But, you can ask `pd.read_html()` to look for an attribute and then pull the data from the page using that; it will still need to end up as a table though otherwise pandas will reject it. After doing quite a bit of exploration, I found that you can pull the total table with the attribute `zebra` as that is the only table which uses it. "
   ]
  },
  {
   "cell_type": "code",
   "execution_count": 344,
   "metadata": {},
   "outputs": [],
   "source": [
    "\n",
    "url = \"https://thecyclefrontier.wiki/wiki/Weapons\"\n",
    "site = pd.read_html(url, attrs={\"class\":\"zebra\"})[0]"
   ]
  },
  {
   "cell_type": "code",
   "execution_count": 308,
   "metadata": {},
   "outputs": [
    {
     "data": {
      "text/html": [
       "<div>\n",
       "<style scoped>\n",
       "    .dataframe tbody tr th:only-of-type {\n",
       "        vertical-align: middle;\n",
       "    }\n",
       "\n",
       "    .dataframe tbody tr th {\n",
       "        vertical-align: top;\n",
       "    }\n",
       "\n",
       "    .dataframe thead th {\n",
       "        text-align: right;\n",
       "    }\n",
       "</style>\n",
       "<table border=\"1\" class=\"dataframe\">\n",
       "  <thead>\n",
       "    <tr style=\"text-align: right;\">\n",
       "      <th></th>\n",
       "      <th>Image</th>\n",
       "      <th>Name</th>\n",
       "      <th>Type</th>\n",
       "      <th>Ammo</th>\n",
       "      <th>Faction</th>\n",
       "      <th>Buy Price</th>\n",
       "      <th>Sell Value</th>\n",
       "      <th>Rarity</th>\n",
       "      <th>Weight</th>\n",
       "      <th>Crit Multi</th>\n",
       "      <th>Damage</th>\n",
       "      <th>Pen</th>\n",
       "      <th>Mag Size</th>\n",
       "      <th>Refire Rate</th>\n",
       "      <th>RPM</th>\n",
       "      <th>Reload Time</th>\n",
       "      <th>Move Speed</th>\n",
       "      <th>Proj. Speed</th>\n",
       "    </tr>\n",
       "  </thead>\n",
       "  <tbody>\n",
       "    <tr>\n",
       "      <th>0</th>\n",
       "      <td>NaN</td>\n",
       "      <td>Advocate</td>\n",
       "      <td>AR</td>\n",
       "      <td>Medium</td>\n",
       "      <td>ICA</td>\n",
       "      <td>76000  K-Marks</td>\n",
       "      <td>22781  K-Marks</td>\n",
       "      <td>Epic</td>\n",
       "      <td>35.0</td>\n",
       "      <td>1.7</td>\n",
       "      <td>11.0</td>\n",
       "      <td>26.0</td>\n",
       "      <td>24.0</td>\n",
       "      <td>0.105</td>\n",
       "      <td>571.43</td>\n",
       "      <td>3.2</td>\n",
       "      <td>0.9</td>\n",
       "      <td>29000</td>\n",
       "    </tr>\n",
       "    <tr>\n",
       "      <th>1</th>\n",
       "      <td>76000.0</td>\n",
       "      <td>K-Marks</td>\n",
       "      <td>NaN</td>\n",
       "      <td>NaN</td>\n",
       "      <td>NaN</td>\n",
       "      <td>NaN</td>\n",
       "      <td>NaN</td>\n",
       "      <td>NaN</td>\n",
       "      <td>NaN</td>\n",
       "      <td>NaN</td>\n",
       "      <td>NaN</td>\n",
       "      <td>NaN</td>\n",
       "      <td>NaN</td>\n",
       "      <td>NaN</td>\n",
       "      <td>NaN</td>\n",
       "      <td>NaN</td>\n",
       "      <td>NaN</td>\n",
       "      <td>NaN</td>\n",
       "    </tr>\n",
       "    <tr>\n",
       "      <th>2</th>\n",
       "      <td>22781.0</td>\n",
       "      <td>K-Marks</td>\n",
       "      <td>NaN</td>\n",
       "      <td>NaN</td>\n",
       "      <td>NaN</td>\n",
       "      <td>NaN</td>\n",
       "      <td>NaN</td>\n",
       "      <td>NaN</td>\n",
       "      <td>NaN</td>\n",
       "      <td>NaN</td>\n",
       "      <td>NaN</td>\n",
       "      <td>NaN</td>\n",
       "      <td>NaN</td>\n",
       "      <td>NaN</td>\n",
       "      <td>NaN</td>\n",
       "      <td>NaN</td>\n",
       "      <td>NaN</td>\n",
       "      <td>NaN</td>\n",
       "    </tr>\n",
       "    <tr>\n",
       "      <th>3</th>\n",
       "      <td>NaN</td>\n",
       "      <td>AR-55 Autorifle</td>\n",
       "      <td>AR</td>\n",
       "      <td>Medium</td>\n",
       "      <td>Station</td>\n",
       "      <td>1700  K-Marks</td>\n",
       "      <td>524  K-Marks</td>\n",
       "      <td>Common</td>\n",
       "      <td>35.0</td>\n",
       "      <td>1.7</td>\n",
       "      <td>12.0</td>\n",
       "      <td>10.0</td>\n",
       "      <td>22.0</td>\n",
       "      <td>0.110</td>\n",
       "      <td>545.45</td>\n",
       "      <td>2.7</td>\n",
       "      <td>0.9</td>\n",
       "      <td>28000</td>\n",
       "    </tr>\n",
       "    <tr>\n",
       "      <th>4</th>\n",
       "      <td>1700.0</td>\n",
       "      <td>K-Marks</td>\n",
       "      <td>NaN</td>\n",
       "      <td>NaN</td>\n",
       "      <td>NaN</td>\n",
       "      <td>NaN</td>\n",
       "      <td>NaN</td>\n",
       "      <td>NaN</td>\n",
       "      <td>NaN</td>\n",
       "      <td>NaN</td>\n",
       "      <td>NaN</td>\n",
       "      <td>NaN</td>\n",
       "      <td>NaN</td>\n",
       "      <td>NaN</td>\n",
       "      <td>NaN</td>\n",
       "      <td>NaN</td>\n",
       "      <td>NaN</td>\n",
       "      <td>NaN</td>\n",
       "    </tr>\n",
       "  </tbody>\n",
       "</table>\n",
       "</div>"
      ],
      "text/plain": [
       "     Image             Name Type    Ammo  Faction       Buy Price  \\\n",
       "0      NaN         Advocate   AR  Medium      ICA  76000  K-Marks   \n",
       "1  76000.0          K-Marks  NaN     NaN      NaN             NaN   \n",
       "2  22781.0          K-Marks  NaN     NaN      NaN             NaN   \n",
       "3      NaN  AR-55 Autorifle   AR  Medium  Station   1700  K-Marks   \n",
       "4   1700.0          K-Marks  NaN     NaN      NaN             NaN   \n",
       "\n",
       "       Sell Value  Rarity  Weight  Crit Multi  Damage   Pen  Mag Size  \\\n",
       "0  22781  K-Marks    Epic    35.0         1.7    11.0  26.0      24.0   \n",
       "1             NaN     NaN     NaN         NaN     NaN   NaN       NaN   \n",
       "2             NaN     NaN     NaN         NaN     NaN   NaN       NaN   \n",
       "3    524  K-Marks  Common    35.0         1.7    12.0  10.0      22.0   \n",
       "4             NaN     NaN     NaN         NaN     NaN   NaN       NaN   \n",
       "\n",
       "   Refire Rate     RPM  Reload Time  Move Speed Proj. Speed  \n",
       "0        0.105  571.43          3.2         0.9       29000  \n",
       "1          NaN     NaN          NaN         NaN         NaN  \n",
       "2          NaN     NaN          NaN         NaN         NaN  \n",
       "3        0.110  545.45          2.7         0.9       28000  \n",
       "4          NaN     NaN          NaN         NaN         NaN  "
      ]
     },
     "execution_count": 308,
     "metadata": {},
     "output_type": "execute_result"
    }
   ],
   "source": [
    "site.head()"
   ]
  },
  {
   "cell_type": "markdown",
   "metadata": {},
   "source": [
    "You can see above that this works but the formatting is still a little messed up. Looking at the tables though, this will be an easy fix since rows which we don't need contain lots `NaN`. If you've never seen this before it just means `Not A Number` and is a special value used by numpy for this. So, let's clean the data for use. You can check a `Series` for these values using `.isna()` and then we'll pass the opposite indexes to pull those out:"
   ]
  },
  {
   "cell_type": "code",
   "execution_count": 345,
   "metadata": {},
   "outputs": [
    {
     "data": {
      "text/html": [
       "<div>\n",
       "<style scoped>\n",
       "    .dataframe tbody tr th:only-of-type {\n",
       "        vertical-align: middle;\n",
       "    }\n",
       "\n",
       "    .dataframe tbody tr th {\n",
       "        vertical-align: top;\n",
       "    }\n",
       "\n",
       "    .dataframe thead th {\n",
       "        text-align: right;\n",
       "    }\n",
       "</style>\n",
       "<table border=\"1\" class=\"dataframe\">\n",
       "  <thead>\n",
       "    <tr style=\"text-align: right;\">\n",
       "      <th></th>\n",
       "      <th>Image</th>\n",
       "      <th>Name</th>\n",
       "      <th>Type</th>\n",
       "      <th>Ammo</th>\n",
       "      <th>Faction</th>\n",
       "      <th>Buy Price</th>\n",
       "      <th>Sell Value</th>\n",
       "      <th>Rarity</th>\n",
       "      <th>Weight</th>\n",
       "      <th>Crit Multi</th>\n",
       "      <th>Damage</th>\n",
       "      <th>Pen</th>\n",
       "      <th>Mag Size</th>\n",
       "      <th>Refire Rate</th>\n",
       "      <th>RPM</th>\n",
       "      <th>Reload Time</th>\n",
       "      <th>Move Speed</th>\n",
       "      <th>Proj. Speed</th>\n",
       "    </tr>\n",
       "  </thead>\n",
       "  <tbody>\n",
       "    <tr>\n",
       "      <th>0</th>\n",
       "      <td>NaN</td>\n",
       "      <td>Advocate</td>\n",
       "      <td>AR</td>\n",
       "      <td>Medium</td>\n",
       "      <td>ICA</td>\n",
       "      <td>76000  K-Marks</td>\n",
       "      <td>22781  K-Marks</td>\n",
       "      <td>Epic</td>\n",
       "      <td>35.0</td>\n",
       "      <td>1.7</td>\n",
       "      <td>11.0</td>\n",
       "      <td>26.0</td>\n",
       "      <td>24.0</td>\n",
       "      <td>0.105</td>\n",
       "      <td>571.430</td>\n",
       "      <td>3.20</td>\n",
       "      <td>0.9</td>\n",
       "      <td>29000</td>\n",
       "    </tr>\n",
       "    <tr>\n",
       "      <th>3</th>\n",
       "      <td>NaN</td>\n",
       "      <td>AR-55 Autorifle</td>\n",
       "      <td>AR</td>\n",
       "      <td>Medium</td>\n",
       "      <td>Station</td>\n",
       "      <td>1700  K-Marks</td>\n",
       "      <td>524  K-Marks</td>\n",
       "      <td>Common</td>\n",
       "      <td>35.0</td>\n",
       "      <td>1.7</td>\n",
       "      <td>12.0</td>\n",
       "      <td>10.0</td>\n",
       "      <td>22.0</td>\n",
       "      <td>0.110</td>\n",
       "      <td>545.450</td>\n",
       "      <td>2.70</td>\n",
       "      <td>0.9</td>\n",
       "      <td>28000</td>\n",
       "    </tr>\n",
       "    <tr>\n",
       "      <th>6</th>\n",
       "      <td>NaN</td>\n",
       "      <td>Asp Flechette Gun</td>\n",
       "      <td>SMG</td>\n",
       "      <td>Light</td>\n",
       "      <td>Osiris</td>\n",
       "      <td>54000  K-Marks</td>\n",
       "      <td>16131  K-Marks</td>\n",
       "      <td>Epic</td>\n",
       "      <td>30.0</td>\n",
       "      <td>1.5</td>\n",
       "      <td>9.0</td>\n",
       "      <td>26.0</td>\n",
       "      <td>20.0</td>\n",
       "      <td>0.095</td>\n",
       "      <td>631.580</td>\n",
       "      <td>2.50</td>\n",
       "      <td>1.0</td>\n",
       "      <td>24000</td>\n",
       "    </tr>\n",
       "    <tr>\n",
       "      <th>9</th>\n",
       "      <td>NaN</td>\n",
       "      <td>B9 Trenchgun</td>\n",
       "      <td>Shotgun</td>\n",
       "      <td>Shotgun</td>\n",
       "      <td>Station</td>\n",
       "      <td>1200  K-Marks</td>\n",
       "      <td>371  K-Marks</td>\n",
       "      <td>Common</td>\n",
       "      <td>25.0</td>\n",
       "      <td>1.2</td>\n",
       "      <td>10.0</td>\n",
       "      <td>10.0</td>\n",
       "      <td>5.0</td>\n",
       "      <td>0.950</td>\n",
       "      <td>63.158</td>\n",
       "      <td>2.40</td>\n",
       "      <td>1.0</td>\n",
       "      <td>26000</td>\n",
       "    </tr>\n",
       "    <tr>\n",
       "      <th>12</th>\n",
       "      <td>NaN</td>\n",
       "      <td>Basilisk</td>\n",
       "      <td>DMR</td>\n",
       "      <td>Heavy</td>\n",
       "      <td>Osiris</td>\n",
       "      <td>275000  K-Marks</td>\n",
       "      <td>82448  K-Marks</td>\n",
       "      <td>Exotic</td>\n",
       "      <td>50.0</td>\n",
       "      <td>1.6</td>\n",
       "      <td>34.0</td>\n",
       "      <td>28.0</td>\n",
       "      <td>8.0</td>\n",
       "      <td>0.500</td>\n",
       "      <td>120.000</td>\n",
       "      <td>3.85</td>\n",
       "      <td>0.8</td>\n",
       "      <td>45000</td>\n",
       "    </tr>\n",
       "  </tbody>\n",
       "</table>\n",
       "</div>"
      ],
      "text/plain": [
       "    Image               Name     Type     Ammo  Faction        Buy Price  \\\n",
       "0     NaN           Advocate       AR   Medium      ICA   76000  K-Marks   \n",
       "3     NaN    AR-55 Autorifle       AR   Medium  Station    1700  K-Marks   \n",
       "6     NaN  Asp Flechette Gun      SMG    Light   Osiris   54000  K-Marks   \n",
       "9     NaN       B9 Trenchgun  Shotgun  Shotgun  Station    1200  K-Marks   \n",
       "12    NaN           Basilisk      DMR    Heavy   Osiris  275000  K-Marks   \n",
       "\n",
       "        Sell Value  Rarity  Weight  Crit Multi  Damage   Pen  Mag Size  \\\n",
       "0   22781  K-Marks    Epic    35.0         1.7    11.0  26.0      24.0   \n",
       "3     524  K-Marks  Common    35.0         1.7    12.0  10.0      22.0   \n",
       "6   16131  K-Marks    Epic    30.0         1.5     9.0  26.0      20.0   \n",
       "9     371  K-Marks  Common    25.0         1.2    10.0  10.0       5.0   \n",
       "12  82448  K-Marks  Exotic    50.0         1.6    34.0  28.0       8.0   \n",
       "\n",
       "    Refire Rate      RPM  Reload Time  Move Speed Proj. Speed  \n",
       "0         0.105  571.430         3.20         0.9       29000  \n",
       "3         0.110  545.450         2.70         0.9       28000  \n",
       "6         0.095  631.580         2.50         1.0       24000  \n",
       "9         0.950   63.158         2.40         1.0       26000  \n",
       "12        0.500  120.000         3.85         0.8       45000  "
      ]
     },
     "execution_count": 345,
     "metadata": {},
     "output_type": "execute_result"
    }
   ],
   "source": [
    "data = site[~site.Type.isna()]\n",
    "data.head()"
   ]
  },
  {
   "cell_type": "markdown",
   "metadata": {},
   "source": [
    "Looking much better now. Let's quickly check the data's types and make sure they make sense still."
   ]
  },
  {
   "cell_type": "code",
   "execution_count": 346,
   "metadata": {},
   "outputs": [
    {
     "name": "stdout",
     "output_type": "stream",
     "text": [
      "<class 'pandas.core.frame.DataFrame'>\n",
      "Int64Index: 26 entries, 0 to 75\n",
      "Data columns (total 18 columns):\n",
      " #   Column       Non-Null Count  Dtype  \n",
      "---  ------       --------------  -----  \n",
      " 0   Image        0 non-null      float64\n",
      " 1   Name         26 non-null     object \n",
      " 2   Type         26 non-null     object \n",
      " 3   Ammo         26 non-null     object \n",
      " 4   Faction      26 non-null     object \n",
      " 5   Buy Price    26 non-null     object \n",
      " 6   Sell Value   26 non-null     object \n",
      " 7   Rarity       26 non-null     object \n",
      " 8   Weight       26 non-null     float64\n",
      " 9   Crit Multi   26 non-null     float64\n",
      " 10  Damage       26 non-null     float64\n",
      " 11  Pen          26 non-null     float64\n",
      " 12  Mag Size     26 non-null     float64\n",
      " 13  Refire Rate  26 non-null     float64\n",
      " 14  RPM          26 non-null     float64\n",
      " 15  Reload Time  26 non-null     float64\n",
      " 16  Move Speed   26 non-null     float64\n",
      " 17  Proj. Speed  26 non-null     object \n",
      "dtypes: float64(10), object(8)\n",
      "memory usage: 3.9+ KB\n"
     ]
    }
   ],
   "source": [
    "data.info()"
   ]
  },
  {
   "cell_type": "markdown",
   "metadata": {},
   "source": [
    "Something is wrong with the `Proj. Speed` at this point since it shouldn't be an object but instead should be a number. Checking the values we find that there are string values in here."
   ]
  },
  {
   "cell_type": "code",
   "execution_count": 347,
   "metadata": {},
   "outputs": [
    {
     "data": {
      "text/plain": [
       "array(['29000', '28000', '24000', '26000', '45000', '50000', 'Hitscan',\n",
       "       '30000', '60000', '40000', '70000', '4000', '35000', '34000'],\n",
       "      dtype=object)"
      ]
     },
     "execution_count": 347,
     "metadata": {},
     "output_type": "execute_result"
    }
   ],
   "source": [
    "# There is a hitscan in there; how should we deal with that?\n",
    "data['Proj. Speed'].unique()"
   ]
  },
  {
   "cell_type": "markdown",
   "metadata": {},
   "source": [
    "The value of `Hitscan` is preventing the conversion to numbers. I didn't realize any of the guns in this game were hitscan at all.\n",
    "Which weapons are these?"
   ]
  },
  {
   "cell_type": "code",
   "execution_count": 348,
   "metadata": {},
   "outputs": [
    {
     "data": {
      "text/html": [
       "<div>\n",
       "<style scoped>\n",
       "    .dataframe tbody tr th:only-of-type {\n",
       "        vertical-align: middle;\n",
       "    }\n",
       "\n",
       "    .dataframe tbody tr th {\n",
       "        vertical-align: top;\n",
       "    }\n",
       "\n",
       "    .dataframe thead th {\n",
       "        text-align: right;\n",
       "    }\n",
       "</style>\n",
       "<table border=\"1\" class=\"dataframe\">\n",
       "  <thead>\n",
       "    <tr style=\"text-align: right;\">\n",
       "      <th></th>\n",
       "      <th>Name</th>\n",
       "      <th>Proj. Speed</th>\n",
       "    </tr>\n",
       "  </thead>\n",
       "  <tbody>\n",
       "    <tr>\n",
       "      <th>21</th>\n",
       "      <td>Gorgon</td>\n",
       "      <td>Hitscan</td>\n",
       "    </tr>\n",
       "    <tr>\n",
       "      <th>75</th>\n",
       "      <td>Zeus Beam</td>\n",
       "      <td>Hitscan</td>\n",
       "    </tr>\n",
       "  </tbody>\n",
       "</table>\n",
       "</div>"
      ],
      "text/plain": [
       "         Name Proj. Speed\n",
       "21     Gorgon     Hitscan\n",
       "75  Zeus Beam     Hitscan"
      ]
     },
     "execution_count": 348,
     "metadata": {},
     "output_type": "execute_result"
    }
   ],
   "source": [
    "data[ data['Proj. Speed'] == 'Hitscan' ][['Name', 'Proj. Speed']]"
   ]
  },
  {
   "cell_type": "markdown",
   "metadata": {},
   "source": [
    "Ok, so we'll need to replace this with something that wont hurt our analysis so we're also going to change these to `np.NaN`."
   ]
  },
  {
   "cell_type": "code",
   "execution_count": 349,
   "metadata": {},
   "outputs": [],
   "source": [
    "# Fix hitscan info:\n",
    "indx = data['Proj. Speed'] == 'Hitscan'\n",
    "data.loc[indx, 'Proj. Speed'] = np.NaN"
   ]
  },
  {
   "cell_type": "markdown",
   "metadata": {},
   "source": [
    "There are some other columns - `Sell Value`, `Buy Price` as examples - which have come in as `object` so they're being treated as strings. We need these to be numbers if we end up using them. And, after fixing the Hitscan problem we'll need to convert that column to numbers."
   ]
  },
  {
   "cell_type": "code",
   "execution_count": 350,
   "metadata": {},
   "outputs": [],
   "source": [
    "\n",
    "data = data.assign(\n",
    "    Sell = data['Sell Value'].str.replace(' K-Marks', '').astype('float'),\n",
    "    Buy = data['Buy Price'].str.replace(' K-Marks', '').astype('float'),\n",
    "    DPS = data['Refire Rate'] * data['Damage'],\n",
    "    Faction = data['Faction'].astype('category'),\n",
    "    Velocity = data['Proj. Speed'].astype('float')\n",
    ")\n",
    "data = data.assign(\n",
    "    perWeight = data['Sell'] / data['Weight']\n",
    ")\n",
    "\n",
    "# # This removes the legendary weapons\n",
    "# data = data.query('Faction != \"Printing\"')\n",
    "\n",
    "data = data.drop(labels = ['Sell Value', 'Buy Price', 'Image', 'Proj. Speed'],axis = 1)"
   ]
  },
  {
   "cell_type": "markdown",
   "metadata": {},
   "source": [
    "Now we've got data to work with!"
   ]
  },
  {
   "cell_type": "code",
   "execution_count": 351,
   "metadata": {},
   "outputs": [
    {
     "data": {
      "text/html": [
       "<div>\n",
       "<style scoped>\n",
       "    .dataframe tbody tr th:only-of-type {\n",
       "        vertical-align: middle;\n",
       "    }\n",
       "\n",
       "    .dataframe tbody tr th {\n",
       "        vertical-align: top;\n",
       "    }\n",
       "\n",
       "    .dataframe thead th {\n",
       "        text-align: right;\n",
       "    }\n",
       "</style>\n",
       "<table border=\"1\" class=\"dataframe\">\n",
       "  <thead>\n",
       "    <tr style=\"text-align: right;\">\n",
       "      <th></th>\n",
       "      <th>Name</th>\n",
       "      <th>Type</th>\n",
       "      <th>Ammo</th>\n",
       "      <th>Faction</th>\n",
       "      <th>Rarity</th>\n",
       "      <th>Weight</th>\n",
       "      <th>Crit Multi</th>\n",
       "      <th>Damage</th>\n",
       "      <th>Pen</th>\n",
       "      <th>Mag Size</th>\n",
       "      <th>Refire Rate</th>\n",
       "      <th>RPM</th>\n",
       "      <th>Reload Time</th>\n",
       "      <th>Move Speed</th>\n",
       "      <th>Sell</th>\n",
       "      <th>Buy</th>\n",
       "      <th>DPS</th>\n",
       "      <th>Velocity</th>\n",
       "      <th>perWeight</th>\n",
       "    </tr>\n",
       "  </thead>\n",
       "  <tbody>\n",
       "    <tr>\n",
       "      <th>0</th>\n",
       "      <td>Advocate</td>\n",
       "      <td>AR</td>\n",
       "      <td>Medium</td>\n",
       "      <td>ICA</td>\n",
       "      <td>Epic</td>\n",
       "      <td>35.0</td>\n",
       "      <td>1.7</td>\n",
       "      <td>11.0</td>\n",
       "      <td>26.0</td>\n",
       "      <td>24.0</td>\n",
       "      <td>0.105</td>\n",
       "      <td>571.430</td>\n",
       "      <td>3.20</td>\n",
       "      <td>0.9</td>\n",
       "      <td>22781.0</td>\n",
       "      <td>76000.0</td>\n",
       "      <td>1.155</td>\n",
       "      <td>29000.0</td>\n",
       "      <td>650.885714</td>\n",
       "    </tr>\n",
       "    <tr>\n",
       "      <th>3</th>\n",
       "      <td>AR-55 Autorifle</td>\n",
       "      <td>AR</td>\n",
       "      <td>Medium</td>\n",
       "      <td>Station</td>\n",
       "      <td>Common</td>\n",
       "      <td>35.0</td>\n",
       "      <td>1.7</td>\n",
       "      <td>12.0</td>\n",
       "      <td>10.0</td>\n",
       "      <td>22.0</td>\n",
       "      <td>0.110</td>\n",
       "      <td>545.450</td>\n",
       "      <td>2.70</td>\n",
       "      <td>0.9</td>\n",
       "      <td>524.0</td>\n",
       "      <td>1700.0</td>\n",
       "      <td>1.320</td>\n",
       "      <td>28000.0</td>\n",
       "      <td>14.971429</td>\n",
       "    </tr>\n",
       "    <tr>\n",
       "      <th>6</th>\n",
       "      <td>Asp Flechette Gun</td>\n",
       "      <td>SMG</td>\n",
       "      <td>Light</td>\n",
       "      <td>Osiris</td>\n",
       "      <td>Epic</td>\n",
       "      <td>30.0</td>\n",
       "      <td>1.5</td>\n",
       "      <td>9.0</td>\n",
       "      <td>26.0</td>\n",
       "      <td>20.0</td>\n",
       "      <td>0.095</td>\n",
       "      <td>631.580</td>\n",
       "      <td>2.50</td>\n",
       "      <td>1.0</td>\n",
       "      <td>16131.0</td>\n",
       "      <td>54000.0</td>\n",
       "      <td>0.855</td>\n",
       "      <td>24000.0</td>\n",
       "      <td>537.700000</td>\n",
       "    </tr>\n",
       "    <tr>\n",
       "      <th>9</th>\n",
       "      <td>B9 Trenchgun</td>\n",
       "      <td>Shotgun</td>\n",
       "      <td>Shotgun</td>\n",
       "      <td>Station</td>\n",
       "      <td>Common</td>\n",
       "      <td>25.0</td>\n",
       "      <td>1.2</td>\n",
       "      <td>10.0</td>\n",
       "      <td>10.0</td>\n",
       "      <td>5.0</td>\n",
       "      <td>0.950</td>\n",
       "      <td>63.158</td>\n",
       "      <td>2.40</td>\n",
       "      <td>1.0</td>\n",
       "      <td>371.0</td>\n",
       "      <td>1200.0</td>\n",
       "      <td>9.500</td>\n",
       "      <td>26000.0</td>\n",
       "      <td>14.840000</td>\n",
       "    </tr>\n",
       "    <tr>\n",
       "      <th>12</th>\n",
       "      <td>Basilisk</td>\n",
       "      <td>DMR</td>\n",
       "      <td>Heavy</td>\n",
       "      <td>Osiris</td>\n",
       "      <td>Exotic</td>\n",
       "      <td>50.0</td>\n",
       "      <td>1.6</td>\n",
       "      <td>34.0</td>\n",
       "      <td>28.0</td>\n",
       "      <td>8.0</td>\n",
       "      <td>0.500</td>\n",
       "      <td>120.000</td>\n",
       "      <td>3.85</td>\n",
       "      <td>0.8</td>\n",
       "      <td>82448.0</td>\n",
       "      <td>275000.0</td>\n",
       "      <td>17.000</td>\n",
       "      <td>45000.0</td>\n",
       "      <td>1648.960000</td>\n",
       "    </tr>\n",
       "  </tbody>\n",
       "</table>\n",
       "</div>"
      ],
      "text/plain": [
       "                 Name     Type     Ammo  Faction  Rarity  Weight  Crit Multi  \\\n",
       "0            Advocate       AR   Medium      ICA    Epic    35.0         1.7   \n",
       "3     AR-55 Autorifle       AR   Medium  Station  Common    35.0         1.7   \n",
       "6   Asp Flechette Gun      SMG    Light   Osiris    Epic    30.0         1.5   \n",
       "9        B9 Trenchgun  Shotgun  Shotgun  Station  Common    25.0         1.2   \n",
       "12           Basilisk      DMR    Heavy   Osiris  Exotic    50.0         1.6   \n",
       "\n",
       "    Damage   Pen  Mag Size  Refire Rate      RPM  Reload Time  Move Speed  \\\n",
       "0     11.0  26.0      24.0        0.105  571.430         3.20         0.9   \n",
       "3     12.0  10.0      22.0        0.110  545.450         2.70         0.9   \n",
       "6      9.0  26.0      20.0        0.095  631.580         2.50         1.0   \n",
       "9     10.0  10.0       5.0        0.950   63.158         2.40         1.0   \n",
       "12    34.0  28.0       8.0        0.500  120.000         3.85         0.8   \n",
       "\n",
       "       Sell       Buy     DPS  Velocity    perWeight  \n",
       "0   22781.0   76000.0   1.155   29000.0   650.885714  \n",
       "3     524.0    1700.0   1.320   28000.0    14.971429  \n",
       "6   16131.0   54000.0   0.855   24000.0   537.700000  \n",
       "9     371.0    1200.0   9.500   26000.0    14.840000  \n",
       "12  82448.0  275000.0  17.000   45000.0  1648.960000  "
      ]
     },
     "execution_count": 351,
     "metadata": {},
     "output_type": "execute_result"
    }
   ],
   "source": [
    "data.head()"
   ]
  },
  {
   "cell_type": "markdown",
   "metadata": {},
   "source": [
    "## What Do the Weapons Look Like?"
   ]
  },
  {
   "cell_type": "markdown",
   "metadata": {},
   "source": [
    "A word here about some extra cleaning which I've elected to do. Looking at the data, there are two more problems that should be brought up here. The first is that I'm taking Snipers out of the analysis. The reason for this is that there really are only two of them and everyone understands why they're as powerful as they are."
   ]
  },
  {
   "cell_type": "code",
   "execution_count": 352,
   "metadata": {},
   "outputs": [
    {
     "data": {
      "text/plain": [
       "Text(0.5, 1.0, 'The Reason Snipers Rule')"
      ]
     },
     "execution_count": 352,
     "metadata": {},
     "output_type": "execute_result"
    },
    {
     "data": {
      "image/png": "[encoded data removed]",
      "text/plain": [
       "<Figure size 792x576 with 1 Axes>"
      ]
     },
     "metadata": {},
     "output_type": "display_data"
    }
   ],
   "source": [
    "sns.scatterplot(x = data.Damage, y = data['Pen'], hue = data.Type)\n",
    "plt.title(\"The Reason Snipers Rule\", size=15, fontweight='bold')"
   ]
  },
  {
   "cell_type": "markdown",
   "metadata": {},
   "source": [
    "The second adjustment is that I'm pulling the ICA Garuntee out of the analysis because it's the only one of its kind."
   ]
  },
  {
   "cell_type": "code",
   "execution_count": 334,
   "metadata": {},
   "outputs": [
    {
     "data": {
      "text/html": [
       "<div>\n",
       "<style scoped>\n",
       "    .dataframe tbody tr th:only-of-type {\n",
       "        vertical-align: middle;\n",
       "    }\n",
       "\n",
       "    .dataframe tbody tr th {\n",
       "        vertical-align: top;\n",
       "    }\n",
       "\n",
       "    .dataframe thead th {\n",
       "        text-align: right;\n",
       "    }\n",
       "</style>\n",
       "<table border=\"1\" class=\"dataframe\">\n",
       "  <thead>\n",
       "    <tr style=\"text-align: right;\">\n",
       "      <th></th>\n",
       "      <th>Name</th>\n",
       "      <th>Type</th>\n",
       "    </tr>\n",
       "  </thead>\n",
       "  <tbody>\n",
       "    <tr>\n",
       "      <th>27</th>\n",
       "      <td>ICA Guarantee</td>\n",
       "      <td>LMG</td>\n",
       "    </tr>\n",
       "  </tbody>\n",
       "</table>\n",
       "</div>"
      ],
      "text/plain": [
       "             Name Type\n",
       "27  ICA Guarantee  LMG"
      ]
     },
     "execution_count": 334,
     "metadata": {},
     "output_type": "execute_result"
    }
   ],
   "source": [
    "data.query('Type == \"LMG\"')[['Name', 'Type']]"
   ]
  },
  {
   "cell_type": "markdown",
   "metadata": {},
   "source": [
    "And, the same for the Komrad for the same reason."
   ]
  },
  {
   "cell_type": "code",
   "execution_count": 354,
   "metadata": {},
   "outputs": [
    {
     "data": {
      "text/html": [
       "<div>\n",
       "<style scoped>\n",
       "    .dataframe tbody tr th:only-of-type {\n",
       "        vertical-align: middle;\n",
       "    }\n",
       "\n",
       "    .dataframe tbody tr th {\n",
       "        vertical-align: top;\n",
       "    }\n",
       "\n",
       "    .dataframe thead th {\n",
       "        text-align: right;\n",
       "    }\n",
       "</style>\n",
       "<table border=\"1\" class=\"dataframe\">\n",
       "  <thead>\n",
       "    <tr style=\"text-align: right;\">\n",
       "      <th></th>\n",
       "      <th>Name</th>\n",
       "      <th>Type</th>\n",
       "    </tr>\n",
       "  </thead>\n",
       "  <tbody>\n",
       "    <tr>\n",
       "      <th>45</th>\n",
       "      <td>KOMRAD</td>\n",
       "      <td>Launcher</td>\n",
       "    </tr>\n",
       "  </tbody>\n",
       "</table>\n",
       "</div>"
      ],
      "text/plain": [
       "      Name      Type\n",
       "45  KOMRAD  Launcher"
      ]
     },
     "execution_count": 354,
     "metadata": {},
     "output_type": "execute_result"
    }
   ],
   "source": [
    "data.query('Type == \"Launcher\"')[['Name', 'Type']]"
   ]
  },
  {
   "cell_type": "code",
   "execution_count": 355,
   "metadata": {},
   "outputs": [],
   "source": [
    "#| include: false\n",
    "idx = data.Type == \"LMG\"\n",
    "data = data[ ~idx]\n",
    "\n",
    "idx = data.Type == \"Sniper\"\n",
    "data = data[~idx]\n",
    "\n",
    "idx = data.Type == \"Launcher\"\n",
    "data = data[~idx]"
   ]
  },
  {
   "cell_type": "markdown",
   "metadata": {},
   "source": [
    "So, let's start with what we all care about the most: Damage."
   ]
  },
  {
   "cell_type": "code",
   "execution_count": 382,
   "metadata": {},
   "outputs": [
    {
     "data": {
      "text/html": [
       "<div>\n",
       "<style scoped>\n",
       "    .dataframe tbody tr th:only-of-type {\n",
       "        vertical-align: middle;\n",
       "    }\n",
       "\n",
       "    .dataframe tbody tr th {\n",
       "        vertical-align: top;\n",
       "    }\n",
       "\n",
       "    .dataframe thead th {\n",
       "        text-align: right;\n",
       "    }\n",
       "</style>\n",
       "<table border=\"1\" class=\"dataframe\">\n",
       "  <thead>\n",
       "    <tr style=\"text-align: right;\">\n",
       "      <th>Type</th>\n",
       "      <th>DMR</th>\n",
       "      <th>Pistol</th>\n",
       "      <th>AR</th>\n",
       "      <th>SMG</th>\n",
       "      <th>Shotgun</th>\n",
       "    </tr>\n",
       "  </thead>\n",
       "  <tbody>\n",
       "    <tr>\n",
       "      <th>Damage</th>\n",
       "      <td>32.0</td>\n",
       "      <td>17.666667</td>\n",
       "      <td>11.0</td>\n",
       "      <td>9.25</td>\n",
       "      <td>9.25</td>\n",
       "    </tr>\n",
       "  </tbody>\n",
       "</table>\n",
       "</div>"
      ],
      "text/plain": [
       "Type     DMR     Pistol    AR   SMG  Shotgun\n",
       "Damage  32.0  17.666667  11.0  9.25     9.25"
      ]
     },
     "execution_count": 382,
     "metadata": {},
     "output_type": "execute_result"
    }
   ],
   "source": [
    "data[['Type', 'Damage']].groupby('Type').mean().sort_values('Damage', ascending=False).T"
   ]
  },
  {
   "cell_type": "markdown",
   "metadata": {},
   "source": [
    "So, DMR's do about twice as much damage as the next category down. From this, we'd expect DMRs to be used quite a bit; what weapons are in this category?"
   ]
  },
  {
   "cell_type": "code",
   "execution_count": 383,
   "metadata": {},
   "outputs": [
    {
     "data": {
      "text/html": [
       "<div>\n",
       "<style scoped>\n",
       "    .dataframe tbody tr th:only-of-type {\n",
       "        vertical-align: middle;\n",
       "    }\n",
       "\n",
       "    .dataframe tbody tr th {\n",
       "        vertical-align: top;\n",
       "    }\n",
       "\n",
       "    .dataframe thead th {\n",
       "        text-align: right;\n",
       "    }\n",
       "</style>\n",
       "<table border=\"1\" class=\"dataframe\">\n",
       "  <thead>\n",
       "    <tr style=\"text-align: right;\">\n",
       "      <th></th>\n",
       "      <th>Name</th>\n",
       "      <th>Type</th>\n",
       "      <th>Ammo</th>\n",
       "      <th>Faction</th>\n",
       "      <th>Rarity</th>\n",
       "      <th>Weight</th>\n",
       "      <th>Crit Multi</th>\n",
       "      <th>Damage</th>\n",
       "      <th>Pen</th>\n",
       "      <th>Mag Size</th>\n",
       "      <th>Refire Rate</th>\n",
       "      <th>RPM</th>\n",
       "      <th>Reload Time</th>\n",
       "      <th>Move Speed</th>\n",
       "      <th>Sell</th>\n",
       "      <th>Buy</th>\n",
       "      <th>DPS</th>\n",
       "      <th>Velocity</th>\n",
       "      <th>perWeight</th>\n",
       "    </tr>\n",
       "  </thead>\n",
       "  <tbody>\n",
       "    <tr>\n",
       "      <th>12</th>\n",
       "      <td>Basilisk</td>\n",
       "      <td>DMR</td>\n",
       "      <td>Heavy</td>\n",
       "      <td>Osiris</td>\n",
       "      <td>Exotic</td>\n",
       "      <td>50.0</td>\n",
       "      <td>1.6</td>\n",
       "      <td>34.0</td>\n",
       "      <td>28.0</td>\n",
       "      <td>8.0</td>\n",
       "      <td>0.5</td>\n",
       "      <td>120.0</td>\n",
       "      <td>3.85</td>\n",
       "      <td>0.8</td>\n",
       "      <td>82448.0</td>\n",
       "      <td>275000.0</td>\n",
       "      <td>17.0</td>\n",
       "      <td>45000.0</td>\n",
       "      <td>1648.96</td>\n",
       "    </tr>\n",
       "    <tr>\n",
       "      <th>36</th>\n",
       "      <td>KBR Longshot</td>\n",
       "      <td>DMR</td>\n",
       "      <td>Heavy</td>\n",
       "      <td>Korolev</td>\n",
       "      <td>Epic</td>\n",
       "      <td>50.0</td>\n",
       "      <td>1.5</td>\n",
       "      <td>35.0</td>\n",
       "      <td>26.0</td>\n",
       "      <td>12.0</td>\n",
       "      <td>0.6</td>\n",
       "      <td>100.0</td>\n",
       "      <td>3.55</td>\n",
       "      <td>0.9</td>\n",
       "      <td>29776.0</td>\n",
       "      <td>99000.0</td>\n",
       "      <td>21.0</td>\n",
       "      <td>40000.0</td>\n",
       "      <td>595.52</td>\n",
       "    </tr>\n",
       "    <tr>\n",
       "      <th>51</th>\n",
       "      <td>Lacerator</td>\n",
       "      <td>DMR</td>\n",
       "      <td>Heavy</td>\n",
       "      <td>ICA</td>\n",
       "      <td>Rare</td>\n",
       "      <td>50.0</td>\n",
       "      <td>1.5</td>\n",
       "      <td>27.0</td>\n",
       "      <td>23.0</td>\n",
       "      <td>16.0</td>\n",
       "      <td>0.4</td>\n",
       "      <td>150.0</td>\n",
       "      <td>2.55</td>\n",
       "      <td>0.9</td>\n",
       "      <td>12203.0</td>\n",
       "      <td>41000.0</td>\n",
       "      <td>10.8</td>\n",
       "      <td>35000.0</td>\n",
       "      <td>244.06</td>\n",
       "    </tr>\n",
       "  </tbody>\n",
       "</table>\n",
       "</div>"
      ],
      "text/plain": [
       "            Name Type   Ammo  Faction  Rarity  Weight  Crit Multi  Damage  \\\n",
       "12      Basilisk  DMR  Heavy   Osiris  Exotic    50.0         1.6    34.0   \n",
       "36  KBR Longshot  DMR  Heavy  Korolev    Epic    50.0         1.5    35.0   \n",
       "51     Lacerator  DMR  Heavy      ICA    Rare    50.0         1.5    27.0   \n",
       "\n",
       "     Pen  Mag Size  Refire Rate    RPM  Reload Time  Move Speed     Sell  \\\n",
       "12  28.0       8.0          0.5  120.0         3.85         0.8  82448.0   \n",
       "36  26.0      12.0          0.6  100.0         3.55         0.9  29776.0   \n",
       "51  23.0      16.0          0.4  150.0         2.55         0.9  12203.0   \n",
       "\n",
       "         Buy   DPS  Velocity  perWeight  \n",
       "12  275000.0  17.0   45000.0    1648.96  \n",
       "36   99000.0  21.0   40000.0     595.52  \n",
       "51   41000.0  10.8   35000.0     244.06  "
      ]
     },
     "execution_count": 383,
     "metadata": {},
     "output_type": "execute_result"
    }
   ],
   "source": [
    "data.query('Type == \"DMR\"')"
   ]
  },
  {
   "cell_type": "markdown",
   "metadata": {},
   "source": [
    "All these weapons get used in my experience - and from watching others play the game. Although, the lowest tier gun in here is `Rare` so that probably helps a lot.\n",
    "Note that the `Rarity` of a gun informs the `Pen` for the Gun and therefore adds more damage when being fired. So, the higher the tier of `Rarity` therefore the more damage the gun can do per hit - and they have higher damage counts as well.\n"
   ]
  },
  {
   "cell_type": "markdown",
   "metadata": {},
   "source": [
    "Considering this, these guns have a limit placed on their Rate of Fire."
   ]
  },
  {
   "cell_type": "code",
   "execution_count": 384,
   "metadata": {},
   "outputs": [
    {
     "data": {
      "text/html": [
       "<div>\n",
       "<style scoped>\n",
       "    .dataframe tbody tr th:only-of-type {\n",
       "        vertical-align: middle;\n",
       "    }\n",
       "\n",
       "    .dataframe tbody tr th {\n",
       "        vertical-align: top;\n",
       "    }\n",
       "\n",
       "    .dataframe thead th {\n",
       "        text-align: right;\n",
       "    }\n",
       "</style>\n",
       "<table border=\"1\" class=\"dataframe\">\n",
       "  <thead>\n",
       "    <tr style=\"text-align: right;\">\n",
       "      <th>Type</th>\n",
       "      <th>Shotgun</th>\n",
       "      <th>DMR</th>\n",
       "      <th>Pistol</th>\n",
       "      <th>AR</th>\n",
       "      <th>SMG</th>\n",
       "    </tr>\n",
       "  </thead>\n",
       "  <tbody>\n",
       "    <tr>\n",
       "      <th>Refire Rate</th>\n",
       "      <td>0.77625</td>\n",
       "      <td>0.5</td>\n",
       "      <td>0.288333</td>\n",
       "      <td>0.1475</td>\n",
       "      <td>0.08125</td>\n",
       "    </tr>\n",
       "  </tbody>\n",
       "</table>\n",
       "</div>"
      ],
      "text/plain": [
       "Type         Shotgun  DMR    Pistol      AR      SMG\n",
       "Refire Rate  0.77625  0.5  0.288333  0.1475  0.08125"
      ]
     },
     "execution_count": 384,
     "metadata": {},
     "output_type": "execute_result"
    }
   ],
   "source": [
    "data[['Type', 'Refire Rate']].groupby('Type').mean().sort_values('Refire Rate', ascending=False).T"
   ]
  },
  {
   "cell_type": "markdown",
   "metadata": {},
   "source": [
    "This is a match in the order of the columns - ignoring the Shotgun Category. Shotguns have a low damage (per pellet), and a high re-fire rate. That's obviously because the damage per pellet masks how lethal Shotguns are: See any Shattergun Montage basically.\n",
    "\n",
    "So, it looks like either this was coincidence or they're intentionally using this to offset damage."
   ]
  },
  {
   "cell_type": "code",
   "execution_count": 400,
   "metadata": {},
   "outputs": [
    {
     "data": {
      "text/plain": [
       "Text(0.5, 1.0, 'Damage With Refire Rate')"
      ]
     },
     "execution_count": 400,
     "metadata": {},
     "output_type": "execute_result"
    },
    {
     "data": {
      "image/png": "[encoded data removed]",
      "text/plain": [
       "<Figure size 792x576 with 1 Axes>"
      ]
     },
     "metadata": {},
     "output_type": "display_data"
    }
   ],
   "source": [
    "sns.scatterplot(x = data.Damage, y = data['Refire Rate'], hue = data.Type)\n",
    "plt.title(\"Damage With Refire Rate\", size=15, fontweight='bold')"
   ]
  },
  {
   "cell_type": "markdown",
   "metadata": {},
   "source": [
    "If we check the relationship, the Damage also quite high against the constraint on the Refire Rate. These guns appear really strong in comparison to everything else - setting aside Snipers of course. But is it really? Let's **Normalize** the Damage column and see if it really is that far out. If you're not familiar with *Normalization* then this is a common process in Machine Learning where the values of a column are scaled based on the minimum and maximum values."
   ]
  },
  {
   "cell_type": "code",
   "execution_count": 412,
   "metadata": {},
   "outputs": [
    {
     "data": {
      "text/plain": [
       "Text(0.5, 1.0, 'Normalized Damage With Normalized Refire Rate')"
      ]
     },
     "execution_count": 412,
     "metadata": {},
     "output_type": "execute_result"
    },
    {
     "data": {
      "image/png": "[encoded data removed]",
      "text/plain": [
       "<Figure size 792x576 with 1 Axes>"
      ]
     },
     "metadata": {},
     "output_type": "display_data"
    }
   ],
   "source": [
    "def normalize(column): return ( column - column.min()) / (column.max() - column.min())\n",
    "round(normalize(data['Refire Rate']).mean(), 2)\n",
    "\n",
    "# Lets save this and re-plot:\n",
    "data['Norm Refire'] = round(normalize(data['Refire Rate']), 2)\n",
    "data['Norm Damage'] = round(normalize(data['Damage']), 2)\n",
    "\n",
    "\n",
    "# Re-plot:\n",
    "sns.scatterplot(x = data['Norm Damage'], y = data['Norm Refire'], hue = data.Type)\n",
    "plt.title(\"Normalized Damage With Normalized Refire Rate\", size=15, fontweight='bold')"
   ]
  },
  {
   "cell_type": "markdown",
   "metadata": {},
   "source": [
    " Normalizing doesn't look to have changed anyting aside from the scale so that still looks really solid. And, If we check the **Critical Multiplier** - which is a stand in for `HeadShots` since I believe the Groin also counts - the reward is about average for accuracy."
   ]
  },
  {
   "cell_type": "code",
   "execution_count": 401,
   "metadata": {},
   "outputs": [
    {
     "data": {
      "text/plain": [
       "Text(0.5, 1.0, 'Damage With Critical Multiplier')"
      ]
     },
     "execution_count": 401,
     "metadata": {},
     "output_type": "execute_result"
    },
    {
     "data": {
      "image/png": "[encoded data removed]",
      "text/plain": [
       "<Figure size 792x576 with 1 Axes>"
      ]
     },
     "metadata": {},
     "output_type": "display_data"
    }
   ],
   "source": [
    "sns.scatterplot(x = data.Damage, y = data['Crit Multi'], hue = data.Type)\n",
    "plt.title(\"Damage With Critical Multiplier\", size=15, fontweight='bold')"
   ]
  },
  {
   "cell_type": "markdown",
   "metadata": {},
   "source": [
    "# Conclusions"
   ]
  },
  {
   "cell_type": "markdown",
   "metadata": {},
   "source": [
    "All in all, the DMR seems like a solid contender for best all around weapon type in the game. If you're going in budget with a single gun then I'd recommend a DMR.\n",
    "We'll see if this is till true in Season 2."
   ]
  }
 ],
 "metadata": {
  "kernelspec": {
   "display_name": "Python 3.10.6 64-bit",
   "language": "python",
   "name": "python3"
  },
  "language_info": {
   "codemirror_mode": {
    "name": "ipython",
    "version": 3
   },
   "file_extension": ".py",
   "mimetype": "text/x-python",
   "name": "python",
   "nbconvert_exporter": "python",
   "pygments_lexer": "ipython3",
   "version": "3.10.7"
  },
  "orig_nbformat": 4,
  "vscode": {
   "interpreter": {
    "hash": "e7370f93d1d0cde622a1f8e1c04877d8463912d04d973331ad4851f04de6915a"
   }
  }
 },
 "nbformat": 4,
 "nbformat_minor": 2
}
